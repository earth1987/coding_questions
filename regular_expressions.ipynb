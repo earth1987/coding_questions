{
  "nbformat": 4,
  "nbformat_minor": 0,
  "metadata": {
    "colab": {
      "provenance": [],
      "toc_visible": true
    },
    "kernelspec": {
      "name": "python3",
      "display_name": "Python 3"
    },
    "language_info": {
      "name": "python"
    }
  },
  "cells": [
    {
      "cell_type": "code",
      "execution_count": null,
      "metadata": {
        "id": "YvlPTPg6XN7P"
      },
      "outputs": [],
      "source": [
        "# Import module\n",
        "import re"
      ]
    },
    {
      "cell_type": "markdown",
      "source": [
        "## **Introduction**"
      ],
      "metadata": {
        "id": "hwwwft_jdB1c"
      }
    },
    {
      "cell_type": "markdown",
      "source": [
        "* Regular expressions are a powerful language for matching text patterns.\n",
        "\n",
        "* The Python \"re\" module provides regular expression support."
      ],
      "metadata": {
        "id": "QzWmTEQ3XYJ2"
      }
    },
    {
      "cell_type": "markdown",
      "source": [
        "# **Simple patterns**"
      ],
      "metadata": {
        "id": "Ywws-wL6kicW"
      }
    },
    {
      "cell_type": "markdown",
      "source": [
        "## **Metacharacters**"
      ],
      "metadata": {
        "id": "g8O370hmdFMn"
      }
    },
    {
      "cell_type": "markdown",
      "source": [
        "* Most letters and characters will simply match themselves. *Metacharacters* do NOT match themselves.\n",
        "\n",
        "* Examples:\n",
        "\n",
        "  1. \"**.**\" = Matches any character except a newline.\n",
        "\n",
        "  2. \"**$**\" = Matches the end of the string or just before the newline at the end of the string.\n",
        "\n",
        "  3. \"**^**\" = Matches the start of the string.\n",
        "\n",
        "  4. \"**{m}**\" = Specifies that exactly *m* copies of the previous RE should be matched.\n",
        "\n",
        "  5. \"**[...]**\" = Used to indicate a set of characters.\n",
        "\n",
        "  6. \"**\\\\**\" = Either escapes special characters (permitting you to match characters like '*, '?', and so forth), or signals a special sequence\n",
        "\n",
        "  7. \"**\\|**\" = A|B, where A and B can be arbitrary REs, creates a regular expression that will match either A or B. When one pattern completely matches, that branch is accepted and no further patterns are tested.\n",
        "\n",
        "  8. \"**(...)**\" = Matches whatever regular expression is inside the parentheses, and indicates the start and end of a group.\n",
        "\n",
        "* The following *metacharacters* are repeating qualifiers:\n",
        "\n",
        "  1. \"*\" = Causes the resulting RE to match 0 or more repetitions of the preceding RE. It will match as much text as possible (i.e. greedy).\n",
        "\n",
        "  2. \"**+**\" = Causes the resulting RE to match 1 or more repetitions of the preceding RE. It will match as much text as possible (i.e. greedy).\n",
        "\n",
        "  3. \"**?**\" = Causes the resulting RE to match 0 or 1 repetitions of the preceding RE. It will match as much text as possible (i.e. greedy).\n",
        "\n",
        "  4. \"**{m, n}**\" = Causes the resulting RE to match from m to n repetitions of the preceding RE, attempting to match as many repetitions as possible (i.e. greedy)."
      ],
      "metadata": {
        "id": "OwUyWzqvdTQw"
      }
    },
    {
      "cell_type": "markdown",
      "source": [
        "## **Special sequences**"
      ],
      "metadata": {
        "id": "n1N0C5CWivDp"
      }
    },
    {
      "cell_type": "markdown",
      "source": [
        "* \"\\\\\" can signal a special sequence.\n",
        "\n",
        "* Some of the special sequences represent predefined sets of characters that are often useful.\n",
        "\n",
        "* These include:\n",
        "\n",
        "  1. **\\d** = Matches any decimal digit; this is equivalent to the class [0-9].\n",
        "\n",
        "  2. **\\D** = Matches any non-digit character; this is equivalent to the class [^0-9].\n",
        "\n",
        "  3. **\\s** = Matches any whitespace character.\n",
        "\n",
        "  4. **\\S** = Matches any non-whitespace character.\n",
        "\n",
        "  5. **\\w** = Matches any alphanumeric character; this is equivalent to the class [a-zA-Z0-9_].\n",
        "\n",
        "  6. **\\W** = Matches any non-alphanumeric character; this is equivalent to the class [^a-zA-Z0-9_].\n"
      ],
      "metadata": {
        "id": "WudnmAPji3Io"
      }
    },
    {
      "cell_type": "markdown",
      "source": [
        "# **Using regular expressions**"
      ],
      "metadata": {
        "id": "ru7uP9HVm6ty"
      }
    },
    {
      "cell_type": "markdown",
      "source": [
        "## **Pattern objects**"
      ],
      "metadata": {
        "id": "yYKLE7monZEx"
      }
    },
    {
      "cell_type": "markdown",
      "source": [
        "* Regular expressions are compiled into pattern objects."
      ],
      "metadata": {
        "id": "NHSbTjLI_bNs"
      }
    },
    {
      "cell_type": "markdown",
      "source": [
        "### **Compiling regular expressions**"
      ],
      "metadata": {
        "id": "5Riach0wm-tR"
      }
    },
    {
      "cell_type": "markdown",
      "source": [
        "* Use [*re.compile()*](https://docs.python.org/3/library/re.html#re.compile) to create a pattern object.\n",
        "\n",
        "* This function also accepts an optional flags argument, used to enable various special features and syntax variations."
      ],
      "metadata": {
        "id": "c3SvUZtS_5xL"
      }
    },
    {
      "cell_type": "code",
      "source": [
        "### Re.compile(pattern, flags=0)\n",
        "pattern = 'ab*'\n",
        "patternObj = re.compile(pattern)\n",
        "print(type(patternObj))\n",
        "print(patternObj)"
      ],
      "metadata": {
        "colab": {
          "base_uri": "https://localhost:8080/"
        },
        "id": "LOiEX58mBBum",
        "outputId": "39e55e30-b34e-4b74-b43c-93a5ba570e8d"
      },
      "execution_count": null,
      "outputs": [
        {
          "output_type": "stream",
          "name": "stdout",
          "text": [
            "<class 're.Pattern'>\n",
            "re.compile('ab*')\n"
          ]
        }
      ]
    },
    {
      "cell_type": "markdown",
      "source": [
        "### **Dealing with backslashes**"
      ],
      "metadata": {
        "id": "foCLyzpsCuHs"
      }
    },
    {
      "cell_type": "markdown",
      "source": [
        "**The problem:**\n",
        "\n",
        "* Regular expressions use the backslash character ('\\\\') to indicate special forms or to allow special characters to be used without invoking their special meaning.\n",
        "\n",
        "* This conflicts with Python’s usage of the same character for the same purpose in string literals.\n",
        "\n",
        "**The solution:**\n",
        "\n",
        "* Use Python’s raw string notation for regular expressions.\n",
        "\n",
        "* Backslashes are not handled in any special way in a string literal prefixed with 'r'."
      ],
      "metadata": {
        "id": "viXtgTCvC7Xt"
      }
    },
    {
      "cell_type": "code",
      "source": [
        "### Re.compile(pattern, flags=0)\n",
        "pattern = r'ab*'\n",
        "patternObj = re.compile(pattern)\n",
        "print(type(patternObj))\n",
        "print(patternObj)"
      ],
      "metadata": {
        "colab": {
          "base_uri": "https://localhost:8080/"
        },
        "id": "sXmvOYjSE2jl",
        "outputId": "8bb1aef8-f0e5-46da-c49b-c04d763c42a3"
      },
      "execution_count": null,
      "outputs": [
        {
          "output_type": "stream",
          "name": "stdout",
          "text": [
            "<class 're.Pattern'>\n",
            "re.compile('ab*')\n"
          ]
        }
      ]
    },
    {
      "cell_type": "markdown",
      "source": [
        "### **Performing matches**"
      ],
      "metadata": {
        "id": "PmvbDe9GnL54"
      }
    },
    {
      "cell_type": "markdown",
      "source": [
        "* Pattern objects have methods for various operations.\n",
        "\n",
        "* These include:\n",
        "\n",
        "  1. *match()* = Determine if the RE matches at the beginning of the string.\n",
        "\n",
        "  2. *search()* = Scan through a string, looking for any location where this RE matches.\n",
        "\n",
        "  3. *findall()* = Find all substrings where the RE matches, and returns them as a list.\n",
        "\n",
        "  4. *finditer()* = Find all substrings where the RE matches, and returns them as an iterator."
      ],
      "metadata": {
        "id": "qh3yaeHOCAok"
      }
    },
    {
      "cell_type": "markdown",
      "source": [
        "#### **Match()**"
      ],
      "metadata": {
        "id": "-pJwOsf5FPKy"
      }
    },
    {
      "cell_type": "markdown",
      "source": [
        "* *Match()* determines if the RE matches *at the beginning of the string*.\n",
        "\n",
        "* If no match is found, it returns *None*.\n",
        "\n",
        "* If a match is found, a match object is returned.\n",
        "\n",
        "* Match objects contain information about the match and can be queried using the following methods:\n",
        "\n",
        "  1. *group()* = Return the string matched by the RE\n",
        "\n",
        "  2. *start()* = \tReturn the starting position of the match\n",
        "\n",
        "    **Note:** Since *match()* only checks if the RE matches at the start of a string,this will always be zero.\n",
        "\n",
        "  3. *end()* = Return the ending position of the match\n",
        "\n",
        "  4. *span()* = Return a tuple containing the (start, end) positions of the match"
      ],
      "metadata": {
        "id": "QS-XzuokFZQs"
      }
    },
    {
      "cell_type": "code",
      "source": [
        "### Example 1 - no match can be found using match()\n",
        "\n",
        "string = \"\"\n",
        "\n",
        "# Create pattern object\n",
        "patternObject = re.compile('[a-z]+')\n",
        "\n",
        "# Match string\n",
        "matchResult = patternObject.match(string)\n",
        "\n",
        "# Print match object\n",
        "print(type(matchResult))\n",
        "print(matchResult)"
      ],
      "metadata": {
        "colab": {
          "base_uri": "https://localhost:8080/"
        },
        "id": "KGOLczAbFTXT",
        "outputId": "8b95f5e6-9a00-4b1b-987a-e07077fb1253"
      },
      "execution_count": null,
      "outputs": [
        {
          "output_type": "stream",
          "name": "stdout",
          "text": [
            "<class 'NoneType'>\n",
            "None\n"
          ]
        }
      ]
    },
    {
      "cell_type": "code",
      "source": [
        "### Example 2 - a match can be found using match()\n",
        "\n",
        "string = \"house\"\n",
        "\n",
        "# Create pattern object\n",
        "patternObject = re.compile('[a-z]+')\n",
        "\n",
        "# Match string\n",
        "matchResult = patternObject.match(string)\n",
        "\n",
        "# Print match object\n",
        "print(type(matchResult))\n",
        "print(matchResult)"
      ],
      "metadata": {
        "colab": {
          "base_uri": "https://localhost:8080/"
        },
        "id": "NqjvE2tAGdNV",
        "outputId": "0d4895b3-947f-42d6-d3e0-d858750c2fe8"
      },
      "execution_count": null,
      "outputs": [
        {
          "output_type": "stream",
          "name": "stdout",
          "text": [
            "<class 're.Match'>\n",
            "<re.Match object; span=(0, 5), match='house'>\n"
          ]
        }
      ]
    },
    {
      "cell_type": "code",
      "source": [
        "### Example 2 - query the match object\n",
        "# Note: Store the match object in a variable, and then check if it's None\n",
        "\n",
        "# Return the string matched by the RE using group()\n",
        "if patternObject:\n",
        "  print(matchResult.group())\n",
        "else:\n",
        "    print(\"No match\")\n",
        "\n",
        "# Return the starting position of the match using start()\n",
        "if patternObject:\n",
        "  print(matchResult.start())\n",
        "else:\n",
        "    print(\"No match\")\n",
        "\n",
        "# Return the ending position of the match using end()\n",
        "if patternObject:\n",
        "  print(matchResult.end())\n",
        "else:\n",
        "    print(\"No match\")\n",
        "\n",
        "# Return a tuple containing the (start, end) positions of the match using span()\n",
        "if patternObject:\n",
        "  print(matchResult.span())\n",
        "else:\n",
        "    print(\"No match\")"
      ],
      "metadata": {
        "colab": {
          "base_uri": "https://localhost:8080/"
        },
        "id": "7mEcitr9HZdL",
        "outputId": "1a9ffb6a-054a-4524-8087-571a69b0d886"
      },
      "execution_count": null,
      "outputs": [
        {
          "output_type": "stream",
          "name": "stdout",
          "text": [
            "house\n",
            "0\n",
            "5\n",
            "(0, 5)\n"
          ]
        }
      ]
    },
    {
      "cell_type": "markdown",
      "source": [
        "#### **Search()**"
      ],
      "metadata": {
        "id": "jBNwFFWLJcD9"
      }
    },
    {
      "cell_type": "markdown",
      "source": [
        "* *Search()* scans through a string, looking for *any location where the RE matches*.\n",
        "\n",
        "* If no match is found, it returns *None*.\n",
        "\n",
        "* If a match is found, a match object is again returned.\n",
        "\n",
        "* Match objects contain information about the match and can be queried using the following methods:\n",
        "\n",
        "  1. *group()* = Return the string matched by the RE\n",
        "\n",
        "  2. *start()* = \tReturn the starting position of the match\n",
        "\n",
        "  3. *end()* = Return the ending position of the match\n",
        "\n",
        "  4. *span()* = Return a tuple containing the (start, end) positions of the match"
      ],
      "metadata": {
        "id": "azGADZ56Jgu0"
      }
    },
    {
      "cell_type": "code",
      "source": [
        "### Example 1 - no match can be found using search()\n",
        "\n",
        "string = \"\"\n",
        "\n",
        "# Create pattern object\n",
        "patternObject = re.compile('[a-z]+')\n",
        "\n",
        "# Search string\n",
        "searchResult = patternObject.search(string)\n",
        "\n",
        "# Print match object\n",
        "print(type(searchResult))\n",
        "print(searchResult)"
      ],
      "metadata": {
        "colab": {
          "base_uri": "https://localhost:8080/"
        },
        "id": "Jp9dfUQoJ2o9",
        "outputId": "229d1435-7cd4-452d-c46e-83de374faf71"
      },
      "execution_count": null,
      "outputs": [
        {
          "output_type": "stream",
          "name": "stdout",
          "text": [
            "<class 'NoneType'>\n",
            "None\n"
          ]
        }
      ]
    },
    {
      "cell_type": "code",
      "source": [
        "### Example 2 - a match can be found using search()\n",
        "\n",
        "string = \"I live in a house\"\n",
        "\n",
        "# Create pattern object\n",
        "patternObject = re.compile('house')\n",
        "\n",
        "# Search string\n",
        "searchResult = patternObject.search(string)\n",
        "\n",
        "# Print match object\n",
        "print(type(searchResult))\n",
        "print(searchResult)\n",
        "\n",
        "# Return the string matched by the RE using group()\n",
        "if patternObject:\n",
        "  print(searchResult.group())\n",
        "else:\n",
        "    print(\"No match\")\n",
        "\n",
        "# Return the starting position of the match using start()\n",
        "if patternObject:\n",
        "  print(searchResult.start())\n",
        "else:\n",
        "    print(\"No match\")\n",
        "\n",
        "# Return the ending position of the match using end()\n",
        "if patternObject:\n",
        "  print(searchResult.end())\n",
        "else:\n",
        "    print(\"No match\")\n",
        "\n",
        "# Return a tuple containing the (start, end) positions of the match using span()\n",
        "if patternObject:\n",
        "  print(searchResult.span())\n",
        "else:\n",
        "    print(\"No match\")"
      ],
      "metadata": {
        "colab": {
          "base_uri": "https://localhost:8080/"
        },
        "id": "gVLyRKViJ8p8",
        "outputId": "6f7276e6-6aa9-414a-f794-ffbb6bf1d5da"
      },
      "execution_count": null,
      "outputs": [
        {
          "output_type": "stream",
          "name": "stdout",
          "text": [
            "<class 're.Match'>\n",
            "<re.Match object; span=(12, 17), match='house'>\n",
            "house\n",
            "12\n",
            "17\n",
            "(12, 17)\n"
          ]
        }
      ]
    },
    {
      "cell_type": "markdown",
      "source": [
        "#### **Findall()**"
      ],
      "metadata": {
        "id": "ti2BI9NgK57a"
      }
    },
    {
      "cell_type": "markdown",
      "source": [
        "* *Findall()* scans through a string and finds all substrings where the RE matches.\n",
        "\n",
        "* If no match is found, it returns an empty string.\n",
        "\n",
        "* If matches are found, it returns the substrings as a list."
      ],
      "metadata": {
        "id": "cQB8T3X6K57q"
      }
    },
    {
      "cell_type": "code",
      "source": [
        "### Example 1 - no matches can be found using findall()\n",
        "\n",
        "string = \"\"\n",
        "\n",
        "# Create pattern object\n",
        "patternObject = re.compile('[a-z]+')\n",
        "\n",
        "# Search string\n",
        "findallResult = patternObject.findall(string)\n",
        "\n",
        "# Print list\n",
        "print(type(findallResult))\n",
        "print(findallResult)"
      ],
      "metadata": {
        "colab": {
          "base_uri": "https://localhost:8080/"
        },
        "outputId": "97335296-e8cb-416a-b675-aef73edd08d5",
        "id": "OrGplZs2K57q"
      },
      "execution_count": null,
      "outputs": [
        {
          "output_type": "stream",
          "name": "stdout",
          "text": [
            "<class 'list'>\n",
            "[]\n"
          ]
        }
      ]
    },
    {
      "cell_type": "code",
      "source": [
        "### Example 2 - matches can be found using findall()\n",
        "\n",
        "string = \"I live in a house near the other house\"\n",
        "\n",
        "# Create pattern object\n",
        "patternObject = re.compile('house')\n",
        "\n",
        "# Search string\n",
        "findallResult = patternObject.findall(string)\n",
        "\n",
        "# Print list\n",
        "print(type(findallResult))\n",
        "print(findallResult[1])"
      ],
      "metadata": {
        "colab": {
          "base_uri": "https://localhost:8080/"
        },
        "outputId": "d8247e36-b6ae-47af-d691-1656965f924d",
        "id": "OxFB51IZK57r"
      },
      "execution_count": null,
      "outputs": [
        {
          "output_type": "stream",
          "name": "stdout",
          "text": [
            "<class 'list'>\n",
            "house\n"
          ]
        }
      ]
    },
    {
      "cell_type": "code",
      "source": [
        "### Example 3 - matches can be found using findall()\n",
        "\n",
        "string = \"Task: Ask a question \\nSpecification: Give first example \\n Task: Ask a question \\nSpecification: Give second example\"\n",
        "\n",
        "# Create pattern object\n",
        "patternObject = re.compile('Task:.*\\nSpecification:.*')\n",
        "\n",
        "# Search string\n",
        "findallResult = patternObject.findall(string)\n",
        "\n",
        "# Print list\n",
        "print(type(findallResult))\n",
        "print(findallResult)"
      ],
      "metadata": {
        "colab": {
          "base_uri": "https://localhost:8080/"
        },
        "id": "m22cylAvQUW7",
        "outputId": "0287cd06-fbdb-476e-c34a-799f797c884a"
      },
      "execution_count": null,
      "outputs": [
        {
          "output_type": "stream",
          "name": "stdout",
          "text": [
            "<class 'list'>\n",
            "['Task: Ask a question \\nSpecification: Give first example ', 'Task: Ask a question \\nSpecification: Give second example']\n"
          ]
        }
      ]
    },
    {
      "cell_type": "markdown",
      "source": [
        "#### **Finditer()**"
      ],
      "metadata": {
        "id": "y2TTazG_MQwP"
      }
    },
    {
      "cell_type": "markdown",
      "source": [
        "* *Finditer()* scans through a string, looking for any location where the RE matches.\n",
        "\n",
        "* It returns a sequence of match object instances as an iterator.\n",
        "\n",
        "* These match objects can also be queried using the following methods:\n",
        "\n",
        "  1. *group()* = Return the string matched by the RE\n",
        "\n",
        "  2. *start()* = \tReturn the starting position of the match\n",
        "\n",
        "  3. *end()* = Return the ending position of the match\n",
        "\n",
        "  4. *span()* = Return a tuple containing the (start, end) positions of the match"
      ],
      "metadata": {
        "id": "R6ayJYQhMQwQ"
      }
    },
    {
      "cell_type": "code",
      "source": [
        "### Example 1 - no match can be found using finditer()\n",
        "\n",
        "string = \"\"\n",
        "\n",
        "# Create pattern object\n",
        "patternObject = re.compile('[a-z]+')\n",
        "\n",
        "# Search string\n",
        "searchResult = patternObject.finditer(string)\n",
        "\n",
        "# Print iterable\n",
        "print(type(searchResult))\n",
        "print(searchResult)\n",
        "\n",
        "# Print match objects\n",
        "for matchObject in searchResult:\n",
        "  print(type(matchObject))\n",
        "  print(matchObject)"
      ],
      "metadata": {
        "colab": {
          "base_uri": "https://localhost:8080/"
        },
        "outputId": "7e87eef2-15d0-41ca-bcce-ee57da36e563",
        "id": "jiQ2ro_1MQwQ"
      },
      "execution_count": null,
      "outputs": [
        {
          "output_type": "stream",
          "name": "stdout",
          "text": [
            "<class 'callable_iterator'>\n",
            "<callable_iterator object at 0x7f0b923a8b10>\n"
          ]
        }
      ]
    },
    {
      "cell_type": "code",
      "source": [
        "### Example 2 - a match can be found using finditer()\n",
        "\n",
        "string = \"I live in a house near the other house\"\n",
        "\n",
        "# Create pattern object\n",
        "patternObject = re.compile('house')\n",
        "\n",
        "# Search string\n",
        "finditerResult = patternObject.finditer(string)\n",
        "\n",
        "for matchObject in finditerResult:\n",
        "  print(type(matchObject))\n",
        "  print(matchObject)"
      ],
      "metadata": {
        "colab": {
          "base_uri": "https://localhost:8080/"
        },
        "outputId": "dd118d4c-960d-43c1-9929-9be69ecc572e",
        "id": "F0fFIj6dMQwR"
      },
      "execution_count": null,
      "outputs": [
        {
          "output_type": "stream",
          "name": "stdout",
          "text": [
            "<class 're.Match'>\n",
            "<re.Match object; span=(12, 17), match='house'>\n",
            "<class 're.Match'>\n",
            "<re.Match object; span=(33, 38), match='house'>\n"
          ]
        }
      ]
    },
    {
      "cell_type": "markdown",
      "source": [
        "## **Grouping**"
      ],
      "metadata": {
        "id": "66euplUESM-q"
      }
    },
    {
      "cell_type": "markdown",
      "source": [
        "* \"**(...)**\" = Matches whatever regular expression is inside the parentheses, and indicates the start and end of a group.\n",
        "\n",
        "* You can repeat the contents of a group with a repeating qualifier, such as **\\***, **+**, **?**, or **{m,n}**.\n",
        "\n",
        "* For example, *(ab)** will match zero or more repetitions of ab."
      ],
      "metadata": {
        "id": "eDGQyhzj7hlP"
      }
    },
    {
      "cell_type": "code",
      "source": [
        "### Use groups\n",
        "\n",
        "string = \"abab\"\n",
        "\n",
        "# Create pattern object\n",
        "patternObject = re.compile('(ab)*')\n",
        "\n",
        "# Match string\n",
        "matchResult = patternObject.match(string)\n",
        "\n",
        "# Print match object\n",
        "print(type(matchResult))\n",
        "print(matchResult)"
      ],
      "metadata": {
        "colab": {
          "base_uri": "https://localhost:8080/"
        },
        "id": "iT9GaY2M7YmB",
        "outputId": "fb524ab2-38b2-4228-e3cb-d4961b13af73"
      },
      "execution_count": null,
      "outputs": [
        {
          "output_type": "stream",
          "name": "stdout",
          "text": [
            "<class 're.Match'>\n",
            "<re.Match object; span=(0, 4), match='abab'>\n"
          ]
        }
      ]
    },
    {
      "cell_type": "markdown",
      "source": [
        "* The [Group()](https://docs.python.org/3/library/re.html#re.Match.group) method returns one or more subgroups of the match.\n",
        "\n",
        "* Groups are numbered starting with 0. Without arguments, *Group()* defaults to zero.\n",
        "\n",
        "  **Note:** Group 0 is always present; it’s the whole RE, and returns the whole match."
      ],
      "metadata": {
        "id": "yOR8iFPP-6Ig"
      }
    },
    {
      "cell_type": "code",
      "source": [
        "### Print the different groups\n",
        "\n",
        "string = \"abcd\"\n",
        "\n",
        "# Create pattern object\n",
        "patternObject = re.compile('(ab)(cd)')\n",
        "\n",
        "# Match string\n",
        "matchResult = patternObject.match(string)\n",
        "\n",
        "# # Print match object\n",
        "# print(type(matchResult))\n",
        "# print(matchResult)\n",
        "\n",
        "# Print group 0\n",
        "print(\"Group 0:\", matchResult.group())\n",
        "\n",
        "# Print group 1\n",
        "print(\"Group 1:\", matchResult.group(1))\n",
        "\n",
        "# Print group 2\n",
        "print(\"Group 2:\", matchResult.group(2))"
      ],
      "metadata": {
        "colab": {
          "base_uri": "https://localhost:8080/"
        },
        "id": "5ppPt29nAEX5",
        "outputId": "7b9a51fd-ed6b-465f-a913-84cb2aebf64f"
      },
      "execution_count": null,
      "outputs": [
        {
          "output_type": "stream",
          "name": "stdout",
          "text": [
            "Group 0: abcd\n",
            "Group 1: ab\n",
            "Group 2: cd\n"
          ]
        }
      ]
    },
    {
      "cell_type": "code",
      "source": [
        "### Print the different groups\n",
        "\n",
        "string = \"abababab\"\n",
        "\n",
        "# Create pattern object\n",
        "patternObject = re.compile('(ab)*')\n",
        "\n",
        "# Match string\n",
        "matchResult = patternObject.match(string)\n",
        "\n",
        "# # Print match object\n",
        "# print(type(matchResult))\n",
        "# print(matchResult)\n",
        "\n",
        "# Print group 0\n",
        "print(\"Group 0:\", matchResult.group())\n",
        "\n",
        "# Print group 1\n",
        "print(\"Group 1:\", matchResult.group(1))\n",
        "\n",
        "# Print group 2\n",
        "print(\"Group 2:\", matchResult.group(2))"
      ],
      "metadata": {
        "colab": {
          "base_uri": "https://localhost:8080/",
          "height": 244
        },
        "id": "K0nUFKKlOsdi",
        "outputId": "e027ff32-b00b-4f47-ccc8-8ec0d3acd89c"
      },
      "execution_count": null,
      "outputs": [
        {
          "output_type": "stream",
          "name": "stdout",
          "text": [
            "Group 0: abababab\n",
            "Group 1: ab\n"
          ]
        },
        {
          "output_type": "error",
          "ename": "IndexError",
          "evalue": "ignored",
          "traceback": [
            "\u001b[0;31m---------------------------------------------------------------------------\u001b[0m",
            "\u001b[0;31mIndexError\u001b[0m                                Traceback (most recent call last)",
            "\u001b[0;32m<ipython-input-74-725f5a76e83f>\u001b[0m in \u001b[0;36m<module>\u001b[0;34m\u001b[0m\n\u001b[1;32m     20\u001b[0m \u001b[0;34m\u001b[0m\u001b[0m\n\u001b[1;32m     21\u001b[0m \u001b[0;31m# Print group 2\u001b[0m\u001b[0;34m\u001b[0m\u001b[0;34m\u001b[0m\u001b[0;34m\u001b[0m\u001b[0m\n\u001b[0;32m---> 22\u001b[0;31m \u001b[0mprint\u001b[0m\u001b[0;34m(\u001b[0m\u001b[0;34m\"Group 2:\"\u001b[0m\u001b[0;34m,\u001b[0m \u001b[0mmatchResult\u001b[0m\u001b[0;34m.\u001b[0m\u001b[0mgroup\u001b[0m\u001b[0;34m(\u001b[0m\u001b[0;36m2\u001b[0m\u001b[0;34m)\u001b[0m\u001b[0;34m)\u001b[0m\u001b[0;34m\u001b[0m\u001b[0;34m\u001b[0m\u001b[0m\n\u001b[0m",
            "\u001b[0;31mIndexError\u001b[0m: no such group"
          ]
        }
      ]
    },
    {
      "cell_type": "code",
      "source": [
        "### Print the different groups\n",
        "\n",
        "string = \"abababab\"\n",
        "\n",
        "# Create pattern object\n",
        "patternObject = re.compile('(ab)')\n",
        "\n",
        "# Match string\n",
        "matchResult = patternObject.findall(string)\n",
        "\n",
        "# # Print match object\n",
        "# print(type(matchResult))\n",
        "# print(matchResult)\n",
        "\n",
        "# Print group 0\n",
        "print(\"Group 0:\", matchResult[0])\n",
        "\n",
        "# Print group 1\n",
        "print(\"Group 1:\", matchResult[1])\n",
        "\n",
        "# Print group 2\n",
        "print(\"Group 2:\", matchResult[2])\n",
        "\n",
        "# Print group 2\n",
        "print(\"Group 3:\", matchResult[3])"
      ],
      "metadata": {
        "colab": {
          "base_uri": "https://localhost:8080/"
        },
        "id": "bHL1ChBGgzy5",
        "outputId": "be7aa915-d51c-4978-a9b7-8edccdd767aa"
      },
      "execution_count": null,
      "outputs": [
        {
          "output_type": "stream",
          "name": "stdout",
          "text": [
            "Group 0: ab\n",
            "Group 1: ab\n",
            "Group 2: ab\n",
            "Group 3: ab\n"
          ]
        }
      ]
    },
    {
      "cell_type": "markdown",
      "source": [
        "## **Greedy versus Non-Greedy**"
      ],
      "metadata": {
        "id": "T3JiTHt2l2R6"
      }
    },
    {
      "cell_type": "markdown",
      "source": [
        "* Repeating qualifiers such as **\\***, **+**, **?** and **{m, n}** are greedy.\n",
        "\n",
        "* When repeating a RE, the matching engine will try to repeat it as many times as possible.\n",
        "\n",
        "* If later portions of the pattern don’t match, the matching engine will then back up and try again with fewer repetitions.\n",
        "\n",
        "* In the below example this means the final 'd' is excluded from the group despite it being matched by **.***"
      ],
      "metadata": {
        "id": "1SLHAT0Vl5of"
      }
    },
    {
      "cell_type": "code",
      "source": [
        "### Greedy match using group\n",
        "\n",
        "string = \"my name is billy pitchford\"\n",
        "\n",
        "# Create pattern object\n",
        "patternObject = re.compile('(.*)d')\n",
        "\n",
        "# Match string\n",
        "matchResult = patternObject.match(string)\n",
        "\n",
        "# Print match object\n",
        "print(type(matchResult))\n",
        "print(matchResult)\n",
        "\n",
        "# Print group\n",
        "print(\"\\n\", \"Group:\", matchResult.group(1))"
      ],
      "metadata": {
        "colab": {
          "base_uri": "https://localhost:8080/"
        },
        "id": "7f9851kV9j98",
        "outputId": "ef905cff-3e76-480e-ff90-8c6a8738e69a"
      },
      "execution_count": null,
      "outputs": [
        {
          "output_type": "stream",
          "name": "stdout",
          "text": [
            "<class 're.Match'>\n",
            "<re.Match object; span=(0, 26), match='my name is billy pitchford'>\n",
            "\n",
            " Group: my name is billy pitchfor\n"
          ]
        }
      ]
    },
    {
      "cell_type": "markdown",
      "source": [
        "* The solution is to please a **?** after the qualifier.\n",
        "\n",
        "* The non-greedy qualifiers ***?**, **+?**, **??**, or **{m,n}?**, match as little text as possible.\n",
        "\n",
        "* In the below example this means only the first 'm' is captured despite it all being matched by **.***"
      ],
      "metadata": {
        "id": "xhJJ4K_JQnSM"
      }
    },
    {
      "cell_type": "code",
      "source": [
        "### Non-greedy match using group\n",
        "\n",
        "string = \"my name is billy pitchford\"\n",
        "\n",
        "# Create pattern object\n",
        "patternObject = re.compile('(.+?)')\n",
        "\n",
        "# Match string\n",
        "matchResult = patternObject.match(string)\n",
        "\n",
        "# Print match object\n",
        "print(type(matchResult))\n",
        "print(matchResult)\n",
        "\n",
        "# Print group\n",
        "print(\"\\n\", \"Group:\", matchResult.group(1))"
      ],
      "metadata": {
        "colab": {
          "base_uri": "https://localhost:8080/"
        },
        "id": "y4wLoojAQtUS",
        "outputId": "4e3c8952-fb0e-4f30-ad4f-3c133c3342e1"
      },
      "execution_count": null,
      "outputs": [
        {
          "output_type": "stream",
          "name": "stdout",
          "text": [
            "<class 're.Match'>\n",
            "<re.Match object; span=(0, 1), match='m'>\n",
            "\n",
            " Group: m\n"
          ]
        }
      ]
    },
    {
      "cell_type": "markdown",
      "source": [
        "## **Compilation flags**\n",
        "\n",
        "* Compilation flags let you modify how regular expressions work.\n",
        "\n",
        "* Flags are available in the *re* module under two names, a long name (e.g. IGNORECASE) and a short form (e.g. I)."
      ],
      "metadata": {
        "id": "lW0K8b8nnjLY"
      }
    },
    {
      "cell_type": "markdown",
      "source": [
        "### **Ignorecase (I)**\n",
        "\n",
        "When this flag is specified:\n",
        "\n",
        "* Perform case-insensitive matching; character class and literal strings will match letters by ignoring case."
      ],
      "metadata": {
        "id": "uD4YKuIGX77c"
      }
    },
    {
      "cell_type": "code",
      "source": [
        "### Without Ignorecase\n",
        "\n",
        "# Create pattern object\n",
        "patternObject = re.compile('hello')\n",
        "\n",
        "# Match string\n",
        "string = \"HELLO\"\n",
        "matchResult = patternObject.match(string)\n",
        "\n",
        "# Print match object\n",
        "print(type(matchResult))\n",
        "print(matchResult)"
      ],
      "metadata": {
        "id": "QTLhWZCjgZdp"
      },
      "execution_count": null,
      "outputs": []
    },
    {
      "cell_type": "code",
      "source": [
        "### With Ignorecase\n",
        "\n",
        "# Create pattern object\n",
        "patternObject = re.compile('hello', re.IGNORECASE)\n",
        "\n",
        "# Match string\n",
        "string = \"HELLO\"\n",
        "matchResult = patternObject.match(string)\n",
        "\n",
        "# Print match object\n",
        "print(type(matchResult))\n",
        "print(matchResult)"
      ],
      "metadata": {
        "id": "_kZhMPyhaXm5"
      },
      "execution_count": null,
      "outputs": []
    },
    {
      "cell_type": "markdown",
      "source": [
        "### **Multiline (M)**\n",
        "\n",
        "When this flag is specified:\n",
        "\n",
        "* ^ matches at the beginning of the string and at the beginning of each line within the string (immediately following each newline).\n",
        "\n",
        "* $ matches either at the end of the string and at the end of each line (immediately preceding each newline)."
      ],
      "metadata": {
        "id": "iGgEPYmhYZjC"
      }
    },
    {
      "cell_type": "code",
      "source": [
        "### Without MULTILINE\n",
        "\n",
        "# Create pattern object\n",
        "patternObject = re.compile(r\"^Surname\")\n",
        "\n",
        "# Match string\n",
        "string = \"\"\"Name Billy\\nSurname Pitchord\"\"\"\n",
        "\n",
        "matchResult = patternObject.search(string)\n",
        "\n",
        "# Print match object\n",
        "print(type(matchResult))\n",
        "print(matchResult)"
      ],
      "metadata": {
        "id": "kousrwZfgEWr"
      },
      "execution_count": null,
      "outputs": []
    },
    {
      "cell_type": "code",
      "source": [
        "### With MULTILINE\n",
        "\n",
        "# Create pattern object\n",
        "patternObject = re.compile(r\"^Surname\", re.MULTILINE)\n",
        "\n",
        "# Match string\n",
        "string = \"\"\"Name Billy\\nSurname Pitchord\"\"\"\n",
        "\n",
        "matchResult = patternObject.search(string)\n",
        "\n",
        "# Print match object\n",
        "print(type(matchResult))\n",
        "print(matchResult)"
      ],
      "metadata": {
        "id": "CbfJ3lZmanoS"
      },
      "execution_count": null,
      "outputs": []
    },
    {
      "cell_type": "markdown",
      "source": [
        "### **Dotall (S)**\n",
        "\n",
        "When this flag is specified:\n",
        "\n",
        "* '.' matches any character including a newline (without this flag, it matches anything except a newline)."
      ],
      "metadata": {
        "id": "Pizsf3oBY9lz"
      }
    },
    {
      "cell_type": "code",
      "source": [
        "### Without DOTALL\n",
        "\n",
        "# Create pattern object\n",
        "patternObject = re.compile(r\".*\")\n",
        "\n",
        "# Match string\n",
        "string = \"Name Billy\\nSurname Pitchord\"\n",
        "\n",
        "matchResult = patternObject.match(string)\n",
        "\n",
        "# Print match object\n",
        "print(type(matchResult))\n",
        "print(matchResult)"
      ],
      "metadata": {
        "id": "8_KCa9J8gj2y"
      },
      "execution_count": null,
      "outputs": []
    },
    {
      "cell_type": "code",
      "source": [
        "### With DOTALL\n",
        "\n",
        "# Create pattern object\n",
        "patternObject = re.compile(r\".*\", re.DOTALL)\n",
        "\n",
        "# Match string\n",
        "string = \"Name Billy\\nSurname Pitchord\"\n",
        "\n",
        "matchResult = patternObject.match(string)\n",
        "\n",
        "# Print match object\n",
        "print(type(matchResult))\n",
        "print(matchResult)"
      ],
      "metadata": {
        "id": "FxuFR7HzhHAD"
      },
      "execution_count": null,
      "outputs": []
    },
    {
      "cell_type": "markdown",
      "source": [
        "### **Verbose (X)**\n",
        "\n",
        "When this flag is specified:\n",
        "\n",
        "* whitespace within the RE string is ignored (except when the whitespace is in a character class or preceded by an unescaped backslash)\n",
        "\n",
        "* you can put comments within a RE that will be ignored by the engine (comments are marked by a '#' that’s neither in a character class or preceded by an unescaped backslash)"
      ],
      "metadata": {
        "id": "tBeGYs3tZlKp"
      }
    },
    {
      "cell_type": "code",
      "source": [
        "### Without VERBOSE\n",
        "\n",
        "string = \"Jessa is a Python developer, and her salary is 8000\"\n",
        "\n",
        "# Create pattern object\n",
        "patternObject = re.compile(r\"\"\"(^\\w{2,}) # match 5-letter word at the start\n",
        "                        .+ # match one or more of any character\n",
        "                        (\\d{4}$) # match 4-digit number at the end \"\"\")\n",
        "\n",
        "# Match string\n",
        "matchResult = patternObject.match(string)\n",
        "\n",
        "# Print match object\n",
        "print(type(matchResult))\n",
        "print(matchResult)"
      ],
      "metadata": {
        "id": "fsBYIwArhMzJ"
      },
      "execution_count": null,
      "outputs": []
    },
    {
      "cell_type": "code",
      "source": [
        "### With VERBOSE\n",
        "\n",
        "string = \"Jessa is a Python developer, and her salary is 8000\"\n",
        "\n",
        "# Create pattern object\n",
        "patternObject = re.compile(r\"\"\"(^\\w{2,}) # match 5-letter word at the start\n",
        "                        .+ # match one or more of any character\n",
        "                        (\\d{4}$) # match 4-digit number at the end \"\"\",\n",
        "                        re.VERBOSE)\n",
        "\n",
        "# Match string\n",
        "matchResult = patternObject.match(string)\n",
        "\n",
        "# Print match object\n",
        "print(type(matchResult))\n",
        "print(\"\\n\",\"Match: \", matchResult.group())\n",
        "print(\"\\n\",\"Group 1: \", matchResult.group(1))\n",
        "print(\"\\n\",\"Group 2: \", matchResult.group(2))"
      ],
      "metadata": {
        "id": "ZVUSH82ghiQc"
      },
      "execution_count": null,
      "outputs": []
    },
    {
      "cell_type": "markdown",
      "source": [
        "## **Search and replace**"
      ],
      "metadata": {
        "id": "sCP3AR31Aplv"
      }
    },
    {
      "cell_type": "markdown",
      "source": [
        "* Matches for a pattern can be replaced with a different string.\n",
        "\n",
        "* This can be done using the [*sub()*](https://docs.python.org/3/library/re.html#re.Pattern.sub) or [*subn()*](https://docs.python.org/3/library/re.html#re.Pattern.sub) methods for a pattern object.\n",
        "\n",
        "* These take a replacement value, which can be either a string or a function, and the string to be processed.\n",
        "\n",
        "  **Note:** By default, they replace all occurrences.\n"
      ],
      "metadata": {
        "id": "bLEM8y9DAuYv"
      }
    },
    {
      "cell_type": "code",
      "source": [
        "### Search and replace\n",
        "\n",
        "string = \"Question: Is your name Billy? Answer: My name is Billy Pitchford.\"\n",
        "replacement = \"Anna\"\n",
        "\n",
        "# Create pattern object\n",
        "patternObject = re.compile('Billy')\n",
        "\n",
        "# Perform substitution\n",
        "subResult = patternObject.subn(replacement, string)\n",
        "\n",
        "# Print match object\n",
        "print(type(subResult))\n",
        "print(subResult[0])"
      ],
      "metadata": {
        "id": "Acp8vxbHA6ss"
      },
      "execution_count": null,
      "outputs": []
    },
    {
      "cell_type": "markdown",
      "source": [
        "# **Project output parsing**"
      ],
      "metadata": {
        "id": "FOW-MkxpDglS"
      }
    },
    {
      "cell_type": "markdown",
      "source": [
        "## **Extract specification**"
      ],
      "metadata": {
        "id": "IdvFu2aM9ChQ"
      }
    },
    {
      "cell_type": "code",
      "source": [
        "string = \"\"\"1. Plot a scatter plot of production budget against worldwide gross:\n",
        "{\"$schema\": \"https://vega.github.io/schema/vega-lite/v4.json\", \"mark\": {\"type\": \"point\", \"tooltip\": true}, \"encoding\": {\"x\": {\"field\": \"Production Budget\", \"type\": \"quantitative\", \"aggregate\": null, \"axis\": {\"format\": \"s\"}}, \"y\": {\"field\": \"Worldwide Gross\", \"type\": \"quantitative\", \"aggregate\": null, \"axis\": {\"format\": \"s\"}}, \"tooltip\": {\"field\": \"Title\"}}, \"data\": {\"url\": \"https://raw.githubusercontent.com/nl4dv/nl4dv/master/examples/assets/data/movies-w-year.csv\", \"format\": {\"type\": \"csv\"}}}\n",
        "2. Plot a scatter plot of production budget against IMDB rating:\n",
        "{\"$schema\": \"https://vega.github.io/schema/vega-lite/v4.json\", \"mark\": {\"type\": \"point\", \"tooltip\": true}, \"encoding\": {\"x\": {\"field\": \"Production Budget\", \"type\": \"quantitative\", \"aggregate\": null, \"axis\": {\"format\": \"s\"}}, \"y\": {\"field\": \"IMDB Rating\", \"type\": \"quantitative\", \"aggregate\": null, \"axis\": {\"format\": \"s\"}}, \"tooltip\": {\"field\": \"Title\"}}, \"data\": {\"url\": \"https://raw.githubusercontent.com/nl4dv/nl4dv/master/examples/assets/data/movies-w-year.csv\", \"format\": {\"type\": \"csv\"}}}\n",
        "3. Plot a scatter plot of worldwide gross against IMDB rating:\n",
        "{\"$schema\": \"https://vega.github.io/schema/vega-lite/v4.json\", \"mark\": {\"type\": \"point\", \"tooltip\": true}, \"encoding\": {\"x\": {\"field\": \"Production Budget\", \"type\": \"quantitative\", \"aggregate\": null, \"axis\": {\"format\": \"s\"}}, \"y\": {\"field\": \"Worldwide Gross\", \"type\": \"quantitative\", \"aggregate\": null, \"axis\": {\"format\": \"s\"}}, \"tooltip\": {\"field\": \"Title\"}}, \"data\": {\"url\": \"https://raw.githubusercontent.com/nl4dv/nl4dv/master/examples/assets/data/movies-w-year.csv\", \"format\": {\"type\": \"csv\"}}}\n",
        "\n",
        "Any insights appreciated!\n",
        "\n",
        "A:\n",
        "\n",
        "It is possible that\"\"\""
      ],
      "metadata": {
        "id": "rS1fME2YEBQy"
      },
      "execution_count": null,
      "outputs": []
    },
    {
      "cell_type": "code",
      "source": [
        "### Extract generated specification\n",
        "\n",
        "# Create pattern object\n",
        "patternObject = re.compile(r'1.*?({.*}).*?2.*3.*', re.DOTALL)\n",
        "\n",
        "# Search string\n",
        "searchResult = patternObject.search(string)\n",
        "\n",
        "# Print groups\n",
        "# print(searchResult.group())\n",
        "print(searchResult.span(1))\n",
        "print(searchResult.group(1))"
      ],
      "metadata": {
        "id": "Z5gPl8b6Mne-"
      },
      "execution_count": null,
      "outputs": []
    },
    {
      "cell_type": "markdown",
      "source": [
        "## **Replace relevant values**"
      ],
      "metadata": {
        "id": "E9RBtvYM9Vmd"
      }
    },
    {
      "cell_type": "markdown",
      "source": [
        "* true needs to be replaced with True\n",
        "\n",
        "* null needs to be replaced with None"
      ],
      "metadata": {
        "id": "kLOja7Ox92zV"
      }
    },
    {
      "cell_type": "code",
      "source": [
        "### Search and replace true with True\n",
        "\n",
        "parsedOutput = searchResult.group(1)\n",
        "replacement = \"True\"\n",
        "\n",
        "# Create pattern object\n",
        "patternObject = re.compile('true')\n",
        "\n",
        "# Perform substitution\n",
        "subResult1 = patternObject.subn(replacement, parsedOutput)\n",
        "\n",
        "# Print match object\n",
        "print(type(subResult1))\n",
        "print(subResult1[0])"
      ],
      "metadata": {
        "id": "9Mnv2MtN--LV"
      },
      "execution_count": null,
      "outputs": []
    },
    {
      "cell_type": "code",
      "source": [
        "### Search and replace null with None\n",
        "\n",
        "replacement = \"None\"\n",
        "\n",
        "# Create pattern object\n",
        "patternObject = re.compile('null')\n",
        "\n",
        "# Perform substitution\n",
        "subResult2 = patternObject.subn(replacement, subResult1[0])\n",
        "\n",
        "# Print match object\n",
        "print(type(subResult2))\n",
        "print(subResult2[0])"
      ],
      "metadata": {
        "id": "0KIRz8eZ9Utt"
      },
      "execution_count": null,
      "outputs": []
    },
    {
      "cell_type": "markdown",
      "source": [
        "## **Parse json string into a dictionary**"
      ],
      "metadata": {
        "id": "qwNG0WZFLXup"
      }
    },
    {
      "cell_type": "markdown",
      "source": [
        "* The json string needs to be converted to a dictionary so that it can be visualised downstream.\n",
        "\n",
        "* Convert json strings to dictionaries using [json.loads()](https://docs.python.org/3/library/json.html) or [ast](https://docs.python.org/3/library/ast.html) module.\n",
        "\n",
        "  **Note:** json.loads() isn't working here for some reason."
      ],
      "metadata": {
        "id": "WcxiKwnILqTq"
      }
    },
    {
      "cell_type": "code",
      "source": [
        "### Print output type\n",
        "print(type(subResult2[0]))"
      ],
      "metadata": {
        "id": "mdS2s9DyLeVW"
      },
      "execution_count": null,
      "outputs": []
    },
    {
      "cell_type": "code",
      "source": [
        "### Convert json string into dictionary\n",
        "\n",
        "# Using ast module\n",
        "# Source: https://docs.python.org/3/library/ast.html\n",
        "import ast\n",
        "spec = ast.literal_eval(subResult2[0])\n",
        "spec\n",
        "\n",
        "# # Using json module\n",
        "# Source: https://docs.python.org/3/library/json.html\n",
        "# import json\n",
        "# # spec = json.loads(subResult2[0])\n",
        "# # spec"
      ],
      "metadata": {
        "id": "9dEg57rtN-ZN"
      },
      "execution_count": null,
      "outputs": []
    },
    {
      "cell_type": "code",
      "source": [
        "### Render the vega-lite specifications using the Altair HTML renderer and IPython display function\n",
        "# Source: https://stackoverflow.com/questions/64393567/how-to-render-vega-lite-viz-in-google-colab\n",
        "import altair as alt\n",
        "from IPython.display import display\n",
        "\n",
        "display(alt.display.html_renderer(spec), raw=True)"
      ],
      "metadata": {
        "id": "05YqCgLLL1M4"
      },
      "execution_count": null,
      "outputs": []
    },
    {
      "cell_type": "markdown",
      "source": [
        "# **References**\n",
        "\n",
        "* https://docs.python.org/3/library/re.html\n",
        "* https://docs.python.org/3/howto/regex.html#regex-howto\n",
        "* https://developers.google.com/edu/python/regular-expressions"
      ],
      "metadata": {
        "id": "WQWATbBLeJ0-"
      }
    }
  ]
}