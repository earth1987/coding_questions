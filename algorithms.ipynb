{
 "cells": [
  {
   "cell_type": "markdown",
   "id": "727679a5-5632-4e37-9641-dd8d70402685",
   "metadata": {},
   "source": [
    "# Algorithms"
   ]
  },
  {
   "cell_type": "markdown",
   "id": "535c97af-0786-4ce0-b2ee-9cf42fc94315",
   "metadata": {},
   "source": [
    "## Recursion"
   ]
  },
  {
   "cell_type": "markdown",
   "id": "2114f309-2558-4b3e-a2d3-4942841230ba",
   "metadata": {},
   "source": [
    "## Greedy algorithms vs. dynamic programming"
   ]
  },
  {
   "cell_type": "markdown",
   "id": "c346d80e-678b-4fa3-b03b-27efd1bc948c",
   "metadata": {},
   "source": [
    "### Greedy algorithms"
   ]
  },
  {
   "cell_type": "markdown",
   "id": "36e4bcb7-508f-47be-97ed-cb3234146383",
   "metadata": {},
   "source": [
    "### Dynamic programming"
   ]
  },
  {
   "cell_type": "markdown",
   "id": "9e3363dd-348c-426a-8be4-c0cd0f28415e",
   "metadata": {},
   "source": [
    "## Sorting"
   ]
  },
  {
   "cell_type": "markdown",
   "id": "d10c5d8f-4fa9-4393-86e7-65ca0e640cf0",
   "metadata": {},
   "source": [
    "### Mergesort"
   ]
  },
  {
   "cell_type": "markdown",
   "id": "3d501b1d-157d-4188-967a-f7322eeed55e",
   "metadata": {},
   "source": [
    "### Quicksort"
   ]
  },
  {
   "cell_type": "markdown",
   "id": "fe193536-cfce-4150-87e0-15558b37cb58",
   "metadata": {},
   "source": [
    "## Linear algebra"
   ]
  },
  {
   "cell_type": "markdown",
   "id": "ef323dd4-f57c-41a1-8c10-e388085d6e89",
   "metadata": {},
   "source": [
    "### Matrix multiplication"
   ]
  },
  {
   "cell_type": "markdown",
   "id": "1e549d17-5875-4497-a65b-32da2b70237f",
   "metadata": {},
   "source": [
    "### Singular value decomposition"
   ]
  }
 ],
 "metadata": {
  "kernelspec": {
   "display_name": "Python 3 (ipykernel)",
   "language": "python",
   "name": "python3"
  },
  "language_info": {
   "codemirror_mode": {
    "name": "ipython",
    "version": 3
   },
   "file_extension": ".py",
   "mimetype": "text/x-python",
   "name": "python",
   "nbconvert_exporter": "python",
   "pygments_lexer": "ipython3",
   "version": "3.11.5"
  }
 },
 "nbformat": 4,
 "nbformat_minor": 5
}
