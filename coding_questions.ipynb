{
 "cells": [
  {
   "cell_type": "markdown",
   "id": "639c2a74-aa67-477f-b783-ca0583394ad2",
   "metadata": {},
   "source": [
    "# Python coding questions"
   ]
  },
  {
   "cell_type": "markdown",
   "id": "1ab2dc3f-9981-4b0f-a643-5788359665de",
   "metadata": {},
   "source": [
    "## Tips"
   ]
  },
  {
   "cell_type": "markdown",
   "id": "60645016-5905-49ba-9a1b-50d35d44bb60",
   "metadata": {},
   "source": [
    "**1. Clarify the question and assumptions**\n",
    "\n",
    "* Don't jump into coding!\n",
    "  \n",
    "* Repeat the question back to the interview and clarify the assumptions.\n",
    "\n",
    "* Confirm input format & range\n",
    "\n",
    "* Confirm the input can be assumed to be non-null or well formed\n",
    "\n",
    "* Work through an example input and see if you get the expected output"
   ]
  },
  {
   "cell_type": "markdown",
   "id": "67c3cf10-50f6-45a6-b87f-80b200d7eb34",
   "metadata": {},
   "source": [
    "**2. Brainstorm a solution**\n",
    "\n",
    "* Explain at a high level how you could tackle the question\n",
    "\n",
    "* Begin with a brute force approach. Explain why this is inefficient.\n",
    "\n",
    "* If possible, choose an optimal approach and explain why it is better.\n",
    "\n",
    "Note: Consider time complexity, recursion or not using surplus memory (i.e. solving in place)"
   ]
  },
  {
   "cell_type": "markdown",
   "id": "54dfc142-82e8-43f1-9998-3d668a919748",
   "metadata": {},
   "source": [
    "**3. Code the solution**\n",
    "\n",
    "* Explain what you are coding.\n",
    "\n",
    "* Use clear variable names and follow good code organisation principles (e.g. PEP 8)\n",
    "\n",
    "* You are allowed to cut some corners (e.g. by assuming a helper method exists) but be explicit and offer to fix this later on."
   ]
  },
  {
   "cell_type": "markdown",
   "id": "732f177b-4494-4854-8252-d2b6c32f7553",
   "metadata": {},
   "source": [
    "**4. Test**\n",
    "\n",
    "* Make sure there are no mistakes or edge cases not handled.\n",
    "\n",
    "* Write and execute test cases to prove you solved the problem."
   ]
  },
  {
   "cell_type": "markdown",
   "id": "c109e84f-eec5-482d-b5f0-eeab8c3062d8",
   "metadata": {},
   "source": [
    "--------------------"
   ]
  },
  {
   "cell_type": "markdown",
   "id": "a081fac1-74de-4def-aea4-fda0b8c8ce6a",
   "metadata": {},
   "source": [
    "## Easy"
   ]
  },
  {
   "cell_type": "markdown",
   "id": "e796ea89-5c46-42a5-8cc7-ef51ab1d38d8",
   "metadata": {},
   "source": [
    "**1. Given two arrays, write a function to get the intersection of the two.**\n",
    "\n",
    "* Example 1:\n",
    "\n",
    "    A = [1, 2, 3, 4, 5] and B = [0, 1, 3, 7]\n",
    "\n",
    "    Return [1, 3]\n",
    "\n",
    "Source: Ace the Data Science Interview, Question 9.1"
   ]
  },
  {
   "cell_type": "markdown",
   "id": "4eec0ab8-4683-4d9e-acbb-19b107063e83",
   "metadata": {},
   "source": [
    "**2. Given an integer array, return the maximum product of any three numbers in the array.**\n",
    "\n",
    "* Example 1:\n",
    "\n",
    "    A = [1, 3, 4, 5]\n",
    "\n",
    "    Return 60\n",
    "\n",
    "* Example 2:\n",
    "\n",
    "    B = [-2, -4, 5, 3]\n",
    "\n",
    "    Return 40\n",
    "\n",
    "Source: Ace the Data Science Interview, Question 9.2"
   ]
  },
  {
   "cell_type": "markdown",
   "id": "5d50bc07-9af8-4103-b11e-c83f66f3fce3",
   "metadata": {},
   "source": [
    "**3. Given a list of coordinates, write a function to find the k closest points (measured by Euclidian distance) to the origin.**\n",
    "\n",
    "* Example 1:\n",
    "\n",
    "    k = 3, and the points are: [[2, -1], [3, 2], [4, 1], [-1, -1], [-2, 2]]\n",
    "\n",
    "    Return [[-1, -1], [2, -1], [-2, 2]]\n",
    "\n",
    "Source: Ace the Data Science Interview, Question 9.3"
   ]
  },
  {
   "cell_type": "markdown",
   "id": "887143d5-4c2e-49ff-a8e9-3fdf1087f039",
   "metadata": {},
   "source": [
    "**4. Say you have an *n-by-n* matrix of elements that are sorted in ascending order both in the columns and rows of the matrix. Return the *k-th* smallest element of the matrix.** \n",
    "\n",
    "* Example 1:\n",
    "\n",
    "    k = 4 and [[1, 4, 7], [3, 5, 9], [6, 8, 11]]\n",
    "\n",
    "    Return 5\n",
    "\n",
    "\n",
    "Source: Ace the Data Science Interview, Question 9.4"
   ]
  },
  {
   "cell_type": "markdown",
   "id": "730df9cc-d751-4c91-aba7-7e570122d348",
   "metadata": {},
   "source": [
    "**5. Given an integar array, find the sum of the largest contiguous subarray within the array. Note that if all the elements are negative, you should return 0.**\n",
    "\n",
    "* Example 1:\n",
    "\n",
    "    Input is [-1, -3, 5, -4, 3, -6, 9, 2]\n",
    "\n",
    "    Return 11 (because of [9, 2])\n",
    "\n",
    "Source: Ace the Data Science Interview, Question 9.5"
   ]
  },
  {
   "cell_type": "markdown",
   "id": "dfc6c21d-3272-4533-b698-dcc14534da45",
   "metadata": {},
   "source": [
    "**6. Given a binary tree, write a function to determine whether the tree is a mirror image of itself. Two trees are a mirror image of each other if their root values are the same and the left subtree is a mirror image of the right subtree.**\n",
    "\n",
    "Source: Ace the Data Science Interview, Question 9.6"
   ]
  },
  {
   "cell_type": "markdown",
   "id": "09f6e2ea-dc77-449d-b6d5-2e6dc9f25cbe",
   "metadata": {},
   "source": [
    "**7. Given a number n, write a formula that returns n! Assume n is a non-negative integar.**\r\n",
    "\r\n",
    "Source : DataLemur, Python Questio\"Factorial formula\" 1"
   ]
  },
  {
   "cell_type": "markdown",
   "id": "06ee8d9d-53f1-4214-ad78-67c3d0a02346",
   "metadata": {},
   "source": [
    "**8. Write a function to find the sum of all multiples of 3 or 5 below a target value.**\n",
    "\n",
    "* Example 1: \n",
    "\n",
    "    Target value: 10\n",
    "\n",
    "    Return 23 (3 + 5 + 6 + 0)\n",
    "\n",
    "Source : DataLemur, Python Question \"Fizz buzz sum\""
   ]
  },
  {
   "cell_type": "markdown",
   "id": "759bbfe8-3afe-4e26-836c-eaaa7ba2af73",
   "metadata": {},
   "source": [
    "**9. Given an input list containing n distinct numbers in the range 0 to n, return the only number in the range that is missing from the list.**\n",
    "\n",
    "* Example 1:\n",
    "\n",
    "    Input: [0, 1, 3]\n",
    "    \n",
    "    Return: 2\n",
    "\r",
    "Source DataLemur, Python Question \"Intersection of two lists\"\n"
   ]
  },
  {
   "cell_type": "markdown",
   "id": "6b1baa0e-ab48-4500-b910-9c263ce3dad2",
   "metadata": {},
   "source": [
    "**10. Given a list of integers called input, return True if any value appears at least twice in the array. Return False if every element in the input list is distinct.** \n",
    "\n",
    "* Example 1:\n",
    "\n",
    "    Input: [1, 3, 5, 7, 1]\n",
    "    \n",
    "    Return True because 1 shows up twice\r\n",
    "Source DataLemur, Python Question \"Missing integer\"\n"
   ]
  },
  {
   "cell_type": "markdown",
   "id": "f46c54b4-9517-4781-af58-4303daccfb06",
   "metadata": {},
   "source": [
    "**11. Given a list of salaries, we'll define a metric called inequity, which is the difference between max and min salary seen in the list. Write a function called min_inequity which takes a list of salaries, and a value of n, and returns the minimum inequity possible when taking n salaries from the full salary list.**\n",
    "\n",
    "*inequity = max(input_list) - min(input_list)*\n",
    "\n",
    "* Example 1:\n",
    "\n",
    "    salaries = [60000, 80000, 120000, 70000]\n",
    "\n",
    "    The minimum inequity with n=2 is $10,000 as max(60000, 70000) - min(60000, 70000) = 10000\n",
    "\n",
    "* Example 2:\n",
    "\n",
    "    salaries = [60000, 80000, 120000, 70000]\n",
    "\n",
    "    The minimum inequity with n=3 is $20,000 as max(60000, 70000, 80000) - min(60000, 70000, 80000) = 20000\n",
    "\n",
    "Source DataLemur, Python Question \"Salary inequity\""
   ]
  },
  {
   "cell_type": "markdown",
   "id": "0e5604b2-3f5f-4ddb-8b66-516ea09b1142",
   "metadata": {},
   "source": [
    "**12. Your are given a list of stock prices, where the stock's price on the ith day is stored as the ith element of the prices list. You want to maximise your profit trading the stock, but are only allowed to buy the stock once and sell it once on a future day. Write a function which takes in this list of stock prices and computes the maximum profit possible. Return 0 if you can't make any profit.**\n",
    "\n",
    "* Example 1:\n",
    "\n",
    "    Input prices: [9, 1, 3, 6, 4, 8, 3, 5, 5]\n",
    "\n",
    "    Output: 7 (buy on day 2 and sell on day 6)\n",
    "\n",
    "* Example 2:\n",
    "\n",
    "    Input prices: [6, 4, 3, 3, 2]\n",
    "\n",
    "    Output: 0\n",
    "\n",
    "Source DataLemur, Python Question \"Max profit trading stocks\""
   ]
  },
  {
   "cell_type": "markdown",
   "id": "ab8465bd-aa5d-46ad-b120-caa327d9d554",
   "metadata": {},
   "source": [
    "--------------------"
   ]
  },
  {
   "cell_type": "markdown",
   "id": "77b9737a-6db9-4455-980f-8e63b6f31e42",
   "metadata": {},
   "source": [
    "## Medium"
   ]
  },
  {
   "cell_type": "markdown",
   "id": "f5fec2db-e320-48a9-a93a-5a1363444a63",
   "metadata": {},
   "source": [
    "**7. Given an array of positive integers, a peak element is greater than its neighbors. Write a function to find the index of an peak elements.**\n",
    "\n",
    "* Example 1\n",
    "\n",
    "    Input: [3, 5, 2, 4, 1]\n",
    "\n",
    "    Return either 1 or 3 because the values at those indexes, 5 and 4, are both peak elements\n",
    "\n",
    "Source: Ace the Data Science Interview, Question 9.7"
   ]
  },
  {
   "cell_type": "markdown",
   "id": "5aeeb8fc-bf15-42a4-996c-51dba684362d",
   "metadata": {},
   "source": [
    "**8. Given two lists X and Y, return their correlation.**\n",
    "\n",
    "Source: Ace the Data Science Interview, Question 9.8"
   ]
  },
  {
   "cell_type": "markdown",
   "id": "4a422ec1-ccb2-4a54-b2b9-1e28455e8d1e",
   "metadata": {},
   "source": [
    "**9. Given a binary tree, write a function to determine the diameter of the tree, which is the longest path between any two nodes**\n",
    "\n",
    "Source: Ace the Data Science Interview, Question 9.9"
   ]
  },
  {
   "cell_type": "markdown",
   "id": "ae900ca8-95df-4c57-bfb2-83d10f62d59b",
   "metadata": {},
   "source": [
    "**10. Given a target number, generate a random sample of n integars that sum to that target that are also within sigma standard deviations of the mean.**\n",
    "\n",
    "Source: Ace the Data Science Interview, Question 9.10"
   ]
  },
  {
   "cell_type": "markdown",
   "id": "07cc6ee6-8af2-49fb-9e58-4c6f83786918",
   "metadata": {},
   "source": [
    "**11. You have the entire social graph of Facebook users, with nodes representing users and edges representing friendships between users. Given a social graph and two users as input, write a function to return the smallest number of friendships between the two users.**\n",
    "\n",
    "* Example 1:\n",
    "\n",
    "    Graph consists of 5 users (A, B, C, D, E) and the friendship edges are (A, B), (A, C), (B, D) and (D, E).\n",
    "\n",
    "    Two input users: A and E\n",
    "\n",
    "    Return 3 since A is friends with B, B is friends with D and D is friends with E\n",
    "\n",
    "Source: Ace the Data Science Interview, Question 9.11"
   ]
  },
  {
   "cell_type": "markdown",
   "id": "034f8912-0345-4dfd-b1a0-fe9ce857d7fb",
   "metadata": {},
   "source": [
    "**12. Given two strings A and B, write a function to return a list of all the start indices within A where the substring of A is an anagram of B.**\n",
    "\n",
    "* Example 1:\n",
    "\n",
    "    A = \"abcdcbac\" and B = \"abc\"\n",
    "\n",
    "    Return [0, 4, 5] as those are the starting indices of substrings that are anagrams of B\n",
    "\n",
    "Source: Ace the Data Science Interview, Question 9.12"
   ]
  },
  {
   "cell_type": "markdown",
   "id": "6862b668-fbc1-4db6-8c69-168dceb8bea2",
   "metadata": {},
   "source": [
    "**13. You are given an array of intervals, where each interval is represented by a start time and an end time, such as [1, 3]. Determine the smallest number of intervals to remove from the list, such that the rest of the intervals do not overlap. Intervals can touch, such as [1, 3] and [3, 5], but are not allowed to overlap, such as [1, 3] and [2, 5].**\n",
    "\n",
    "* Example 1:\n",
    "\n",
    "    Input array: [[1, 3], [3, 5], [2, 4], [6, 8]]\n",
    "\n",
    "    Return 1, since [2, 4] should be removed\n",
    "\n",
    "\n",
    "Source: Ace the Data Science Interview, Question 9.13"
   ]
  },
  {
   "cell_type": "markdown",
   "id": "709a6450-2d4e-4b60-b69b-0db08565ac51",
   "metadata": {},
   "source": [
    "**14. Given an array of strings, return a list of lists where each list contains the strings that are anagrams of one another.**\n",
    "\n",
    "* Example 1:\n",
    "\n",
    "    Input: [\"abc\", \"abd\", \"cab\", \"bad\", \"bca\", \"acd\"]\n",
    "\n",
    "    Return: [[\"abc\", \"cab\", \"bca\"], [\"abd\", \"bad\"], [\"acd\"]]\n",
    "\n",
    "\n",
    "Source: Ace the Data Science Interview, Question 9.14"
   ]
  },
  {
   "cell_type": "markdown",
   "id": "3beee5cd-6427-4617-952a-1c9244b96882",
   "metadata": {},
   "source": [
    "**15. Say there are n people. If person A is friends with person B, and person B is friends with person C, then person A is considered an indirect friend of person C. Define a friend group to be any group that is either directly or indirectly friends. Given an \"n-by-n \" adjacency matrix N, where N[i][j] is one if person i and person j are friends, and zero otherwise, write a function to determine how many friend groups exist.**\n",
    "\n",
    "Source: Ace the Data Science Interview, Question 9.15"
   ]
  },
  {
   "cell_type": "markdown",
   "id": "073e2ec2-40c0-47e8-8b1a-b1ccb682c022",
   "metadata": {},
   "source": [
    "**16. Given a linked list, return the head of the same linked list but with the k-th node from the end of a linked list removed.**\n",
    "\n",
    "* Example 1:\n",
    "  \n",
    "    Input linked list 3-2-5-1-4 and k=3\n",
    "\n",
    "    Return the linked list 3-2-1-4\n",
    "\n",
    "\n",
    "Source: Ace the Data Science Interview, Question 9.16"
   ]
  },
  {
   "cell_type": "markdown",
   "id": "3e1cc6f7-f57f-47e0-95a6-adf972113950",
   "metadata": {},
   "source": [
    "**17. Estimate pi using a Monte Carlo method.**\n",
    "\n",
    "Hint: Think about throwing darts on a square and seeing where they land within a circle.\n",
    "\n",
    "\n",
    "Source: Ace the Data Science Interview, Question 9.17"
   ]
  },
  {
   "cell_type": "markdown",
   "id": "76e329b4-e1bb-4895-8ee6-37522921b6e7",
   "metadata": {},
   "source": [
    "**18. Given a string with lowercase letters and left and right parentheses, remove the minimum number of parentheses so the string is valid (i.e. every left parentheses is correctly matched by a corresponding right parentheses).**\n",
    "\n",
    "* Example 1:\n",
    "\n",
    "    Input string: \")a(b((cd)e(f)g)\"\n",
    "\n",
    "    Return \"ab((cd)e(f)g)\"\n",
    "\n",
    "\n",
    "Source: Ace the Data Science Interview, Question 9.18"
   ]
  },
  {
   "cell_type": "markdown",
   "id": "e6753a02-c769-4e5b-818c-d90259c99166",
   "metadata": {},
   "source": [
    "**19. Given a list of one or more integers, write a function to generate all permutations of those integars.**\n",
    "\n",
    "* Example 1:\n",
    "\n",
    "    Input: [2, 3, 4]\n",
    "\n",
    "    Return the following 6 permutations: [2, 3, 4], [2, 4, 3], [3, 2, 4], [3, 4, 2], [4, 2, 3], [4, 2, 3], [4, 3, 2]\n",
    "\n",
    "\n",
    "Source: Ace the Data Science Interview, Question 9.19"
   ]
  },
  {
   "cell_type": "markdown",
   "id": "3ae50ddf-c7b1-4a4b-a197-8e1b442597fe",
   "metadata": {},
   "source": [
    "**20. Given a list of several categories (e.g. A, B, C, and D) sample from the list of categories according to a particular weighting scheme. For example, say we give A a relative weight of 5, B a weight of 10, C a weight of 15 and D a weight of 20. How do we construct this sampling? How do you extend the solution to an arbitrarily large number of k categories?**\n",
    "\n",
    "\n",
    "Source: Ace the Data Science Interview, Question 9.20"
   ]
  },
  {
   "cell_type": "markdown",
   "id": "60dacb2a-058e-4096-b01b-f0b23f0cb85b",
   "metadata": {},
   "source": [
    "**21. Given two arrays with integers, return the maximum length of a common subarray within both arrays.** \n",
    "\n",
    "* Example 1:\n",
    "\n",
    "    Input arrays: [1, 3, 5, 6, 7] and [2, 4, 3, 5, 6]\n",
    "\n",
    "    Return 3, since the length of the maximum common subarray [3, 5, 6] is 3.\n",
    "\n",
    "\n",
    "Source: Ace the Data Science Interview, Question 9.21"
   ]
  },
  {
   "cell_type": "markdown",
   "id": "aa942e6b-d31e-4fc2-bb90-9c93f2abfafe",
   "metadata": {},
   "source": [
    "**22. Given a list positive integers, return the maximum increasing subsequence sum. In other words, return the sum of the largest increasing subsequence within the input array.**\n",
    "\n",
    "* Example 1:\n",
    "\n",
    "    Input array: [3, 2, 5, 7, 6]\n",
    "\n",
    "    Return 15 because it's the sum of 3, 5, 7\n",
    "\n",
    "* Example 2:\n",
    "\n",
    "    Input array: [5, 4, 3, 2, 1]\n",
    "\n",
    "    Return 5 since no subsequence is increasing\n",
    "\n",
    "\n",
    "Source: Ace the Data Science Interview, Question 9.22"
   ]
  },
  {
   "cell_type": "markdown",
   "id": "6311a989-3d64-4aeb-970b-49b796bd3422",
   "metadata": {},
   "source": [
    "**23. Given a positive integer n, find the smallest number of perfect squares that sum up to n**\n",
    "\n",
    "* Example 1:\n",
    "\n",
    "    n = 7\n",
    "\n",
    "    Return 4 since 7 = 4 + 1 + 1 + 1\n",
    "\n",
    "* Example 2:\n",
    "\n",
    "    n = 13\n",
    "\n",
    "    Return 2 since 13 = 9 + 4\n",
    "\n",
    "\n",
    "Source: Ace the Data Science Interview, Question 9.23"
   ]
  },
  {
   "cell_type": "markdown",
   "id": "c9cad5b2-aa74-49be-81c3-754666d0cca2",
   "metadata": {},
   "source": [
    "**24 Given an integer n and an integer k, output a list of all the combinations of k numbers chosen from 1 to n.**\n",
    "\n",
    "* Example 1:\n",
    "\n",
    "    n = 3, k = 2\n",
    "\n",
    "    Return [1, 2], [1, 3], [2, 3]\n",
    "\n",
    "\n",
    "Source: Ace the Data Science Interview, Question 9.24"
   ]
  },
  {
   "cell_type": "markdown",
   "id": "cef79d1c-9534-4385-9ebb-55fd51ce4cc1",
   "metadata": {},
   "source": [
    "**25. Write a function that returns the number of trailing zeros in n!**\n",
    "\n",
    "* Example 1:\n",
    "\n",
    "    n = 5\n",
    "\n",
    "    Return 1, as 5! = 120\n",
    "\n",
    "Source DataLemur, Python Question \"Factorial Trailing Zeros\""
   ]
  },
  {
   "cell_type": "markdown",
   "id": "7b581a28-621a-468b-887e-5af7bb06d9fb",
   "metadata": {},
   "source": [
    "**26. Given a list of three numbers return the maximum product of any three numbers in the array**\n",
    "\n",
    "* Example 1:\n",
    "\n",
    "    Input [1, 3, 4, 5]\n",
    "\n",
    "    Return 60 as 3×4×5 = 60\n",
    "\n",
    "* Example 2:\n",
    "\n",
    "    Input [-4, -2, 3, 5]\n",
    "\n",
    "    Return 40 as -4×-2×5 = 40\n",
    "\n",
    "Source DataLemur, Python Question \"Maximum product of three numbers\""
   ]
  },
  {
   "cell_type": "markdown",
   "id": "35752f20-cdec-4328-8c78-21fd0a0560c9",
   "metadata": {},
   "source": [
    "**27. Given a list of integers called input, and an integer target. Return the index of the two numbers which sum to the target. Do not use the same element twice**\n",
    "\n",
    "Notes: Assume there aren't multiple solutions. If there is no valid solution return [-1, 1]. Return the indexes in increasing order.\n",
    "\n",
    "* Example 1:\n",
    "\n",
    "    Input = [1, 4, 6, 10] & target = 10\n",
    "\n",
    "    Return [1, 2]\n",
    "\n",
    "* Example 2:\n",
    "\n",
    "    Input = [1, 4, 6, 10] & target = 11\n",
    "\n",
    "    Return [0, 3]\n",
    "\n",
    "* Example 3:\n",
    "\n",
    "    Input = [1, 4, 6, 10] & target = 2\n",
    "\n",
    "    Return [-1, 1]\n",
    "\n",
    "Source DataLemur, Python Question \"Two sum\""
   ]
  },
  {
   "cell_type": "markdown",
   "id": "dbc75d4e-7535-44aa-9f09-5404ce9ec02b",
   "metadata": {},
   "source": [
    "**28. Given a target number, write a function to return the largest prime factor of that target number**\n",
    "\n",
    "* Example 1:\n",
    "\n",
    "    Target = 42\n",
    "\n",
    "    Return 7 as the prime factors are 2, 3 and 7\n",
    "\n",
    "* Example 2:\n",
    "\n",
    "    Target = 25\n",
    "\n",
    "    Return 5 as the prime factors are 5 and 5\n",
    "\n",
    "Source DataLemur, Python Question \"Largest prime factor\""
   ]
  },
  {
   "cell_type": "markdown",
   "id": "2a75dc39-a65c-4162-a530-f3635676062f",
   "metadata": {},
   "source": [
    "**29. Write a function to find the smallest number that is perfectly divisible (i.e. no remainder) by all numbers from 1 to a target number.**\n",
    "\n",
    "* Example 1:\n",
    "\n",
    "    Target = 5\n",
    "\n",
    "    Return 60 as it is the smallest number divisible by 1, 2, 3, 4, 5\n",
    "\n",
    "Source DataLemur, Python Question \"Smallest multiple\""
   ]
  },
  {
   "cell_type": "markdown",
   "id": "13b81bcb-4c37-4c93-97f4-4530a752f704",
   "metadata": {},
   "source": [
    "**30. Imagine you are working on a code version control system website (like GitHub). You are given a list of pull requests and each element within the list represents a range of lines that were changed in a specific pull request. Write a function which returns True or False depending on where there is a merge conflict.**\n",
    "\n",
    "Notes: A merge conflict means two pull requests are trying to change the same exact lines.\n",
    "\n",
    "* Example 1:\n",
    "\n",
    "    Pull requests: [[5, 10], [15, 40], [25, 50]]\n",
    "\n",
    "    Return True because there is a merge conflict between lines 25 and 40\n",
    "\n",
    "* Example 1:\n",
    "\n",
    "    Pull requests: [[30, 40], [10, 20], [5, 8]]\n",
    "\n",
    "    Return False as there is no merge conflict.\n",
    "\n",
    "Source DataLemur, Python Question \"Merge conflicts\""
   ]
  },
  {
   "cell_type": "markdown",
   "id": "298b7d4d-d60a-476c-9e5e-2f2017e1f459",
   "metadata": {},
   "source": [
    "**31. Given an integer array, find the sum of the largest contiguous subarray within the array. If all elements are negative return zero**\n",
    "\n",
    "* Example 1:\n",
    "\n",
    "    Input: [-1, -3, 5, -4, 3, -6, 9, 2]\n",
    "\n",
    "    Return 11 because of [9, 2]\n",
    "\n",
    "Source DataLemur, Python Question \"Largest contiguous subarray sum\""
   ]
  },
  {
   "cell_type": "markdown",
   "id": "c1cd9def-ab21-44ed-8e5f-3d1dcb4a9688",
   "metadata": {},
   "source": [
    "--------------------------"
   ]
  },
  {
   "cell_type": "markdown",
   "id": "54cbc12d-6bb0-423a-bbb9-70cff20baa80",
   "metadata": {},
   "source": [
    "## Hard"
   ]
  },
  {
   "cell_type": "markdown",
   "id": "608a38e2-9220-4870-b277-f09e34a8b592",
   "metadata": {},
   "source": [
    "**32. Given a string with left and right parentheses, write a function to determine the length of the longest well formed substring.**\n",
    "\n",
    "* Example 1:\n",
    "\n",
    "    Input string: \")(())(,\"\n",
    "\n",
    "    Return string \"(())\"\n",
    "\n",
    "Source: Ace the Data Science Interview, Question 9.25"
   ]
  },
  {
   "cell_type": "markdown",
   "id": "053d27e9-696d-4dda-9f9a-7f5f271aa051",
   "metadata": {},
   "source": [
    "**32. Given an m-by-n matrix with positive integers, determine the length of the longest path of increasing integers within the matrix.**\n",
    "\n",
    "* Example 1:\n",
    "\n",
    "    Input matrix: [[1, 2, 3], [4, 5, 6], [7, 8, 9]]\n",
    "\n",
    "    Return 5 since the longest path is 1-2-5-6-9\n",
    "\n",
    "Source: Ace the Data Science Interview, Question 9.26"
   ]
  },
  {
   "cell_type": "markdown",
   "id": "5e4c1b0a-48aa-428e-8254-f7029928e131",
   "metadata": {},
   "source": [
    "**33. Given a number n, return the number of lists of consecutive positive integers that sum up to n. Solve in linear time.**\n",
    "\n",
    "* Example 1:\n",
    "\n",
    "    n = 9\n",
    "\n",
    "    Return 3 since the consecutive positive integer lists are [2, 3, 4], [4, 5] and [9]\n",
    "\n",
    "Source: Ace the Data Science Interview, Question 9.27"
   ]
  },
  {
   "cell_type": "markdown",
   "id": "06ad5237-0162-42b0-b552-47aebfa0146e",
   "metadata": {},
   "source": [
    "**34. Given a continuous stream of integers, write a class with functions to add new integers to the stream, and a function to calculate the median at any time.**\n",
    "\n",
    "Source: Ace the Data Science Interview, Question 9.28"
   ]
  },
  {
   "cell_type": "markdown",
   "id": "951bd06b-4143-4d55-aa25-4fdbf7a2cb51",
   "metadata": {},
   "source": [
    "**35. Given an input string and a regex, write a function that checks whether the regex matches the input string. The input string is composed of the lowercase letters a-z. The regular expression contains lowercase a-z, '?', or '*'.**\n",
    "\n",
    "Notes: '?' matches any one character and '*' matches an arbitrary number of characters (empty as well)\n",
    "\n",
    "* Example 1:\n",
    "\n",
    "    Input string \"abcdba\" and regex \"a*c?*\"\n",
    "\n",
    "    Return True\n",
    "\n",
    "* Example 2:\n",
    "\n",
    "    Input string \"abcdba\" and regex \"b*c?*\"\n",
    "\n",
    "    Return False\n",
    "\n",
    "Source: Ace the Data Science Interview, Question 9.29"
   ]
  },
  {
   "cell_type": "markdown",
   "id": "61e8a0dc-ce10-4068-96e7-b04b349a72cf",
   "metadata": {},
   "source": [
    "**36. A fire department wants to build a new fire station in a location where the total distance from the station to all houses in the town (in Euclidean terms) is minimized. Given a list of coordinates for the n houses, return the coordinates of the optimal location for the new fire station**\n",
    "\n",
    "Source: Ace the Data Science Interview, Question 9.30"
   ]
  }
 ],
 "metadata": {
  "kernelspec": {
   "display_name": "nl2vis",
   "language": "python",
   "name": "nl2vis"
  },
  "language_info": {
   "codemirror_mode": {
    "name": "ipython",
    "version": 3
   },
   "file_extension": ".py",
   "mimetype": "text/x-python",
   "name": "python",
   "nbconvert_exporter": "python",
   "pygments_lexer": "ipython3",
   "version": "3.10.12"
  }
 },
 "nbformat": 4,
 "nbformat_minor": 5
}
