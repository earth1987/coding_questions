{
 "cells": [
  {
   "cell_type": "markdown",
   "id": "639c2a74-aa67-477f-b783-ca0583394ad2",
   "metadata": {},
   "source": [
    "# Coding"
   ]
  },
  {
   "cell_type": "markdown",
   "id": "a63a8569-883b-4a77-be13-6caf93030951",
   "metadata": {},
   "source": [
    "## Resources\n",
    "* https://www.youtube.com/watch?v=BgLTDT03QtU\n",
    "* https://neetcode.io/practice"
   ]
  },
  {
   "cell_type": "markdown",
   "id": "4216a2ed-b51b-44f2-a644-c345f4aff18a",
   "metadata": {},
   "source": [
    "## Big O notation"
   ]
  },
  {
   "cell_type": "markdown",
   "id": "7b03899a-fcf2-4f03-adc1-7865ea627a40",
   "metadata": {},
   "source": [
    "### Intro\n",
    "\n",
    "* Used to classify algorithms in terms of their efficiency as the input size approaches infinity\n",
    "  \n",
    "* It tells us how space/time requirements *scale* with input size\n",
    "\n",
    "  **Note:** It does NOT tell us the precise running time (which will depend on hardware and usage)\n",
    "\n",
    "***Runtime complexity classes***\n",
    "\n",
    "For an array of size N, the following classes are ascending order for execution time@\n",
    "1. O(1) - execution time does not depend on input size\n",
    "2. O(log N)\n",
    "3. O(N)\n",
    "4. O(N log N)\n",
    "5. O(N^2)\n",
    "6. O(N^3)\n",
    "7. O(2^N)\n",
    "8. O(N!)\n",
    "\n",
    "***Rules***\n",
    "1. If the growth function is a sum of several terms, the one with the largest growth rate can be kept and the others ommitted.\n",
    "2. If the growth function is a product of several factors, any consitants that don't depend on input size can be ommitted"
   ]
  },
  {
   "cell_type": "markdown",
   "id": "2cb717bb-85c6-40a7-b0b5-a1a7ad192e1b",
   "metadata": {},
   "source": [
    " -------------------------------------------"
   ]
  },
  {
   "cell_type": "markdown",
   "id": "a85babb7-ee2c-4338-b7de-243f5460c6d0",
   "metadata": {},
   "source": [
    "### 1. Constant time - O(1)\n",
    "\n",
    "***Basics***\n",
    "1. Adding/removing elements at the end of an array\n",
    "2. Searching for a key in a hash table\n",
    "3. Getting values at a specific index of an array\n",
    "4. Adding/removing key, value pairs in a hash table"
   ]
  },
  {
   "cell_type": "code",
   "execution_count": null,
   "id": "83eeb89f-a1fa-4ee3-b3cb-d58b9479dc62",
   "metadata": {},
   "outputs": [],
   "source": [
    "# O(1) for an array of values\n",
    "nums = [1, 2, 3, 4, 5]\n",
    "\n",
    "nums.append(4) # Add to the end\n",
    "nums.pop() # Remove from the end\n",
    "nums[3] # Get a value at a particular index"
   ]
  },
  {
   "cell_type": "code",
   "execution_count": null,
   "id": "b23166a7-4596-4fc3-bf55-e45de0db7010",
   "metadata": {},
   "outputs": [],
   "source": [
    "# O(1) for a hash table / hash set\n",
    "hash_table = {}\n",
    "\n",
    "hash_table['key'] = 10 # Insert key, value pair\n",
    "print('key' in hash_table) # Searching for a key\n",
    "print(hash_table['key']) # Lookup value\n",
    "hash_table.pop('key') # Remove key, value pair"
   ]
  },
  {
   "cell_type": "markdown",
   "id": "7a298c70-039b-427a-ae4d-43d0588fb9e9",
   "metadata": {},
   "source": [
    "-------------------------------------------------------------"
   ]
  },
  {
   "cell_type": "markdown",
   "id": "67380f1c-244b-4e40-8233-7315fa908348",
   "metadata": {},
   "source": [
    "### 2. Logarithmic time (log N)\n",
    "Scales very slowly with input size. For example, with 2 billion points:\n",
    "* O(log N) = log_2(2billion) = 30\n",
    "* O(N) = 2 billion"
   ]
  },
  {
   "cell_type": "markdown",
   "id": "9c573ee4-ddf2-4246-87ed-705548c8f893",
   "metadata": {},
   "source": [
    "***Algorithms***\n",
    "* Binary search on an array\n",
    "* Binary search on a balanced binary search tree\n",
    "* Pushing and popping from a heap"
   ]
  },
  {
   "cell_type": "code",
   "execution_count": 7,
   "id": "d6a588a4-06b0-47e4-b33e-c34ad619a3ff",
   "metadata": {},
   "outputs": [
    {
     "ename": "SyntaxError",
     "evalue": "expected ':' (2170531384.py, line 49)",
     "output_type": "error",
     "traceback": [
      "\u001b[1;36m  Cell \u001b[1;32mIn[7], line 49\u001b[1;36m\u001b[0m\n\u001b[1;33m    else self.nums[mid] = target:\u001b[0m\n\u001b[1;37m         ^\u001b[0m\n\u001b[1;31mSyntaxError\u001b[0m\u001b[1;31m:\u001b[0m expected ':'\n"
     ]
    }
   ],
   "source": [
    "# Binary search on an array\n",
    "class BinarySearch:\n",
    "    def __init__(self, array):\n",
    "        self.nums = array\n",
    "        \n",
    "\n",
    "    def search_array(self, target):\n",
    "        \"\"\"Given an array of integers, nums, which is sorted in ascending order, \n",
    "        and an integer target, write a function to search target in nums.\n",
    "        If target exists, then return its index. Otherwise, return -1.\n",
    "        \"\"\"\n",
    "        low = 0\n",
    "        high = len(self.nums) - 1\n",
    "        mid = 0\n",
    "        \n",
    "        while low <= high:\n",
    "            mid = low + (high - low) // 2 # floor division\n",
    "            \n",
    "            if self.nums[mid] > target:\n",
    "                high = mid-1\n",
    "                \n",
    "            elif self.nums[mid] < target:\n",
    "                low = mid + 1\n",
    "                \n",
    "            else: # self.nums[mid] = target\n",
    "                return mid       \n",
    "        return -1\n",
    "\n",
    "nums = BinarySearch([1, 2, 3, 4, 5, 6])\n",
    "nums.search_array(100)"
   ]
  },
  {
   "cell_type": "markdown",
   "id": "48a3f3ee-60f6-4bc0-8955-d88aa46285a4",
   "metadata": {},
   "source": [
    "--------------------------------------------------------------------------------"
   ]
  },
  {
   "cell_type": "markdown",
   "id": "57f253e5-d599-4e1b-85d2-a812ebd57b69",
   "metadata": {},
   "source": [
    "### 3. Linear time - O(N)\n",
    "\n",
    "***Basics***\n",
    "1. Summing elements in an array\n",
    "2. Looping through elements in a 1-D array\n",
    "3. Searching an array for an element in an arbitrary position\n",
    "4. Inserting into an arbitrary position (not at the end) - as each element must be shifted along the index\n",
    "5. Removing from an arbitrary position (not at the end) - as each element must be shifted along the index\n",
    "\n",
    "Note: The latter 3 are worse case scenarios. But we assume the worse in Big O notation.\n"
   ]
  },
  {
   "cell_type": "code",
   "execution_count": null,
   "id": "d287e327-1fb2-4b41-85ad-e4531a2976fc",
   "metadata": {},
   "outputs": [],
   "source": [
    "# O(n) for an array\n",
    "nums = [1, 2, 3, 4, 5]\n",
    "\n",
    "print(sum(nums)) # Sum function\n",
    "for i in nums: print(i) # For loop\n",
    "print(100 in nums) # Searching an array\n",
    "nums.insert(3, 100) # Inserting into arbitrary position (not the end)\n",
    "nums.remove(100) # Removing from an arbitrary position (not the end)"
   ]
  },
  {
   "cell_type": "markdown",
   "id": "4703c8dc-6445-4a85-8803-da52332422b0",
   "metadata": {},
   "source": [
    "***Algorithms***\n",
    "1. Sliding window algorithm"
   ]
  },
  {
   "cell_type": "code",
   "execution_count": null,
   "id": "6e6069f3-349a-4562-9a6d-a3b17a5b4b5a",
   "metadata": {},
   "outputs": [],
   "source": [
    "# Sliding window algorithm\n",
    "def maxProfit(prices):\n",
    "    \"\"\"Best Time to Buy And Sell Stock\n",
    "    Returns the maximum profit given a sequence of stock prices\n",
    "    \"\"\"\n",
    "    profit = 0\n",
    "    lowest = prices[0]\n",
    "    \n",
    "    for price in prices[1:]:\n",
    "        if price < lowest:\n",
    "            lowest = price\n",
    "        elif price - lowest > profit:\n",
    "            profit = price - lowest\n",
    "\n",
    "    return profit\n",
    "\n",
    "list_prices = [1, 2, 3, 4, 5]\n",
    "maxProfit(list_prices)"
   ]
  },
  {
   "cell_type": "code",
   "execution_count": null,
   "id": "e40401ae-a31e-4c4a-91f2-4adaf83162bb",
   "metadata": {},
   "outputs": [],
   "source": [
    "# Sliding window algorithm\n",
    "def lengthOfLongestSubstring(string):\n",
    "    \"\"\"Longest Substring Without Repeating Characters\"\"\"\n",
    "    repeats = dict()\n",
    "    start = 0\n",
    "    longest = 0\n",
    "\n",
    "    for i, char in enumerate(string):\n",
    "        if char in repeats and repeats[char] >= start:\n",
    "            start = repeats[char] + 1\n",
    "                \n",
    "        repeats[char] = i\n",
    "\n",
    "        if longest < i - start + 1:\n",
    "            longest = i - start + 1\n",
    "    \n",
    "    return longest\n",
    "\n",
    "input_string = 'Bobby'\n",
    "lengthOfLongestSubstring(input_string)"
   ]
  },
  {
   "cell_type": "markdown",
   "id": "e137974e-ca9d-4df2-ba56-cf0e71e5b808",
   "metadata": {},
   "source": [
    "-----------------------------------------------------------------"
   ]
  },
  {
   "cell_type": "markdown",
   "id": "b03334c2-d04b-4db5-bfa1-782448a9fc9e",
   "metadata": {},
   "source": [
    "### 4. Log-linear time - O(N logN)"
   ]
  },
  {
   "cell_type": "markdown",
   "id": "21c25c33-c569-4002-ab17-ca1a75af82b2",
   "metadata": {},
   "source": [
    "***Algorithms***\n",
    "* Heap sort\n",
    "* Merge sort"
   ]
  },
  {
   "cell_type": "markdown",
   "id": "f97ba166-66fd-42cc-97fc-486a2d5f690c",
   "metadata": {},
   "source": [
    "----------------------------------------------------------------------------------"
   ]
  },
  {
   "cell_type": "markdown",
   "id": "a72e5b93-be00-482b-985d-ae1e7326eefa",
   "metadata": {},
   "source": [
    "### 5. Quadratic time - O(N<sup>2</sup>)\n",
    "\n",
    "***Basics***\n",
    "1. Traversing a square grid\n",
    "2. Getting every pair combination of elements in an array\n",
    "\n",
    "Note: Traversing a rectangular grid is O(N*M)."
   ]
  },
  {
   "cell_type": "code",
   "execution_count": null,
   "id": "778af3d9-990a-46f8-9554-2644fce85b73",
   "metadata": {},
   "outputs": [],
   "source": [
    "# O(N^2) for an array\n",
    "\n",
    "# Traverse a square grid\n",
    "nums = [[1, 2, 3], [4, 5, 6], [7, 8, 9]]\n",
    "for i in range(len(nums)): \n",
    "    for j in range(len(nums[i])):\n",
    "        print(nums[i][j])\n",
    "\n",
    "# Get every pair combination of elements in an array\n",
    "nums = [1, 2, 3, 4, 5]\n",
    "for i in range(len(nums)): \n",
    "    for j in range(i+1, len(nums)):\n",
    "        print(nums[i], nums[j])"
   ]
  },
  {
   "cell_type": "markdown",
   "id": "0ad5f9b9-55b4-42d8-9572-5b9c94f6ac69",
   "metadata": {},
   "source": [
    "***Algorithms***\n",
    "1. Sorting using the insertion sort algorithm (insertion into the middle n times)"
   ]
  },
  {
   "cell_type": "code",
   "execution_count": 6,
   "id": "eafcb97b-f441-4d5f-9a2a-75e3f749e242",
   "metadata": {},
   "outputs": [
    {
     "data": {
      "text/plain": [
       "[5, 6, 11, 12, 13]"
      ]
     },
     "execution_count": 6,
     "metadata": {},
     "output_type": "execute_result"
    }
   ],
   "source": [
    "class InsertionSort:\n",
    "    def __init__(self, array):\n",
    "        self.nums = array\n",
    "\n",
    "    \n",
    "    def sort(self):\n",
    "        n = len(self.nums)  # Get the length of the array\n",
    "\n",
    "        if n <= 1:\n",
    "            return  # If the array has 0 or 1 element, it is already sorted, so return\n",
    "     \n",
    "        for i in range(1, n):  # Iterate over the array starting from the second element\n",
    "            key = self.nums[i]  # Store the current element as the key to be inserted in the right position\n",
    "            j = i-1\n",
    "            \n",
    "            while j >= 0 and key < self.nums[j]:  # Move elements greater than key one position ahead\n",
    "                self.nums[j+1] = self.nums[j]  # Shift elements to the right\n",
    "                j -= 1\n",
    "            self.nums[j+1] = key  # Insert the key in the correct position\n",
    "        \n",
    "        return self.nums\n",
    "\n",
    "array = InsertionSort([12, 11, 13, 5, 6])\n",
    "array.sort()"
   ]
  },
  {
   "cell_type": "markdown",
   "id": "326d61b2-fcf2-47f9-a339-e0e43148684c",
   "metadata": {},
   "source": [
    "---------------------------------------------------------------------------------------"
   ]
  },
  {
   "cell_type": "markdown",
   "id": "f6f53ab5-8a9c-42f5-8587-712bead52a13",
   "metadata": {},
   "source": [
    "### 6. Cubic time - O(N<sup>3</sup>)\n",
    "\n",
    "***Basics***\n",
    "1. Getting every triplet combination of elements in an array"
   ]
  },
  {
   "cell_type": "code",
   "execution_count": null,
   "id": "23da202b-ec98-41f4-8060-008a15b17f3a",
   "metadata": {},
   "outputs": [],
   "source": [
    "# Get every triplet combination of elements in an array\n",
    "nums = [1, 2, 3, 4, 5]\n",
    "\n",
    "for i in range(len(nums)): \n",
    "    for j in range(i+1, len(nums)):\n",
    "        for k in range(j+1, len(nums)):\n",
    "            print(nums[i], nums[j], nums[k])"
   ]
  },
  {
   "cell_type": "markdown",
   "id": "356ce36c-5e61-440d-93a8-9f7f59e98c44",
   "metadata": {},
   "source": [
    "----------------------------------------------------------------------------"
   ]
  },
  {
   "cell_type": "markdown",
   "id": "472fb7bf-150e-4073-8fba-82e039699de1",
   "metadata": {},
   "source": [
    "### 7. Exponential time - O(2<sup>N</sup>)\n",
    "* Larger base constants are some times applicable and these would scale faster with input size.\n",
    "\n",
    "***Basics***\n",
    "* Common with applications where there are branches of recursion\n",
    "\n",
    "***Algorithms***\n",
    "* Decision trees (N = depth)"
   ]
  },
  {
   "cell_type": "code",
   "execution_count": null,
   "id": "96764156-072a-4ef3-92d2-c74a931e148e",
   "metadata": {},
   "outputs": [],
   "source": [
    "### O(2^N) - Two branches of recursion\n",
    "def recursion(i, nums):\n",
    "    if i == len(nums):\n",
    "        return 0\n",
    "    branch1 = recursion(i+1, nums)\n",
    "    branch2 = recursion(i+1, nums)"
   ]
  },
  {
   "cell_type": "code",
   "execution_count": null,
   "id": "f1b7bb09-9484-4c39-9f6d-7602aa15c595",
   "metadata": {},
   "outputs": [],
   "source": [
    "### O(C^N) - C branches of recursion\n",
    "def recursion(i, nums, C):\n",
    "    if i == len(nums):\n",
    "        return 0\n",
    "    for j in range(i, i + c):\n",
    "        branch = recursion(j+1, nums)"
   ]
  },
  {
   "cell_type": "markdown",
   "id": "27bae748-b6be-420f-93f6-0cce8f8d4608",
   "metadata": {},
   "source": [
    "---------------------------------------------------------------------"
   ]
  },
  {
   "cell_type": "markdown",
   "id": "ccf29ef0-5807-4097-99bd-c814dd9327ad",
   "metadata": {},
   "source": [
    "### 8. Factorial time - O(N!)\n",
    "* Very inefficient\n",
    "\n",
    "***Basics***\n",
    "* Finding all permutations of an array."
   ]
  },
  {
   "cell_type": "markdown",
   "id": "c1884837-06d3-42d7-866f-2096d1fd1ce5",
   "metadata": {},
   "source": [
    "***Algorithms***\n",
    "* Travelling salesman"
   ]
  },
  {
   "cell_type": "markdown",
   "id": "c9814e42-dda8-40c3-a096-22dd0f0b9e94",
   "metadata": {},
   "source": [
    "---------------------------------------------------------------------------------"
   ]
  },
  {
   "cell_type": "markdown",
   "id": "e5865855-8f47-4608-98ec-0de2bec1e565",
   "metadata": {},
   "source": [
    "## Interview questions"
   ]
  },
  {
   "cell_type": "markdown",
   "id": "a081fac1-74de-4def-aea4-fda0b8c8ce6a",
   "metadata": {},
   "source": [
    "## Easy"
   ]
  },
  {
   "cell_type": "markdown",
   "id": "e796ea89-5c46-42a5-8cc7-ef51ab1d38d8",
   "metadata": {},
   "source": [
    "**1. Given two arrays, write a function to get the intersection of the two. For example, if A = [1, 2, 3, 4, 5] and B = [0, 1, 3, 7] then you should return [1, 3].**"
   ]
  },
  {
   "cell_type": "markdown",
   "id": "4eec0ab8-4683-4d9e-acbb-19b107063e83",
   "metadata": {},
   "source": [
    "**2. Given an integar array, return the maximum product of any three numbers in the array. For example, for A = [1, 3, 4, 5], you should return 60, while for B = [-2, -4, 5, 3] you should return 40.**"
   ]
  },
  {
   "cell_type": "markdown",
   "id": "5d50bc07-9af8-4103-b11e-c83f66f3fce3",
   "metadata": {},
   "source": [
    "**3. Given a list of coordinates, write a function to find the k closes points (measured by Euclidian distance) to the origin. For example, if k = 3, and the points are: [[2, -1], [3, 2], [4, 1], [-1, -1], [-2, 2]], then return [[-1, -1], [2, -1], [-2, 2]]**"
   ]
  },
  {
   "cell_type": "markdown",
   "id": "887143d5-4c2e-49ff-a8e9-3fdf1087f039",
   "metadata": {},
   "source": [
    "**4. Say you have an *n-by-n* matrix of elements that are sorted in ascending order both in the columns and rows of the matrix. Return the *k-th* smallest element of the matrix. For example, for the matrix below, return 5 if k =4:\n",
    "[[1, 4, 7], [3, 5, 9], [6, 8, 11]]**"
   ]
  },
  {
   "cell_type": "markdown",
   "id": "730df9cc-d751-4c91-aba7-7e570122d348",
   "metadata": {},
   "source": [
    "**5. Given an integar array, find the sum of the largest contiguous subarray within the array. For example if the input is [-1, -3, 5, -4, 3, -6, 9, 2], then return 11 (because of [9, 2]). Note that if all the elements are negative, you should return 0.**"
   ]
  },
  {
   "cell_type": "markdown",
   "id": "dfc6c21d-3272-4533-b698-dcc14534da45",
   "metadata": {},
   "source": [
    "**6. Given a binary tree, write a function to determine whether the tree is a mirror image of itself. Two trees are a mirror image of each other if their root values are the same and the left subtree is a mirror image of the right subtree.**"
   ]
  },
  {
   "cell_type": "markdown",
   "id": "77b9737a-6db9-4455-980f-8e63b6f31e42",
   "metadata": {},
   "source": [
    "## Medium"
   ]
  },
  {
   "cell_type": "markdown",
   "id": "f5fec2db-e320-48a9-a93a-5a1363444a63",
   "metadata": {},
   "source": [
    "**7. Given an array of positive integers, a peak element is greater than its neighbors. Write a function to find the index of an peak elements. For example, for [3, 5, 2, 4, 1], you should return either 1 or 3 because the values at those indexes, 5 and 4, are both peak elements.**"
   ]
  }
 ],
 "metadata": {
  "kernelspec": {
   "display_name": "nl2vis",
   "language": "python",
   "name": "nl2vis"
  },
  "language_info": {
   "codemirror_mode": {
    "name": "ipython",
    "version": 3
   },
   "file_extension": ".py",
   "mimetype": "text/x-python",
   "name": "python",
   "nbconvert_exporter": "python",
   "pygments_lexer": "ipython3",
   "version": "3.10.12"
  }
 },
 "nbformat": 4,
 "nbformat_minor": 5
}
