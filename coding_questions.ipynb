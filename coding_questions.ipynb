{
 "cells": [
  {
   "cell_type": "markdown",
   "id": "639c2a74-aa67-477f-b783-ca0583394ad2",
   "metadata": {},
   "source": [
    "# Coding tips"
   ]
  },
  {
   "cell_type": "markdown",
   "id": "e5865855-8f47-4608-98ec-0de2bec1e565",
   "metadata": {},
   "source": [
    "# Coding interview questions"
   ]
  },
  {
   "cell_type": "markdown",
   "id": "a081fac1-74de-4def-aea4-fda0b8c8ce6a",
   "metadata": {},
   "source": [
    "## Easy"
   ]
  },
  {
   "cell_type": "markdown",
   "id": "e796ea89-5c46-42a5-8cc7-ef51ab1d38d8",
   "metadata": {},
   "source": [
    "**1. Given two arrays, write a function to get the intersection of the two. For example, if A = [1, 2, 3, 4, 5] and B = [0, 1, 3, 7] then you should return [1, 3].**"
   ]
  },
  {
   "cell_type": "markdown",
   "id": "4eec0ab8-4683-4d9e-acbb-19b107063e83",
   "metadata": {},
   "source": [
    "**2. Given an integar array, return the maximum product of any three numbers in the array. For example, for A = [1, 3, 4, 5], you should return 60, while for B = [-2, -4, 5, 3] you should return 40.**"
   ]
  },
  {
   "cell_type": "markdown",
   "id": "5d50bc07-9af8-4103-b11e-c83f66f3fce3",
   "metadata": {},
   "source": [
    "**3. Given a list of coordinates, write a function to find the k closes points (measured by Euclidian distance) to the origin. For example, if k = 3, and the points are: [[2, -1], [3, 2], [4, 1], [-1, -1], [-2, 2]], then return [[-1, -1], [2, -1], [-2, 2]]**"
   ]
  },
  {
   "cell_type": "markdown",
   "id": "887143d5-4c2e-49ff-a8e9-3fdf1087f039",
   "metadata": {},
   "source": [
    "**4. Say you have an *n-by-n* matrix of elements that are sorted in ascending order both in teh columns and rows of the matrix. Return the *k-th* smallest element of the matrix. For example, for the matrix below, return 5 if k =4:\n",
    "[[1, 4, 7], [3, 5, 9], [6, 8, 11]]**"
   ]
  },
  {
   "cell_type": "markdown",
   "id": "730df9cc-d751-4c91-aba7-7e570122d348",
   "metadata": {},
   "source": [
    "**5. Given an integar array, find the sum of the largest contiguous subarray within the array. For example if the input is [-1, -3, 5, -4, 3, -6, 9, 2], then return 11 (because of [9, 2]). Note that if all the elements are negative, you should return 0.**"
   ]
  },
  {
   "cell_type": "markdown",
   "id": "dfc6c21d-3272-4533-b698-dcc14534da45",
   "metadata": {},
   "source": [
    "**6. Given a binary tree, write a function to determine whether the tree is a mirror image of itself. Two trees are a mirror image of each other if their root values are the same and the left subtree is a mirror image of the right subtree.**"
   ]
  },
  {
   "cell_type": "markdown",
   "id": "77b9737a-6db9-4455-980f-8e63b6f31e42",
   "metadata": {},
   "source": [
    "## Medium"
   ]
  },
  {
   "cell_type": "markdown",
   "id": "f5fec2db-e320-48a9-a93a-5a1363444a63",
   "metadata": {},
   "source": [
    "**7. Given an array of positive integers, a peak element is greater than its neighbors. Write a function to find the index of an peak elements. For example, for [3, 5, 2, 4, 1], you should return either 1 or 3 because the values at those indexes, 5 and 4, are both peak elements.**"
   ]
  }
 ],
 "metadata": {
  "kernelspec": {
   "display_name": "nl2vis",
   "language": "python",
   "name": "nl2vis"
  },
  "language_info": {
   "codemirror_mode": {
    "name": "ipython",
    "version": 3
   },
   "file_extension": ".py",
   "mimetype": "text/x-python",
   "name": "python",
   "nbconvert_exporter": "python",
   "pygments_lexer": "ipython3",
   "version": "3.10.12"
  }
 },
 "nbformat": 4,
 "nbformat_minor": 5
}
