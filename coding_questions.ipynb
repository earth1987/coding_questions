{
 "cells": [
  {
   "cell_type": "markdown",
   "id": "639c2a74-aa67-477f-b783-ca0583394ad2",
   "metadata": {},
   "source": [
    "# Python coding questions"
   ]
  },
  {
   "cell_type": "code",
   "execution_count": 3,
   "id": "fe0bbdb2-8015-4d4e-be1a-58c87d526e1f",
   "metadata": {},
   "outputs": [],
   "source": [
    "import heapq\n",
    "import math\n",
    "import numpy as np"
   ]
  },
  {
   "cell_type": "markdown",
   "id": "1ab2dc3f-9981-4b0f-a643-5788359665de",
   "metadata": {},
   "source": [
    "## Tips"
   ]
  },
  {
   "cell_type": "markdown",
   "id": "60645016-5905-49ba-9a1b-50d35d44bb60",
   "metadata": {},
   "source": [
    "**1. Clarify the question and assumptions**\n",
    "\n",
    "* Don't jump into coding!\n",
    "  \n",
    "* Repeat the question back to the interview and clarify the assumptions.\n",
    "\n",
    "* Confirm input format & range\n",
    "\n",
    "* Confirm the input can be assumed to be non-null or well formed\n",
    "\n",
    "* Work through an example input and see if you get the expected output"
   ]
  },
  {
   "cell_type": "markdown",
   "id": "67c3cf10-50f6-45a6-b87f-80b200d7eb34",
   "metadata": {},
   "source": [
    "**2. Brainstorm a solution**\n",
    "\n",
    "* Explain at a high level how you could tackle the question\n",
    "\n",
    "* Begin with a brute force approach. Explain why this is inefficient.\n",
    "\n",
    "* If possible, choose an optimal approach and explain why it is better.\n",
    "\n",
    "Note: Consider time complexity, recursion or not using surplus memory (i.e. solving in place)"
   ]
  },
  {
   "cell_type": "markdown",
   "id": "54dfc142-82e8-43f1-9998-3d668a919748",
   "metadata": {},
   "source": [
    "**3. Code the solution**\n",
    "\n",
    "* Explain what you are coding.\n",
    "\n",
    "* Use clear variable names and follow good code organisation principles (e.g. PEP 8)\n",
    "\n",
    "* You are allowed to cut some corners (e.g. by assuming a helper method exists) but be explicit and offer to fix this later on."
   ]
  },
  {
   "cell_type": "markdown",
   "id": "732f177b-4494-4854-8252-d2b6c32f7553",
   "metadata": {},
   "source": [
    "**4. Test**\n",
    "\n",
    "* Make sure there are no mistakes or edge cases not handled.\n",
    "\n",
    "* Write and execute test cases to prove you solved the problem."
   ]
  },
  {
   "cell_type": "markdown",
   "id": "1e431de5-48ab-44eb-8371-ccd0e4db0b22",
   "metadata": {},
   "source": [
    "**5. Time complexity**\n",
    "\n",
    "* The time complexity of an algorithm is the amount of computer time it takes to run an algorithm as a function of the input."
   ]
  },
  {
   "cell_type": "markdown",
   "id": "252ccad8-7a30-475c-8157-9b4d858ef17b",
   "metadata": {},
   "source": [
    "**6. Space complexity**\n",
    "\n",
    "* The space complexity of an algorithm is the amount of memory space required as a function of characteristics of the input.\n",
    "\n",
    "* Space complexity takes into account the space required to store the input (AKA input space) as well as extra space required during computation such as temporary variables, data structures and recursive call stacks (AKA auxiliary space)."
   ]
  },
  {
   "cell_type": "markdown",
   "id": "9738ea34-8c37-44a9-bb67-5a6ab00f1e4a",
   "metadata": {},
   "source": [
    "## Sorting"
   ]
  },
  {
   "cell_type": "markdown",
   "id": "8bb5c02c-aedd-46c3-acad-d798415961e0",
   "metadata": {},
   "source": [
    "**Merge sort**\n",
    "\n",
    "* The merge sort algorithm has a time complexity of $O(N Log N)$. Key steps:\n",
    "\n",
    "    (1) it divides the input into smaller subarrays until a base case of a single element is reached.\n",
    "  \n",
    "    (2) These elements are then merged into smaller sorted subarrays until the entire input is merged."
   ]
  },
  {
   "cell_type": "markdown",
   "id": "ad24ed58-6a7d-40b9-83b9-e5ce58ee330d",
   "metadata": {},
   "source": [
    "**Quick sort**\n",
    "\n",
    "* Key steps of the quick sort algorithm:\n",
    "\n",
    "    (1) Splits the array into two subarrays by selecting an arbitrary pivot element and putting elements smaller than the pivot in the left branch (and those larger in the right branch)\n",
    "\n",
    "    (2) Repeat step (1) recursively until only sorted individual elements remain.\n",
    "\n",
    "    (3) These elements are then merged into a sorted array.\n",
    "\n",
    "* When arrays are split on arbitrary elements, quick sort has a time complexity of $O(N^2)$. If arrays are split strategically split into roughly equal halves, it has a time complexity closer to $O(N Log N)$."
   ]
  },
  {
   "cell_type": "markdown",
   "id": "c109e84f-eec5-482d-b5f0-eeab8c3062d8",
   "metadata": {},
   "source": [
    "--------------------"
   ]
  },
  {
   "cell_type": "markdown",
   "id": "137a83b3-b214-4376-89fc-e5dba8828702",
   "metadata": {},
   "source": [
    "--------------------"
   ]
  },
  {
   "cell_type": "markdown",
   "id": "a081fac1-74de-4def-aea4-fda0b8c8ce6a",
   "metadata": {},
   "source": [
    "## Easy questions"
   ]
  },
  {
   "cell_type": "markdown",
   "id": "1fb75510-7437-4a4c-899e-49bc5387eb09",
   "metadata": {},
   "source": [
    "### Intersection"
   ]
  },
  {
   "cell_type": "markdown",
   "id": "e796ea89-5c46-42a5-8cc7-ef51ab1d38d8",
   "metadata": {},
   "source": [
    "**1. Given two arrays, write a function to get the intersection of the two.**\n",
    "\n",
    "* Example 1:\n",
    "\n",
    "    a = [1, 2, 3, 4, 5] and b = [0, 1, 3, 7]\n",
    "\n",
    "    Return [1, 3]\n",
    "\n",
    "Source: Ace the Data Science Interview, Question 9.1"
   ]
  },
  {
   "cell_type": "markdown",
   "id": "818b6dbf-72d9-4f7b-9d5a-7f76baad36d8",
   "metadata": {},
   "source": [
    "**Solution 1**\n",
    "\n",
    "* Suboptimal\n",
    "* Brute force & iterative\n",
    "* Each element in the smaller list is taken out as $x$ and evaluated with a conditional expression $\\text {if x in larger list}$."
   ]
  },
  {
   "cell_type": "markdown",
   "id": "c3b6e685-1c3c-4dea-a919-fbe7f325b368",
   "metadata": {},
   "source": [
    "**_Overall time complexity_**: $O(A \\times B)$, where $A$ is the length of $a$ and $B$ is the length of $b$.\n",
    "* The comparison of array length is a constant time operation $O(1)$\n",
    "\n",
    "* The list comprehensions are essentially nested for loops. The conditional expression is a linear search (taking linear time $O(max(A, B))$).\n",
    "  \n",
    "    - The outer loop executes $min(A, B)$ iterations.\n",
    "\n",
    "    - The inner loop executes a maximum of $max(A, B)$ iterations.\n",
    "\n",
    "* The overall time complexity is therefore $O(A \\times B)$."
   ]
  },
  {
   "cell_type": "markdown",
   "id": "b941e989-b660-430d-8fab-fffae361bf8d",
   "metadata": {},
   "source": [
    "**_Overall space complexity_**: $O(min(A, B))$\n",
    "\n",
    "* The space complexity is determined by the additional space used by the algorithm.\n",
    "  \n",
    "* Temporary $x$ variable: As this doesn't scale with the input size, the space requirement is $O(1)$.\n",
    "\n",
    "* Return value: The function returns a list, which does scale with input size. If all elements of the smaller list are present in the larger list, the space complexity is $O(min(A, B))$.\n",
    "\n",
    "* The overall space complexity is therefore $O(min(A, B))$."
   ]
  },
  {
   "cell_type": "code",
   "execution_count": 4,
   "id": "c7c2b6f0-647f-4089-98c1-ea71df6627d8",
   "metadata": {},
   "outputs": [],
   "source": [
    "def get_intersection_1(list_a, list_b):\n",
    "    \"\"\"\n",
    "    Brute force, iterative solution\n",
    "    \"\"\"\n",
    "    if len(list_a) > len(list_b):\n",
    "        return [x for x in list_b if x in list_a] \n",
    "    else:\n",
    "        return [x for x in list_a if x in list_b]"
   ]
  },
  {
   "cell_type": "code",
   "execution_count": 5,
   "id": "07cb3121-6b88-417b-8f4c-e37dea892f6b",
   "metadata": {},
   "outputs": [
    {
     "name": "stdout",
     "output_type": "stream",
     "text": [
      "[1, 3]\n",
      "[1, 3]\n"
     ]
    }
   ],
   "source": [
    "# Examples\n",
    "a = [1, 2, 3, 4, 5]\n",
    "b = [0, 1, 3, 7]\n",
    "print(get_intersection_1(a, b))\n",
    "\n",
    "a = np.array(a)\n",
    "b = np.array(b)\n",
    "print(get_intersection_1(a, b))"
   ]
  },
  {
   "cell_type": "markdown",
   "id": "ff784df7-6f41-4531-900f-e28ca75c8165",
   "metadata": {},
   "source": [
    "**Solution 2**\n",
    "\n",
    "* Optimal solution\n",
    "* Utilises hash maps and the built in intersection method for sets"
   ]
  },
  {
   "cell_type": "markdown",
   "id": "3bfa6e6e-62c0-493c-a2da-bda5a5d68cc7",
   "metadata": {},
   "source": [
    "**_Overall time complexity_**: $O(A + B)$, where $A$ is the length of $a$ and $B$ is the length of $b$.\n",
    "\n",
    "* Adding a single element to a hash set takes $O(1)$. Adding all elements in list_a and list_b to seperate sets takes $O(A + B)$\n",
    "\n",
    "* The comparison of set length is a constant time operation $O(1)$.\n",
    "\n",
    "* The intersection method relies on the hash map implementation. A search in a set for a single item takes $O(1)$. A series of lookups over the larger set means the time complexity of this step is $O(min(A, B))$.\n",
    "  \n",
    "* The slowest step is set creation. The overall time complexity is therefore $O(A + B)$."
   ]
  },
  {
   "cell_type": "markdown",
   "id": "73ef8a24-7aab-4018-bb17-102f652be006",
   "metadata": {},
   "source": [
    "**_Overall space complexity_**: $O(A + B)$\n",
    "\n",
    "* The space complexity is determined by the additional space used by the algorithm.\n",
    "\n",
    "* Set $a$ and $b$: Assuming each element in the arrays is distinct, the space requirement is $O(A + B)$.\n",
    "\n",
    "* Return value: A list, which scales with input sizes. If all elements of the smaller array are present in the larger one, the space complexity is $O(min(A, B))$.\n",
    "\n",
    "* The overall space complexity is therefore $O(A + B)$."
   ]
  },
  {
   "cell_type": "code",
   "execution_count": 6,
   "id": "7308b2fa-97b8-461d-8983-c3b69c54a688",
   "metadata": {},
   "outputs": [],
   "source": [
    "def get_intersection_2(list_a, list_b):\n",
    "    \"\"\"\n",
    "    Optimal solution utilising hash maps and built in set method\n",
    "    \"\"\"\n",
    "    set_a = set(list_a)\n",
    "    set_b = set(list_b)\n",
    "    \n",
    "    if len(set_a) > len(set_b):\n",
    "        return list(set_b.intersection(set_a))\n",
    "    else:\n",
    "        return list(set_a.intersection(set_b))"
   ]
  },
  {
   "cell_type": "code",
   "execution_count": 7,
   "id": "155aceb6-c7be-45cd-9b4d-ab23a6c54fb9",
   "metadata": {},
   "outputs": [
    {
     "name": "stdout",
     "output_type": "stream",
     "text": [
      "[1, 3]\n",
      "[1, 3]\n"
     ]
    }
   ],
   "source": [
    "# Examples\n",
    "a = [1, 2, 3, 4, 5]\n",
    "b = [0, 1, 3, 7]\n",
    "print(get_intersection_2(a, b))\n",
    "\n",
    "c = np.array(a)\n",
    "d = np.array(b)\n",
    "print(get_intersection_2(a, b))"
   ]
  },
  {
   "cell_type": "markdown",
   "id": "a4ff2119-1ea3-40e9-ad0b-0a9abae45410",
   "metadata": {},
   "source": [
    "**Solution 3**\n",
    "\n",
    "* Optimal solution\n",
    "* Utilises hash maps but without the intersection method"
   ]
  },
  {
   "cell_type": "markdown",
   "id": "4df27654-7dbe-4208-883b-9164a67fa293",
   "metadata": {},
   "source": [
    "**_Overall time complexity_**: $O(A + B)$, where $A$ is the length of $a$ and $B$ is the length of $b$.\n",
    "\n",
    "* Adding a single element to a hash set takes $O(1)$. Adding all elements in list $a$ and list $b$ to seperate sets takes $O(A + B)$\n",
    "\n",
    "* The comparison of set length is a constant time operation $O(1)$.\n",
    "\n",
    "* The list comprehension involves taking each element in the smaller set out as $x$ and evaluating it with a conditional expression $\\text {if x in...}$. A search in a set takes linear time $O(1)$. A series of lookups over the larger set means the time complexity of this step is $O(min(A, B))$.\n",
    "\n",
    "* The slowest step is set creation. The overall time complexity is therefore $O(A + B)$."
   ]
  },
  {
   "cell_type": "markdown",
   "id": "53e0a715-46c9-4679-bf92-f1211434b70e",
   "metadata": {},
   "source": [
    "**_Overall space complexity_**: $O(A + B)$\n",
    "\n",
    "* The space complexity is determined by the additional space used by the algorithm.\n",
    "\n",
    "* Set $A$ and set $B$: Assuming each element in the arrays is distinct, the space requirement is $O(A + B)$.\n",
    "\n",
    "* Return value: A list, which scales with input sizes. If all elements of the smaller array are present in the larger one, the space complexity is $O(min(A, B))$.\n",
    "\n",
    "* The overall space complexity is therefore $O(A + B)$."
   ]
  },
  {
   "cell_type": "code",
   "execution_count": 8,
   "id": "56597756-3116-46a2-937d-35ee98a704f1",
   "metadata": {},
   "outputs": [],
   "source": [
    "def get_intersection_3(list_a, list_b):\n",
    "    \"\"\"\n",
    "    Optimal solution utilising hash maps but without the intersection method\n",
    "    \"\"\"\n",
    "    set_a = set(list_a)\n",
    "    set_b = set(list_b)\n",
    "    \n",
    "    if len(set_a) > len(set_b):\n",
    "        return [x for x in set_b if x in set_a]\n",
    "    else:\n",
    "        return [x for x in set_a if x in set_b]"
   ]
  },
  {
   "cell_type": "code",
   "execution_count": 9,
   "id": "ec7a9722-9951-4c89-b0dd-8fc8dfa2c75b",
   "metadata": {},
   "outputs": [
    {
     "name": "stdout",
     "output_type": "stream",
     "text": [
      "[1, 3]\n",
      "[1, 3]\n"
     ]
    }
   ],
   "source": [
    "# Examples\n",
    "a = [1, 2, 3, 4, 5]\n",
    "b = [0, 1, 3, 7]\n",
    "print(get_intersection_3(a, b))\n",
    "\n",
    "c = np.array(a)\n",
    "d = np.array(b)\n",
    "print(get_intersection_3(a, b))"
   ]
  },
  {
   "cell_type": "markdown",
   "id": "3e54e9a7-12cf-4c57-b75e-32f5c8a84192",
   "metadata": {},
   "source": [
    "-------------------------------"
   ]
  },
  {
   "cell_type": "markdown",
   "id": "d91698c8-365b-4c21-bad3-db04d2a0fd1d",
   "metadata": {},
   "source": [
    "----------------------------"
   ]
  },
  {
   "cell_type": "markdown",
   "id": "4cc46d60-77df-4446-8dfd-a71033942c9e",
   "metadata": {},
   "source": [
    "### Maximum product"
   ]
  },
  {
   "cell_type": "markdown",
   "id": "4eec0ab8-4683-4d9e-acbb-19b107063e83",
   "metadata": {},
   "source": [
    "**2. Given an integer array, return the maximum product of any three numbers in the array.**\n",
    "\n",
    "* Example 1:\n",
    "\n",
    "    A = [1, 3, 4, 5]\n",
    "\n",
    "    Return 60\n",
    "\n",
    "* Example 2:\n",
    "\n",
    "    B = [-2, -4, 5, 3]\n",
    "\n",
    "    Return 40\n",
    "\n",
    "Source: Ace the Data Science Interview, Question 9.2"
   ]
  },
  {
   "cell_type": "markdown",
   "id": "d7286d01-1751-4fde-8216-5d4ffb150f18",
   "metadata": {},
   "source": [
    "**Solution 1**\n",
    "\n",
    "* Suboptimal solution as it assumes all numbers are positive.\n",
    "* The array is sorted and the three largest numbers multiplied.\n",
    "* The time and space complexity both depend on the choice of sort algorithm."
   ]
  },
  {
   "cell_type": "markdown",
   "id": "76ec3c27-d834-4040-a8a4-218648e3edae",
   "metadata": {},
   "source": [
    "**a) Merge sort variant**\n",
    "\n",
    "**_Overall time complexity_**: $O(N Log N)$, where $N$ is the number of elements in the array\n",
    "\n",
    "* The merge sort algorithm has a time complexity of $O(N Log N)$.\n",
    " \n",
    "* The final step involves accessing and summing three array elements. The time required is constant with respect to input size. The time complexity is therefore $O(1)$."
   ]
  },
  {
   "cell_type": "markdown",
   "id": "4b49dd8e-bbe2-4085-adf8-45d73201bd8d",
   "metadata": {},
   "source": [
    "**_Overall space complexity_**: $O(N)$\n",
    "\n",
    "* The space complexity is determined by the additional space used by the algorithm.\n",
    "\n",
    "* It requires a temporary array to merge the sorted arrays. So the auxiliary space requirement is $O(N)$"
   ]
  },
  {
   "cell_type": "markdown",
   "id": "9301e0e4-4784-4413-a8eb-a54ff3fc6d30",
   "metadata": {},
   "source": [
    "**b) Quick sort variant**\n",
    "\n",
    "**_Overall time complexity_**: $O(N^2)$, where $N$ is the number of elements in the array\n",
    "\n",
    "* The quick sort algorithm has a time complexity of $O(N^2)$ if pivot elements are not chosen strategically.\n",
    "\n",
    "* The final step involves accessing and summing three array elements. The time required is constant with respect to input size. The time complexity is therefore $O(1)$."
   ]
  },
  {
   "cell_type": "markdown",
   "id": "d49c02cb-45ea-44aa-a276-628ce3a23cbb",
   "metadata": {},
   "source": [
    "**_Overall space complexity_**: $O(Log N)$ for the recursive call stack\n",
    "\n",
    "* The space complexity is determined by the additional space used by the algorithm.\n",
    "\n",
    "* Each time the recursive function is called, a new stack frame is created (to store local variable n, return address etc.) and pushed onto the call stack (a region of memory used to manage function calls and returns)\n",
    "\n",
    "* Given the function makes $Log N$ recursive calls before reaching the base case, the maximum depth of the call stack is $O(Log N)$"
   ]
  },
  {
   "cell_type": "code",
   "execution_count": 10,
   "id": "df5e9afb-6391-44b5-a496-07905ccb7dd0",
   "metadata": {},
   "outputs": [],
   "source": [
    "def get_max_product_1(array):\n",
    "    \"\"\"\n",
    "    Solution assumes all input elements are positive\n",
    "    \"\"\"\n",
    "    array.sort(reverse=True)\n",
    "    \n",
    "    return array[0] + array[1] + array[2]"
   ]
  },
  {
   "cell_type": "code",
   "execution_count": 11,
   "id": "bb721601-c79d-48a0-bd5e-f27c29172d1e",
   "metadata": {},
   "outputs": [
    {
     "name": "stdout",
     "output_type": "stream",
     "text": [
      "Array:\n",
      "[1, 2, 3, 4, 5, 6, 7, 8, 9]\n",
      "Max product: 24\n",
      "\n"
     ]
    }
   ],
   "source": [
    "# Examples\n",
    "array = list(range(1, 10))\n",
    "print(f\"Array:\\n{array}\")\n",
    "print(f\"Max product: {get_max_product_1(array)}\\n\")"
   ]
  },
  {
   "cell_type": "markdown",
   "id": "43834d39-7011-49a3-85cc-54f5398abe23",
   "metadata": {},
   "source": [
    "**_Solution 2_**\n",
    "\n",
    "* A better solution as it works arrays containing both positive and negative numbers.\n",
    "* First, the array is sorted. Next, the algorithm compares the product of the largest 3 numbers with the product of the largest number and the two smallest numbers. The largest is returned.\n",
    "* The time and space complexity depend on the choice of sort algorithm.\n",
    "\n",
    "**a) Merge sort variant**\n",
    "* Overall time complexity: $O(N Log N)$, where $N$ is the number of elements in the array\n",
    "* Overall space complexity: $O(N)$\n",
    "\n",
    "**b) Quick sort variant**\n",
    "* Overall time complexity: $O(N^2)$, where $N$ is the number of elements in the array\n",
    "* Overall space complexity: $O(Log N)$ for the recursive call stack"
   ]
  },
  {
   "cell_type": "code",
   "execution_count": 12,
   "id": "d1b68359-1bbd-429f-8537-a48612c58614",
   "metadata": {},
   "outputs": [],
   "source": [
    "def get_max_product_2(array):\n",
    "    \"\"\"\n",
    "    Solution works with arrays containing both positive and negative numbers\n",
    "    \"\"\"\n",
    "    array.sort(reverse=True)\n",
    "    \n",
    "    return max(array[0] * array[1] * array[2], array[0] * array[-1] * array[-2])"
   ]
  },
  {
   "cell_type": "code",
   "execution_count": 13,
   "id": "80d4a5db-1ec4-4cb4-9da0-c021f66afc7c",
   "metadata": {},
   "outputs": [
    {
     "name": "stdout",
     "output_type": "stream",
     "text": [
      "Array:\n",
      "[1, 2, 3, 4, 5, 6, 7, 8, 9]\n",
      "Max product: 504\n",
      "\n",
      "Array:\n",
      "[-1, -2, -3, -4, -5, -6, -7, -8, -9]\n",
      "Max product: -6\n",
      "\n",
      "Array:\n",
      "[1, 2, 3, 4, 5, -6, -7, -8, -9]\n",
      "Max product: 360\n",
      "\n"
     ]
    }
   ],
   "source": [
    "# Examples\n",
    "array = list(range(1, 10))\n",
    "print(f\"Array:\\n{array}\")\n",
    "print(f\"Max product: {get_max_product_2(array)}\\n\")\n",
    "\n",
    "array = list(range(1, 10))\n",
    "array = [-1*x for x in array]\n",
    "print(f\"Array:\\n{array}\")\n",
    "print(f\"Max product: {get_max_product_2(array)}\\n\")\n",
    "\n",
    "array = list(range(1, 10))\n",
    "array = [-1*x if x> 5 else x for x in array]\n",
    "print(f\"Array:\\n{array}\")\n",
    "print(f\"Max product: {get_max_product_2(array)}\\n\")"
   ]
  },
  {
   "cell_type": "markdown",
   "id": "4b5cc446-5019-48d4-b7d3-7c0aba09c882",
   "metadata": {},
   "source": [
    "**Solution 3**\n",
    "\n",
    "* Optimal solution.\n",
    "* It uses a maxheap and minheap to efficiently access the largest and smallest values.\n",
    "    - A min heap is a binary tree in which the parent nodes hold *smaller values* than that of the children. The minimum value is at the root.\n",
    "    - A max heap is a binary tree in which the parent nodes hold *larger values* than that of the children. The maximum value is at the root.\n",
    "* First, the array is sorted using a heap. Next, the algorithm compares the product of the largest 3 numbers with the product of the largest number and the two smallest numbers. The largest is returned."
   ]
  },
  {
   "cell_type": "markdown",
   "id": "63f8a310-d31a-4ecc-9601-ff82526326ef",
   "metadata": {},
   "source": [
    "**_Overall time complexity_**: $O(N Log N)$, where $N$ is the number of elements in the array\n",
    "\n",
    "* $O(N Log N)$ as $O(N)$ additions to the heap which take $O(log N)$ time each.\n",
    "\n",
    "* Accessing the mimimum/maximum values in a heap takes $O(1)$ time because they are at the root of the heap."
   ]
  },
  {
   "cell_type": "markdown",
   "id": "75590170-78b7-4f83-92ad-81585625c332",
   "metadata": {},
   "source": [
    "**_Overall space complexity_**: $O(N)$\n",
    "\n",
    "* The space complexity is determined by the additional space used by the algorithm.\n",
    "\n",
    "* Two heaps: Each contains $N$ elements requiring $O(N)$"
   ]
  },
  {
   "cell_type": "code",
   "execution_count": 14,
   "id": "33289620-59d0-4951-bd42-aab0a8256967",
   "metadata": {},
   "outputs": [],
   "source": [
    "import heapq\n",
    "def get_max_product_3(array):\n",
    "    \"\"\"\n",
    "    Optimal solution works with arrays containing both positive and negative numbers\n",
    "    \"\"\"\n",
    "    largest = heapq.nlargest(3, array) # Largest 3\n",
    "    smallest = heapq.nsmallest(2, array) # Smallest 2\n",
    "    \n",
    "    return max(largest[0] * largest[1] * largest[2], largest[0] * smallest[-1] * smallest[-2])"
   ]
  },
  {
   "cell_type": "code",
   "execution_count": 15,
   "id": "7ed8feef-9498-4aa6-ab8f-94ed4007fb4e",
   "metadata": {},
   "outputs": [
    {
     "name": "stdout",
     "output_type": "stream",
     "text": [
      "Array:\n",
      "[1, 2, 3, 4, 5, 6, 7, 8, 9]\n",
      "Max product: 504\n",
      "\n",
      "Array:\n",
      "[-1, -2, -3, -4, -5, -6, -7, -8, -9]\n",
      "Max product: -6\n",
      "\n",
      "Array:\n",
      "[1, 2, 3, 4, 5, -6, -7, -8, -9]\n",
      "Max product: 360\n",
      "\n"
     ]
    }
   ],
   "source": [
    "# Examples\n",
    "array = list(range(1, 10))\n",
    "print(f\"Array:\\n{array}\")\n",
    "print(f\"Max product: {get_max_product_3(array)}\\n\")\n",
    "\n",
    "array = list(range(1, 10))\n",
    "array = [-1*x for x in array]\n",
    "print(f\"Array:\\n{array}\")\n",
    "print(f\"Max product: {get_max_product_3(array)}\\n\")\n",
    "\n",
    "array = list(range(1, 10))\n",
    "array = [-1*x if x> 5 else x for x in array]\n",
    "print(f\"Array:\\n{array}\")\n",
    "print(f\"Max product: {get_max_product_3(array)}\\n\")"
   ]
  },
  {
   "cell_type": "markdown",
   "id": "2e89c3ff-89c0-464c-9bd3-0e1f47cfcfc3",
   "metadata": {},
   "source": [
    "--------------------------"
   ]
  },
  {
   "cell_type": "markdown",
   "id": "178a7664-25f4-4ece-93f6-fc8a96e6e99c",
   "metadata": {},
   "source": [
    "--------------------------"
   ]
  },
  {
   "cell_type": "markdown",
   "id": "5b39988e-fe44-421c-a386-aa2a15fb36f5",
   "metadata": {},
   "source": [
    "### Closest points (origin)"
   ]
  },
  {
   "cell_type": "markdown",
   "id": "5d50bc07-9af8-4103-b11e-c83f66f3fce3",
   "metadata": {},
   "source": [
    "**3. Given a list of coordinates, write a function to find the k closest points (measured by Euclidian distance) to the origin.**\n",
    "\n",
    "* Example 1:\n",
    "\n",
    "    k = 3, and the points are: [[2, -1], [3, 2], [4, 1], [-1, -1], [-2, 2]]\n",
    "\n",
    "    Return [[-1, -1], [2, -1], [-2, 2]]\n",
    "\n",
    "Source: Ace the Data Science Interview, Question 9.3"
   ]
  },
  {
   "cell_type": "markdown",
   "id": "90a16178-b025-4043-ae49-1d7be57a17f3",
   "metadata": {},
   "source": [
    "**Solution 1**\n",
    "\n",
    "* Suboptimal solution\n",
    "* Sort the array using the built in python function and a helper function for calculatingg distance to origin."
   ]
  },
  {
   "cell_type": "markdown",
   "id": "db4c6ff3-07bc-4ac2-bc89-048d66601d9f",
   "metadata": {},
   "source": [
    "**_Overall time complexity_**: $O(N Log N)$, where $N$ is the number of points\n",
    "\n",
    "* Sorting the array is the slowest process. $O(N Log N)$ for a merge sort, $O(N^2)$ for a quick sort.\n",
    "\n",
    "* The slicing operation has a time complexity of $O(k)$, where $k$ is the number of elements sliced."
   ]
  },
  {
   "cell_type": "markdown",
   "id": "f580c407-27e2-4e1d-ae9e-d9b1690a9ffd",
   "metadata": {},
   "source": [
    "**_Overall space complexity_**: $O(N)$\n",
    "\n",
    "* The space complexity is determined by the additional space used by the algorithm.\n",
    "\n",
    "* Helper function: It does not use additional space that scales with the input size. Therefore $O(1)$.\n",
    "\n",
    "* Sorted points: The space required to store the sorted list is $O(N)$\n",
    "\n",
    "* Return value: The space required to store the sliced list is $O(k)$"
   ]
  },
  {
   "cell_type": "code",
   "execution_count": 16,
   "id": "523faa9e-59c0-4d06-bf15-12a13089c147",
   "metadata": {},
   "outputs": [],
   "source": [
    "def k_closest_1(points, k):\n",
    "    \"\"\"\n",
    "    Solution 1\n",
    "    \"\"\"\n",
    "    def distance_to_origin(point):\n",
    "        \"\"\"\n",
    "        Helper function - distance to origin\n",
    "        \"\"\"\n",
    "        return math.sqrt((point[0])**2 + (point[1])**2)\n",
    "\n",
    "    # Sort the points based on distance to the centroid in ascending order\n",
    "    sorted_points = sorted(points, key=distance_to_origin, reverse=False)\n",
    "\n",
    "    # Return the first k points via slice\n",
    "    return sorted_points[:k]"
   ]
  },
  {
   "cell_type": "code",
   "execution_count": 17,
   "id": "770bed31-d5a3-48fa-9943-8641f2130c3b",
   "metadata": {},
   "outputs": [
    {
     "name": "stdout",
     "output_type": "stream",
     "text": [
      "The 3 closest points to the centroid are: [[-1, -1], [2, -1], [-2, 2]]\n",
      "\n",
      "The 2 closest points to the centroid are: [[3, 3], [-2, 4]]\n"
     ]
    }
   ],
   "source": [
    "# Examples\n",
    "k_value = 3\n",
    "coordinates = [[2, -1], [3, 2], [4, 1], [-1, -1], [-2, 2]]\n",
    "result = k_closest_1(coordinates, k_value)\n",
    "print(f\"The {k_value} closest points to the centroid are: {result}\\n\")\n",
    "\n",
    "k_value = 2\n",
    "coordinates = [[3, 3], [5, -1], [-2, 4]]\n",
    "result = k_closest_1(coordinates, k_value)\n",
    "print(f\"The {k_value} closest points to the centroid are: {result}\")"
   ]
  },
  {
   "cell_type": "markdown",
   "id": "3c1cb652-9d1c-46c6-ab98-46af68eebc8d",
   "metadata": {},
   "source": [
    "**Solution 2**\n",
    "\n",
    "* Optimal solution\n",
    "* Points are added to a minheap based on their distance to the origin.\n",
    "    - A min heap is a binary tree in which the parent nodes hold *smaller values* than that of the children.\n",
    "    - The heappush() method pushes an element into an existing heap in such a way that the heap property is maintained.\n",
    "\n",
    "[Source](https://pythontic.com/algorithms/heapq/heappush)"
   ]
  },
  {
   "cell_type": "markdown",
   "id": "2e74c73a-f9b8-4465-a5bd-d56167d40a92",
   "metadata": {},
   "source": [
    "**_Overall time complexity_**: $O(N Log N)$, where $N$ is the number of points\n",
    "\n",
    "* Heap creation: $O(1)$ as the input array is empty\n",
    "\n",
    "* Inserting into the heap: Each insertion operation takes $O(log N)$ time where $N$ is the number of elements in the heap. This is because maintaining the heap property involves adjusting the heap structure, which has a logarithmic time complexity. This stage therefore takes $O(N Log N)$.\n",
    "\n",
    "* Retrieving top $k$: Each heapq.heappop operation takes $O(log N)$ time because, after removing the minimum element, the heap property needs to be restored, which again involves logarithmic time complexity. This stage therefore takes $O(k Log N)$.\n",
    "\n",
    "* The overall time complexity is $O(N log N)$."
   ]
  },
  {
   "cell_type": "markdown",
   "id": "fb29919e-d5bd-4dc1-8771-990b44c5e77b",
   "metadata": {},
   "source": [
    "**_Overall space complexity_**: $O(N)$\n",
    "\n",
    "* Helper function: It does not use additional space that scales with the input size. Therefore $O(1)$.\n",
    "\n",
    "* Heap creation: Contains $N$ elements requiring $O(N)$\n",
    "\n",
    "* Temporary $i, n, x, y$ variables: As these don't scale with the input size, the space requirement is $O(1)$.\n",
    "\n",
    "* Return value: The space required to store the list is $O(k)$"
   ]
  },
  {
   "cell_type": "code",
   "execution_count": 18,
   "id": "fe5fb0ff-547f-48b5-b8a6-102922d0b984",
   "metadata": {},
   "outputs": [],
   "source": [
    "def k_closest_2(points, k):\n",
    "    \"\"\"\n",
    "    Solution 2\n",
    "    \"\"\"\n",
    "    def distance_to_origin(x, y):\n",
    "        \"\"\"\n",
    "        Helper function - distance to origin\n",
    "        \"\"\"\n",
    "        return x**2 + y**2\n",
    "\n",
    "    # Create min heap\n",
    "    min_heap = []\n",
    "    heapq.heapify(min_heap)\n",
    "\n",
    "    # Add to the min heap\n",
    "    n = len(points)\n",
    "    for i in range(n):\n",
    "        x = points[i][0]\n",
    "        y = points[i][1]\n",
    "        heapq.heappush(min_heap, (distance_to_origin(x, y), points[i]))\n",
    "\n",
    "    # Get top k (i.e. minimum)\n",
    "    res = []\n",
    "    for i in range(k):\n",
    "        res.append(heapq.heappop(min_heap)[1])\n",
    "    return res"
   ]
  },
  {
   "cell_type": "code",
   "execution_count": 19,
   "id": "e5e472d7-2bda-465f-aaee-6665e54b2567",
   "metadata": {},
   "outputs": [
    {
     "name": "stdout",
     "output_type": "stream",
     "text": [
      "The 3 closest points to the centroid are: [[-1, -1], [2, -1], [-2, 2]]\n",
      "\n",
      "The 2 closest points to the centroid are: [[3, 3], [-2, 4]]\n"
     ]
    }
   ],
   "source": [
    "# Examples\n",
    "k_value = 3\n",
    "coordinates = [[2, -1], [3, 2], [4, 1], [-1, -1], [-2, 2]]\n",
    "result = k_closest_2(coordinates, k_value)\n",
    "print(f\"The {k_value} closest points to the centroid are: {result}\\n\")\n",
    "\n",
    "k_value = 2\n",
    "coordinates = [[3, 3], [5, -1], [-2, 4]]\n",
    "result = k_closest_2(coordinates, k_value)\n",
    "print(f\"The {k_value} closest points to the centroid are: {result}\")"
   ]
  },
  {
   "cell_type": "markdown",
   "id": "efa91736-2a8b-4795-89a7-4226e9b10fc5",
   "metadata": {},
   "source": [
    "--------------------------------"
   ]
  },
  {
   "cell_type": "markdown",
   "id": "0fb96d1c-abe1-4524-8a10-68bed9137e90",
   "metadata": {},
   "source": [
    "### Closest points (centroid)"
   ]
  },
  {
   "cell_type": "markdown",
   "id": "a6fc32d5-1d19-42bd-8b40-927fee1bf745",
   "metadata": {},
   "source": [
    "**k closest points to centroid**\n",
    "\n",
    "* Suboptimal solution\n",
    "* A helper function is used to calculate distance to the centroid.\n",
    "* The built in python sorted function is then used to sort the array."
   ]
  },
  {
   "cell_type": "markdown",
   "id": "26c91658-cc05-489d-b314-72e602560d1d",
   "metadata": {},
   "source": [
    "**_Overall time complexity_**: $O(N Log N)$\n",
    "\n",
    "* Centroid calculation: Calculating the position of the centroid requires one full iteration over the points. This takes $O(N)$.\n",
    "\n",
    "* Sorting the list: Takes $O(N Log N)$ for a merge sort and $O(N^2)$ for a quick sort.\n",
    "\n",
    "* Retrieving the top $k$ values: The slicing operation has a time complexity of $O(k)$, where $k$ is the number of elements sliced."
   ]
  },
  {
   "cell_type": "markdown",
   "id": "1f9c655d-1db2-40fc-9e88-4ffed0879323",
   "metadata": {},
   "source": [
    "**_Overall space complexity_**: $O(N)$ \n",
    "\n",
    "* The space complexity is determined by the additional space used by the algorithm.\n",
    "\n",
    "* Centroid: It doesn't use space that scales with the input size. Therefore $O(1)$.\n",
    "\n",
    "* Helper function: It doesn't use space that scales with the input size. Therefore $O(1)$.\n",
    "\n",
    "* Sorted list: The space required to store the sorted list is $O(N)$\n",
    "\n",
    "* Return value: The space required to store the sliced list is $O(k)$"
   ]
  },
  {
   "cell_type": "code",
   "execution_count": 20,
   "id": "3bceff7a-616d-48af-a5c0-75ca3d77a71e",
   "metadata": {},
   "outputs": [],
   "source": [
    "def k_closest_points_to_centroid(points, k):\n",
    "    \"\"\"\n",
    "    Solution 1\n",
    "    \"\"\"\n",
    "    # Calculate the centroid of the points\n",
    "    centroid = (sum([x for x, _ in points]) / len(points),\n",
    "                sum([y for _, y in points]) / len(points))  # O(N)\n",
    "\n",
    "    def distance_to_centroid(point):\n",
    "        \"\"\"\n",
    "        Helper function - distance to centroid\n",
    "        \"\"\"\n",
    "        return math.sqrt((point[0] - centroid[0])**2 + (point[1] - centroid[1])**2)\n",
    "\n",
    "    # Sort the points based on distance to the centroid in ascending order\n",
    "    sorted_points = sorted(points, key=distance_to_centroid, reverse=False)\n",
    "\n",
    "    # Return the first k points via slice\n",
    "    return sorted_points[:k]"
   ]
  },
  {
   "cell_type": "code",
   "execution_count": 21,
   "id": "d48df667-16ff-4734-a1ec-6ac0d03d50f7",
   "metadata": {},
   "outputs": [
    {
     "name": "stdout",
     "output_type": "stream",
     "text": [
      "The 3 closest points to the centroid are: [[2, -1], [3, 2], [-1, -1]]\n",
      "\n",
      "The 2 closest points to the centroid are: [[3, 3], [5, -1]]\n"
     ]
    }
   ],
   "source": [
    "# Examples\n",
    "k_value = 3\n",
    "coordinates = [[2, -1], [3, 2], [4, 1], [-1, -1], [-2, 2]]\n",
    "result = k_closest_points_to_centroid(coordinates, k_value)\n",
    "print(f\"The {k_value} closest points to the centroid are: {result}\\n\")\n",
    "\n",
    "k_value = 2\n",
    "coordinates = [[3, 3], [5, -1], [-2, 4]]\n",
    "result = k_closest_points_to_centroid(coordinates, k_value)\n",
    "print(f\"The {k_value} closest points to the centroid are: {result}\")"
   ]
  },
  {
   "cell_type": "markdown",
   "id": "3a7b10da-e2bb-4a73-80f6-9e232f57993c",
   "metadata": {},
   "source": [
    "--------------------------------"
   ]
  },
  {
   "cell_type": "markdown",
   "id": "b93b002c-5a40-41e7-8a7e-cabe6b1be8c8",
   "metadata": {},
   "source": [
    "--------------------------------"
   ]
  },
  {
   "cell_type": "markdown",
   "id": "fcddc04e-9335-49cf-a069-da6ee3620cc7",
   "metadata": {},
   "source": [
    "### Smallest element"
   ]
  },
  {
   "cell_type": "markdown",
   "id": "887143d5-4c2e-49ff-a8e9-3fdf1087f039",
   "metadata": {},
   "source": [
    "**4. Say you have an *n-by-n* matrix of elements that are sorted in ascending order both in the columns and rows of the matrix. Return the *k-th* smallest element of the matrix.** \n",
    "\n",
    "* Example 1:\n",
    "\n",
    "    k = 4 and [[1, 4, 7], [3, 5, 9], [6, 8, 11]]\n",
    "\n",
    "    Return 5\n",
    "\n",
    "\n",
    "Source: Ace the Data Science Interview, Question 9.4"
   ]
  },
  {
   "cell_type": "markdown",
   "id": "d4bd19f6-7d87-4d1c-8c66-77fb32df09a6",
   "metadata": {},
   "source": [
    "**Solution 1:**\n",
    "\n",
    "* Naive approach - assumes unsorted $m \\times n$ matrix\n",
    "* Iterate over all elements in the matrix, add each element to a min-heap, and then pop from the heap $k$ times."
   ]
  },
  {
   "cell_type": "markdown",
   "id": "c4639e9e-a563-453f-9079-44a600c1e88d",
   "metadata": {},
   "source": [
    "**_Overall time complexity_**: $O(m \\times n \\times log N)$\n",
    "\n",
    "* There are $m\\times n$ elements in the matrix\n",
    "\n",
    "* The addition of an element to the heap takes $O(Log N)$ where $N$ is the number of elements in the heap\n",
    "\n",
    "* Overall time complexity for constructing the heap is $O(m \\times n \\times log N)$\n",
    "\n",
    "* The $k$ minimum elements are extracted from the heap\n",
    "\n",
    "* Each deletion from the heap takes $O(Log N)$ where $N$ is the number of elements in the heap\n",
    "\n",
    "* Overall time complexity for extracting $k$ minimum elements from the heap is $O(k \\times LogN)$\n",
    "\n",
    "* The dominant factor is the creation of the heap, therefore overall time complexity is $O(m \\times n \\times log N)$"
   ]
  },
  {
   "cell_type": "markdown",
   "id": "106dd499-b44b-4eb2-a1d5-563788092043",
   "metadata": {},
   "source": [
    "**_Overall space complexity_**: $O(m \\times n)$\n",
    "\n",
    "* The space complexity is determined by the additional space used by the algorithm.\n",
    "\n",
    "* The min heap contains all $m \\times n$ elements in the input array. The space required for creating the heap is therefore $O(m \\times n)$\n",
    "\n",
    "* The space required for the results list is $O(k)$ as it holds the $k$ smallest elements\n",
    "\n",
    "* Temporary variables ($row, element, i$) require $O(1)$\n",
    "\n",
    "* The dominant factor is the creation of the heap, therefore overall space complexity is $O(m * n)$"
   ]
  },
  {
   "cell_type": "code",
   "execution_count": 22,
   "id": "5a76e8c9-424e-4970-a2fa-48022a4ca193",
   "metadata": {},
   "outputs": [],
   "source": [
    "def get_kth_smallest_1(array, k):\n",
    "    \"\"\"\n",
    "    Solution 1\n",
    "    \"\"\"\n",
    "    # Create min heap\n",
    "    min_heap = []\n",
    "    heapq.heapify(min_heap)\n",
    "\n",
    "    # Add each element to the min heap\n",
    "    for row in array:\n",
    "        for element in row:\n",
    "            heapq.heappush(min_heap, element)\n",
    "\n",
    "    # Get kth smallest\n",
    "    res = []\n",
    "    for i in range(k):\n",
    "        res.append(heapq.heappop(min_heap)) # O(1) because minimum value is at the root of the heap\n",
    "    return res[-1]"
   ]
  },
  {
   "cell_type": "code",
   "execution_count": 24,
   "id": "005ed5d2-c468-4787-bee8-a1ae2e341ae5",
   "metadata": {},
   "outputs": [
    {
     "name": "stdout",
     "output_type": "stream",
     "text": [
      "The k=4 smallest value is: 5\n",
      "\n"
     ]
    }
   ],
   "source": [
    "# Examples\n",
    "k_value = 4\n",
    "array =  [[1, 4, 7], [3, 5, 9], [6, 8, 11]]\n",
    "result = get_kth_smallest_1(array, k_value)\n",
    "print(f\"The k={k_value} smallest value is: {result}\\n\")"
   ]
  },
  {
   "cell_type": "markdown",
   "id": "79f95f90-2c75-403e-844f-84c4328ec170",
   "metadata": {},
   "source": [
    "**Solution 2:**\n",
    "\n",
    "* Assumes sorted $n \\times n$ matrix\n",
    "* Iterate over only $k \\times k$ elements in the matrix, add each element to a min-heap, and then pop from the heap $k$ times.\n",
    "* Because the matrix is sorted, we know the $kth$ smallest element must be within row $k$ and column $k$."
   ]
  },
  {
   "cell_type": "markdown",
   "id": "f8edcf0d-d812-464e-9e99-4a10eea429fc",
   "metadata": {},
   "source": [
    "**_Overall time complexity_**: $O(k^2 \\times log K)$\n",
    "\n",
    "* Iterates over the first $k$ rows and columns, so there are a total of $k \\times k$ elements.\n",
    "\n",
    "* The addition of an element to the heap takes $O(Log k)$ where $k$ is the number of elements in the heap\n",
    "\n",
    "* Overall time complexity for constructing the heap is $O(k \\times k \\times log k)$ assuming $k<<N$\n",
    "\n",
    "* The $k$ minimum elements are extracted from the heap\n",
    "\n",
    "* Each deletion from the heap takes $O(Log k)$ where $N$ is the number of elements in the heap\n",
    "\n",
    "* Overall time complexity for extracting k minimum elements from the heap is $O(k \\times Log k)$\n",
    "\n",
    "* The dominant factor is the creation of the heap, therefore overall time complexity is $O(k^2 \\times log k)$"
   ]
  },
  {
   "cell_type": "markdown",
   "id": "4c405eb1-6244-4886-8540-731cd959744d",
   "metadata": {},
   "source": [
    "**_Overall space complexity_**: $O(k^2)$\n",
    "\n",
    "* The space complexity is determined by the additional space used by the algorithm.\n",
    "\n",
    "* The min heap contains $k \\times k$ elements in the input array. The space required for creating the heap is therefore $O(k^2)$\n",
    "\n",
    "* The space required for the res list is $O(k)$ as it holds the k smallest elements\n",
    "\n",
    "* Temporary variables ($row, element, i$) require $O(1)$\n",
    "\n",
    "* The dominant factor is the creation of the heap, therefore overall space complexity is $O(k^2)$"
   ]
  },
  {
   "cell_type": "code",
   "execution_count": null,
   "id": "1bf34f00-c56d-4afa-812b-4cdfebef3799",
   "metadata": {},
   "outputs": [],
   "source": [
    "def get_kth_smallest_2(array, k):\n",
    "    \"\"\"\n",
    "    Solution 2\n",
    "    \"\"\"\n",
    "    n = len(array)\n",
    "    # Create min heap\n",
    "    min_heap = []\n",
    "    heapq.heapify(min_heap)\n",
    "\n",
    "    # Add each element to the min heap\n",
    "    for row in range(min(k, n)):\n",
    "        for col in range(min(k, n)):\n",
    "            heapq.heappush(min_heap, array[row][col])\n",
    "\n",
    "    # Get kth smallest\n",
    "    res = []\n",
    "    for i in range(k):\n",
    "        res.append(heapq.heappop(min_heap))\n",
    "    return res[-1]"
   ]
  },
  {
   "cell_type": "code",
   "execution_count": null,
   "id": "42e19cae-8ab3-4942-aab4-c8691411631d",
   "metadata": {},
   "outputs": [],
   "source": [
    "# Examples\n",
    "k_value = 4\n",
    "array =  [[1, 4, 7], [3, 5, 9], [6, 8, 11]]\n",
    "result = get_kth_smallest_2(array, k_value)\n",
    "print(f\"The k={k_value} smallest value is: {result}\\n\")"
   ]
  },
  {
   "cell_type": "markdown",
   "id": "cfcbc433-8c58-40cd-8ecc-f4cb78f6afdf",
   "metadata": {},
   "source": [
    "--------------------------------"
   ]
  },
  {
   "cell_type": "markdown",
   "id": "320f31b3-60e2-4d26-9ee6-4cf870874f28",
   "metadata": {},
   "source": [
    "--------------------------------------"
   ]
  },
  {
   "cell_type": "markdown",
   "id": "c4fa3283-cb37-4387-889b-2b892b5f6900",
   "metadata": {},
   "source": [
    "### Contiguous subarray: sum"
   ]
  },
  {
   "cell_type": "markdown",
   "id": "730df9cc-d751-4c91-aba7-7e570122d348",
   "metadata": {},
   "source": [
    "**5. Given an integar array, find the sum of the largest contiguous subarray within the array. Note that if all the elements are negative, you should return 0.**\n",
    "\n",
    "Note: A contiguous subarray is a subset of an array in which the elements are consecutive and appear in the same order as they do in the original array. In other words, a contiguous subarray is a slice of the array where the elements are adjacent to each other without any gaps.\n",
    "\n",
    "* Example 1:\n",
    "\n",
    "    Input is [-1, -3, 5, -4, 3, -6, 9, 2]\n",
    "\n",
    "    Return 11 (because of [9, 2])\n",
    "\n",
    "Source: Ace the Data Science Interview, Question 9.5"
   ]
  },
  {
   "cell_type": "markdown",
   "id": "e090d618-6ced-43bc-843a-dbbdf14e0ecc",
   "metadata": {},
   "source": [
    "**Solution:**\n",
    "\n",
    "* Optimal solution\n",
    "* Iterate over the array. \n",
    "\n",
    "Keep track of the current and maximum sum via variables. \n"
   ]
  },
  {
   "cell_type": "markdown",
   "id": "932ba567-b01e-4e8d-933c-eb1f0270e64c",
   "metadata": {},
   "source": [
    "**_Overall time complexity_**: $O(N)$\n",
    "* Iterates over the entire array once in $O(N)$, where $N$ is the total number of elements\n",
    "* A constant number of operations are performed on each element in the list.\n",
    "* Adding two numbers occurs in constant time $O(1)$\n",
    "* Comparing the size of two numbers occurs in constant time $O(1)$\n",
    "* The dominant factor is therefore iteration over the array so the overall time complexity is $O(N)$"
   ]
  },
  {
   "cell_type": "markdown",
   "id": "7a3d9270-8118-40f4-ac9a-dc5d8b2452a1",
   "metadata": {},
   "source": [
    "**_Overall space complexity_**: $O(1)$\n",
    "* Only two variables, constant in size w.r.t input, are initialised\n",
    "* The overall space complexity is therefore $O(1)$"
   ]
  },
  {
   "cell_type": "code",
   "execution_count": null,
   "id": "490b0071-1c92-4c3a-a655-442be2cf6b65",
   "metadata": {},
   "outputs": [],
   "source": [
    "def get_largest_sum(array):\n",
    "    \"\"\"\n",
    "    Solution\n",
    "    \"\"\"\n",
    "    # Initialise variables\n",
    "    curr_sum = 0\n",
    "    max_sum = 0\n",
    "\n",
    "    # Iterate over array\n",
    "    for num in array:\n",
    "        curr_sum += num # Get current\n",
    "        max_sum = max(curr_sum, max_sum) # Get max\n",
    "\n",
    "        # Reset current if num < 0\n",
    "        if curr_sum < 0:\n",
    "            curr_sum = 0\n",
    "    return max_sum"
   ]
  },
  {
   "cell_type": "code",
   "execution_count": null,
   "id": "f369ce19-82c7-424f-9ac7-81aacff478e8",
   "metadata": {},
   "outputs": [],
   "source": [
    "# Examples\n",
    "array =  [-1, -3, 5, -4, 3, -6, 9, 2]\n",
    "result = get_largest_sum(array)\n",
    "print(f\"The sum of the largest contiguous subarray is: {result}\\n\")\n",
    "\n",
    "array =  [1, 2, 5, -4, 3, -6, -9, 2]\n",
    "result = get_largest_sum(array)\n",
    "print(f\"The sum of the largest contiguous subarray is: {result}\\n\")\n",
    "\n",
    "array =  [-1, -2, -5, -4, -3, -6, -9, -2]\n",
    "result = get_largest_sum(array)\n",
    "print(f\"The sum of the largest contiguous subarray is: {result}\\n\")"
   ]
  },
  {
   "cell_type": "markdown",
   "id": "1fc38c43-100e-40cd-9d2c-406c6a4554b1",
   "metadata": {},
   "source": [
    "--------------------"
   ]
  },
  {
   "cell_type": "markdown",
   "id": "1be3ab82-cf0e-4eb6-8de3-4d5af0bfb814",
   "metadata": {},
   "source": [
    "--------------------"
   ]
  },
  {
   "cell_type": "markdown",
   "id": "ff2c39d4-8e0f-4047-a685-5dcc744954a7",
   "metadata": {},
   "source": [
    "### Binary tree"
   ]
  },
  {
   "cell_type": "markdown",
   "id": "dfc6c21d-3272-4533-b698-dcc14534da45",
   "metadata": {},
   "source": [
    "**6. Given a binary tree, write a function to determine whether the tree is a mirror image of itself. Two trees are a mirror image of each other if their root values are the same and the left subtree is a mirror image of the right subtree.**\n",
    "\n",
    "Source: Ace the Data Science Interview, Question 9.6"
   ]
  },
  {
   "cell_type": "markdown",
   "id": "ff9bfa64-8b83-4f2e-aef8-9edc6b97fd55",
   "metadata": {},
   "source": [
    "---------------------"
   ]
  },
  {
   "cell_type": "markdown",
   "id": "a6d07b06-18c2-4442-b817-1da9fbece4f5",
   "metadata": {},
   "source": [
    "--------------------"
   ]
  },
  {
   "cell_type": "markdown",
   "id": "ffcef43e-3fa0-4c5b-adaf-5d2694ced6f3",
   "metadata": {},
   "source": [
    "### Factorial"
   ]
  },
  {
   "cell_type": "markdown",
   "id": "4b4f6eb7-4f50-4b0d-89a6-d2dd9069c36e",
   "metadata": {},
   "source": [
    "**7. Given a number n, write a formula that returns n! Assume n is a non-negative integar.**\n",
    "\n",
    "Where $n! = n \\times (n-1) \\times (n-2) \\times ... \\times 2 \\times 1$\n",
    "\n",
    "Source: DataLemur, Python Question \"Factorial formula\""
   ]
  },
  {
   "cell_type": "markdown",
   "id": "a3c6f61b-016e-4b16-a717-5948c7ee75cb",
   "metadata": {},
   "source": [
    "**_Solution 1:_**\n",
    "* An iterative solution\n",
    "* Optimal solution (w.r.t. recursive solution due to lower space complexity and a lower risk of stack overflow errors)\n",
    "\n",
    "Overall time complexity: $O(N)$, where $N$ is the total number of elements\n",
    "* Iterates over an entire array once in $O(N)$\n",
    "* A constant number of operations are performed on each element in the list.\n",
    "* Multiplying two numbers occurs in constant time $O(1)$\n",
    "* The dominant factor is therefore iteration over the array so the overall time complexity is $O(N)$\n",
    "\n",
    "Overall space complexity: $O(1)$\n",
    "* Only one variables, constant in size w.r.t input, is initialised\n",
    "* The overall space complexity is therefore $O(1)$"
   ]
  },
  {
   "cell_type": "code",
   "execution_count": null,
   "id": "657e8e08-e48c-43c8-b6a3-904a97c3cadd",
   "metadata": {},
   "outputs": [],
   "source": [
    "def get_factorial_1(num):\n",
    "    \"\"\"\n",
    "    Solution 1 - an iterative solution\n",
    "    \"\"\"\n",
    "    answer = 1\n",
    "    for n in range(1, num+1):\n",
    "        answer = answer * n\n",
    "    return answer"
   ]
  },
  {
   "cell_type": "code",
   "execution_count": null,
   "id": "15b8de60-e917-402f-b783-45e43ccb0bb6",
   "metadata": {},
   "outputs": [],
   "source": [
    "# Examples\n",
    "n =  0\n",
    "result = get_factorial_1(n)\n",
    "print(f\"{n}! is: {result}\\n\")\n",
    "\n",
    "n =  1\n",
    "result = get_factorial_1(n)\n",
    "print(f\"{n}! is: {result}\\n\")\n",
    "\n",
    "n =  2\n",
    "result = get_factorial_1(n)\n",
    "print(f\"{n}! is: {result}\\n\")\n",
    "\n",
    "n =  3\n",
    "result = get_factorial_1(n)\n",
    "print(f\"{n}! is: {result}\\n\")"
   ]
  },
  {
   "cell_type": "markdown",
   "id": "5f07a821-f5eb-443c-98c2-860b353ede8f",
   "metadata": {},
   "source": [
    "**_Solution 2:_**\n",
    "* A recursive solution\n",
    "* Two parts - 1) recursive part (where the function is called again) and 2) base case (which terminates the recursion)\n",
    "* Not as good as the iterative solution - potential for stack overflow errors for large values of n as recursive calls are stored in the call stack and there may be limited memory\n",
    "\n",
    "Overall time complexity: $O(N)$\n",
    "* The function makes $N$ recursive calls (from $1 \\text{ to } N$)\n",
    "* Each recursive call requires a constant amount of work\n",
    "* Multiplying two numbers occurs in constant time $O(1)$\n",
    "* The dominant factor is therefore the recursive calls so the overall time complexity is $O(N)$\n",
    "\n",
    "Overall space complexity: $O(N)$\n",
    "* The call stack is a region of memory used to manage function calls and returns\n",
    "* A stack frame is a data structure that stores information about a function call in a program's call stack\n",
    "* Each time the recursive function is called, a new stack frame is created (to store local variable n, return address etc.) and pushed onto the call stack\n",
    "* Given the function makes $N$ recursive calls before reaching the base case, the maximum depth of the call stack is $N$\n",
    "* Overall space complexity is therefore proportional to $N$: $O(N)$"
   ]
  },
  {
   "cell_type": "code",
   "execution_count": null,
   "id": "1610c118-7733-46e8-8dbf-4610d88daec2",
   "metadata": {},
   "outputs": [],
   "source": [
    "def get_factorial_2(n):\n",
    "    \"\"\"\n",
    "    Solution 2 - a recursive solution\n",
    "    \"\"\"\n",
    "    # Base case (used to terminate the function)\n",
    "    if n == 0:\n",
    "        return 1\n",
    "    # Recursive call (where the function is called again)\n",
    "    else: \n",
    "        return n* get_factorial_2(n-1)"
   ]
  },
  {
   "cell_type": "code",
   "execution_count": null,
   "id": "5e3f361e-ec3d-4265-997e-249c7950aefc",
   "metadata": {},
   "outputs": [],
   "source": [
    "# Examples\n",
    "n =  0\n",
    "result = get_factorial_2(n)\n",
    "print(f\"{n}! is: {result}\\n\")\n",
    "\n",
    "n =  1\n",
    "result = get_factorial_2(n)\n",
    "print(f\"{n}! is: {result}\\n\")\n",
    "\n",
    "n =  2\n",
    "result = get_factorial_2(n)\n",
    "print(f\"{n}! is: {result}\\n\")\n",
    "\n",
    "n =  3\n",
    "result = get_factorial_2(n)\n",
    "print(f\"{n}! is: {result}\\n\")"
   ]
  },
  {
   "cell_type": "markdown",
   "id": "a84d84e5-07ca-4f6f-b0c0-d397f4faf998",
   "metadata": {},
   "source": [
    "----------------------"
   ]
  },
  {
   "cell_type": "markdown",
   "id": "27725b14-b543-4c46-a4a1-55cdaaebdc15",
   "metadata": {},
   "source": [
    "--------------------"
   ]
  },
  {
   "cell_type": "markdown",
   "id": "aef98064-2b90-45fe-b727-9fa063e79063",
   "metadata": {},
   "source": [
    "### Multiples"
   ]
  },
  {
   "cell_type": "markdown",
   "id": "06ee8d9d-53f1-4214-ad78-67c3d0a02346",
   "metadata": {},
   "source": [
    "**8. Write a function to find the sum of all multiples of 3 or 5 below a target value.**\n",
    "\n",
    "* Example 1: \n",
    "\n",
    "    Target value: 10\n",
    "\n",
    "    Return 23 (3 + 5 + 6 + 0)\n",
    "\n",
    "Source : DataLemur, Python Question \"Fizz buzz sum\""
   ]
  },
  {
   "cell_type": "markdown",
   "id": "8f815103-58c8-46cf-ac0e-b02c7e0116fb",
   "metadata": {},
   "source": [
    "**_Solution 1:_**\n",
    "* An iterative solution\n",
    "\n",
    "Overall time complexity: $O(N)$\n",
    "* The for loop runs for target iterations, where target is the input to the function. \n",
    "* Inside the loop, there are constant time operations (checking conditions, addition, etc.)\n",
    "* The overall time complexity is $O(target)$. This is because the time taken is directly proportional to the size of the input target.\n",
    "\n",
    "Overall space complexity: $O(1)$\n",
    "* The only variable used is sum, and there are no data structures whose size depends on the input.\n",
    "* The space complexity of this function is therefore $O(1)$, which is constant.\n",
    "* This is because the amount of memory used by the algorithm remains constant, regardless of the size of the input."
   ]
  },
  {
   "cell_type": "code",
   "execution_count": null,
   "id": "e5d3d251-c8ad-4ccd-87b6-c096a4b9007b",
   "metadata": {},
   "outputs": [],
   "source": [
    "def fizz_buzz_sum(target):\n",
    "    \"\"\"\n",
    "    Solution 1\n",
    "    \"\"\"\n",
    "    sum = 0\n",
    "    for i in range(target):\n",
    "    if (i % 3 == 0) or (i % 5 == 0):\n",
    "      sum += i\n",
    "    return sum"
   ]
  },
  {
   "cell_type": "code",
   "execution_count": null,
   "id": "62d2eef1-6f6e-4656-a96b-52b8fe880ffd",
   "metadata": {},
   "outputs": [],
   "source": [
    "# Examples\n",
    "n =  10\n",
    "result = fizz_buzz_sum(n)\n",
    "print(f\"n={n}: {result}\\n\")"
   ]
  },
  {
   "cell_type": "markdown",
   "id": "85bdc98d-cfd1-4fcc-9ce6-b7efd1005989",
   "metadata": {},
   "source": [
    "-----------------------"
   ]
  },
  {
   "cell_type": "markdown",
   "id": "0d530324-8eb6-4110-ac32-a6b2e597a293",
   "metadata": {},
   "source": [
    "--------------------"
   ]
  },
  {
   "cell_type": "markdown",
   "id": "975e5009-4d56-4628-9d08-75ecf407eda6",
   "metadata": {},
   "source": [
    "### Missing values"
   ]
  },
  {
   "cell_type": "markdown",
   "id": "759bbfe8-3afe-4e26-836c-eaaa7ba2af73",
   "metadata": {},
   "source": [
    "**9. Given an input list containing n distinct numbers in the range 0 to n, return the only number in the range that is missing from the list.**\n",
    "\n",
    "* Example 1:\n",
    "\n",
    "    Input: [0, 1, 3]\n",
    "    \n",
    "    Return: 2\n",
    "\r",
    "Source DataLemur, Python Question \"Missing integer\"\n"
   ]
  },
  {
   "cell_type": "markdown",
   "id": "0c8e3c40-e632-46e6-9dde-9ea672c7fdb2",
   "metadata": {},
   "source": [
    "**_Solution 1:_**\n",
    "\n",
    "* Sorting solution\n",
    "\n",
    "Overall time complexity: $O(N Log N)$\n",
    "* Sorting the list has a time complexity of $O(N log N)$, where $N$ is the length of the input list.\n",
    "* For loop runs for a maximum of $N$ iterations.\n",
    "* Inside the loop, there are constant time operations (comparison and return statements).\n",
    "* The dominant factor is the sorting operation, so the overall time complexity is $O(N Log N)$.\n",
    "\n",
    "Overall space complexity: $O(1)$\n",
    "* The sorting is performed in-place.\n",
    "* The range function has an $O(1)$ or constant space complexity because it generates value one-at-a-time and does not store them in memory.\n",
    "* No additional data structures are created that depend on the size of the input list.\n",
    "* The space used by the function therefore remains constant regardless of the size of the input."
   ]
  },
  {
   "cell_type": "code",
   "execution_count": null,
   "id": "2443d339-1c21-4004-b960-a45fea0a5248",
   "metadata": {},
   "outputs": [],
   "source": [
    "def missing_int_1(input_list):\n",
    "    \"\"\"\n",
    "    Sorting solution\n",
    "    \"\"\"\n",
    "    # Sort list\n",
    "    input_list.sort()\n",
    "\n",
    "    # For loop for a maximum of len(input_list) iterations\n",
    "    for i in range(len(input_list)):\n",
    "      if i != input_list[i]:\n",
    "        return i\n",
    "    return len(input_list)"
   ]
  },
  {
   "cell_type": "code",
   "execution_count": null,
   "id": "0d659b0e-3c0a-4e31-8aba-726112e6d37a",
   "metadata": {},
   "outputs": [],
   "source": [
    "# Examples\n",
    "list = [0, 1, 3]\n",
    "result = missing_int_1(list)\n",
    "print(f\"{list}: {result}\\n\")\n",
    "\n",
    "list = [1, 2, 3]\n",
    "result = missing_int_1(list)\n",
    "print(f\"{list}: {result}\\n\")\n",
    "\n",
    "list = [0, 1, 2]\n",
    "result = missing_int_1(list)\n",
    "print(f\"{list}: {result}\\n\")"
   ]
  },
  {
   "cell_type": "markdown",
   "id": "d97ee23e-2e21-437f-8b7d-fafe9f587b19",
   "metadata": {},
   "source": [
    "**_Solution 2:_**\n",
    "\n",
    "* Set solution\n",
    "\n",
    "Overall time complexity: $O(N)$, where $N$ is the length of the input list\n",
    "* The set is created in linear time $O(N)$. This is because it involves iterating through the input list and adding each element to the set.\n",
    "* The for loop runs for a maximum of $N+1$ iterations.\n",
    "* Inside the loop, the if search has an time complexity of $O(1)$ for a set\n",
    "* The overall time complexity is therefore $O(N)$\n",
    "\n",
    "Overall space complexity: $O(N)$, where N is the length of the input list\n",
    "* The space complexity of creating a set is $O(N)$\n",
    "* The space complexity of initialising $n$ is $O(1)$ as it is a single variable and does not depend on input size.\n",
    "* The space complexity of $i$ generated via the range function is $O(1)$ as it is a single variable and does not depend on the input size.\n",
    "* The overall space complexity is therefore $O(N)$"
   ]
  },
  {
   "cell_type": "code",
   "execution_count": null,
   "id": "d0fddcb4-a0cc-4919-83bd-efb8db79e3fa",
   "metadata": {},
   "outputs": [],
   "source": [
    "def missing_int_2(input_list):\n",
    "    \"\"\"\n",
    "    Set solution\n",
    "    \"\"\"\n",
    "\n",
    "    # Create set\n",
    "    input_set = set(input_list)\n",
    "\n",
    "    # Initialise n\n",
    "    n = len(input_list) + 1\n",
    "\n",
    "    # For loop for a maximum of n iterations\n",
    "    for i in range(n):\n",
    "        if i not in input_set:\n",
    "            return i"
   ]
  },
  {
   "cell_type": "code",
   "execution_count": null,
   "id": "6d4eceb0-d828-48ee-90ea-d72b6655bd39",
   "metadata": {},
   "outputs": [],
   "source": [
    "# Examples\n",
    "list = [0, 1, 3]\n",
    "result = missing_int_2(list)\n",
    "print(f\"{list}: {result}\\n\")\n",
    "\n",
    "list = [1, 2, 3]\n",
    "result = missing_int_2(list)\n",
    "print(f\"{list}: {result}\\n\")\n",
    "\n",
    "list = [0, 1, 2]\n",
    "result = missing_int_2(list)\n",
    "print(f\"{list}: {result}\\n\")"
   ]
  },
  {
   "cell_type": "markdown",
   "id": "77b07e45-0cb0-4bc1-bb85-722dadb43358",
   "metadata": {},
   "source": [
    "**_Solution 3:_**\n",
    "\n",
    "* The Gauss summation is $ \\frac{n+(n+1)}{2} $ where n is the largest number\n",
    "* If the input list is $n$ elements long, and has all integers from $0-n$ inside it, the expected sum would be given by Gauss's formula.\n",
    "* Therefore $ expected - actual $ reveals which number is missing.\n",
    "\n",
    "Overall time complexity: $O(N)$\n",
    "* The computation of expected sum using Gauss's formula takes constant $O(1)$ time as it is a simple arithmetic operation.\n",
    "* The sum() function has a time complexity of $O(N)$ where N is the length of the input list.\n",
    "* The subtraction operation has a time complexity of $O(1)$.\n",
    "* The overall time complexity is $O(N)$.\n",
    "\n",
    "Overall space complexity: $O(1)$\n",
    "* The space complexity of both the expected and actual sum variables are $O(1)$.\n",
    "* The overall space complexity is therefore $O(1)$ as space requirements are constant with respect to input size."
   ]
  },
  {
   "cell_type": "code",
   "execution_count": null,
   "id": "218d1e38-b470-469b-8696-368432bf783f",
   "metadata": {},
   "outputs": [],
   "source": [
    "def missing_int_3(list):\n",
    "    \"\"\"\n",
    "    Gauss solution\n",
    "    \"\"\"\n",
    "    # Calculation of expected sum via Gauss's formula\n",
    "    expected_sum = len(list)*(len(list)+1) // 2\n",
    "\n",
    "    # Calculation of actual sum\n",
    "    actual_sum = sum(list)\n",
    "    return expected_sum - actual_sum"
   ]
  },
  {
   "cell_type": "code",
   "execution_count": null,
   "id": "9d929e1d-caa0-4ed5-9ae3-33e56198f2f3",
   "metadata": {},
   "outputs": [],
   "source": [
    "# Examples\n",
    "list = [0, 1, 3]\n",
    "result = missing_int_3(list)\n",
    "print(f\"{list}: {result}\\n\")\n",
    "\n",
    "list = [1, 2, 3]\n",
    "result = missing_int_3(list)\n",
    "print(f\"{list}: {result}\\n\")\n",
    "\n",
    "list = [0, 1, 2]\n",
    "result = missing_int_3(list)\n",
    "print(f\"{list}: {result}\\n\")"
   ]
  },
  {
   "cell_type": "markdown",
   "id": "e26daf89-2990-4da3-b682-85bbb23d825d",
   "metadata": {},
   "source": [
    "-------------------------------"
   ]
  },
  {
   "cell_type": "markdown",
   "id": "d76a7e35-a722-4290-bdff-d5e60ebdc029",
   "metadata": {},
   "source": [
    "--------------------"
   ]
  },
  {
   "cell_type": "markdown",
   "id": "1558b674-9631-4ecb-9a48-946e66053192",
   "metadata": {},
   "source": [
    "### Duplicate values"
   ]
  },
  {
   "cell_type": "markdown",
   "id": "6b1baa0e-ab48-4500-b910-9c263ce3dad2",
   "metadata": {},
   "source": [
    "**10. Given a list of integers called input, return True if any value appears at least twice in the array. Return False if every element in the input list is distinct.** \n",
    "\n",
    "* Example 1:\n",
    "\n",
    "    Input: [1, 3, 5, 7, 1]\n",
    "    \n",
    "    Return True because 1 shows up twice\r\n",
    "Source DataLemur, Python Question Contains duplicate\"\n"
   ]
  },
  {
   "cell_type": "markdown",
   "id": "9d3c095f-9736-4aaa-bd9e-4d6e3a584f69",
   "metadata": {},
   "source": [
    "**_Solution 1:_**\n",
    "\n",
    "* Brute force\n",
    "\n",
    "Overall time complexity: $O(N^2)$, where $N$ is the length of the input\n",
    "* Nested for loops take quadratic time $O(N^2)$\n",
    "* Inside the loop, there are constant time operations (comparison and return statements).\n",
    "* Here, the number of comparisons is given by $\\binom{5}{2}=\\frac{N \\times (N-1)}{2!}=10$\n",
    "* This simplifies to $O(N^2)$.\n",
    "\n",
    "Overall space complexity: $O(1)$\n",
    "* The space complexity of the temporary $i$, $j$ and comparison variables is constant $O(1)$.\n",
    "* The space required therefore doesn't scale with input size and is $O(1)$."
   ]
  },
  {
   "cell_type": "code",
   "execution_count": null,
   "id": "567593d0-f00d-429b-aa35-152b4bbcb796",
   "metadata": {},
   "outputs": [],
   "source": [
    "def contains_duplicate_1(input):\n",
    "    \"\"\"\n",
    "    Brute force solution\n",
    "    \"\"\"\n",
    "    for i in range(len(input)-1):\n",
    "        for j in range(i+1, len(input)):\n",
    "            if (input[i] == input[j]):\n",
    "                return True\n",
    "    return False"
   ]
  },
  {
   "cell_type": "code",
   "execution_count": null,
   "id": "e9145dae-3466-4cc6-bca5-b954379ac67a",
   "metadata": {},
   "outputs": [],
   "source": [
    "# Examples\n",
    "list = [0, 1, 2]\n",
    "result = contains_duplicate_1(list)\n",
    "print(f\"{list}: {result}\\n\")\n",
    "\n",
    "list = [0, 1, 1]\n",
    "result = contains_duplicate_1(list)\n",
    "print(f\"{list}: {result}\\n\")\n",
    "\n",
    "list = ['a', 'a', 1]\n",
    "result = contains_duplicate_1(list)\n",
    "print(f\"{list}: {result}\\n\")"
   ]
  },
  {
   "cell_type": "markdown",
   "id": "d852ba91-5908-42ae-ad41-e3706561f431",
   "metadata": {},
   "source": [
    "**_Solution 2:_**\n",
    "\n",
    "* Sorting the input list\n",
    "* This is sub-optimal as it doesn't work with lists containing mixed data types\n",
    "\n",
    "Overall time complexity: $O(N^2)$, where $N$ is the length of the input\n",
    "* The sort of the input list takes $O(N Log N)$\n",
    "* After the sort, the function iterates over the list once with time complexity $O(N-1)$\n",
    "* Inside the loop, there are constant time operations (comparison and return statements).\n",
    "* The overall time complexity is therefore $O(N^2)$\n",
    "\n",
    "Overall space complexity: $O(1)$\n",
    "* The space complexity is determined by the additional space used by the algorithm.\n",
    "* Sorting algorithms may use some additional memory for temporary storage during the sorting process, but this is usually negligible compared to the size of the input.\n",
    "* The space complexity of the temporary i and comparison variables is constant $O(1)$.\n",
    "* The space required therefore doesn't scale with input size and is $O(1)$."
   ]
  },
  {
   "cell_type": "code",
   "execution_count": null,
   "id": "76a81ad1-6d23-4014-bafd-73a1a4dec93e",
   "metadata": {},
   "outputs": [],
   "source": [
    "def contains_duplicate_2(input):\n",
    "    \"\"\"\n",
    "    Sorting the input list\n",
    "    \"\"\"\n",
    "    input.sort()\n",
    "    for i in range(len(input)-1):\n",
    "        if (input[i] == input[i+1]):\n",
    "            return True\n",
    "    return False"
   ]
  },
  {
   "cell_type": "code",
   "execution_count": null,
   "id": "aa7f8cec-c6d6-4c72-bab3-f9cdf0376d40",
   "metadata": {},
   "outputs": [],
   "source": [
    "# Examples\n",
    "list = [0, 1, 2]\n",
    "result = contains_duplicate_2(list)\n",
    "print(f\"{list}: {result}\\n\")\n",
    "\n",
    "list = [0, 1, 1]\n",
    "result = contains_duplicate_2(list)\n",
    "print(f\"{list}: {result}\\n\")\n",
    "\n",
    "list = ['a', 'a', 1]\n",
    "result = contains_duplicate_2(list)\n",
    "print(f\"{list}: {result}\\n\")"
   ]
  },
  {
   "cell_type": "markdown",
   "id": "d0bc952e-c7ef-496b-8d1d-b76bb6c27a5d",
   "metadata": {},
   "source": [
    "**_Solution 3:_**\n",
    "* Using a dictionary\n",
    "\n",
    "Overall time complexity: $O(N)$\n",
    "* The function iterates over the list with time complexity $O(N)$ where $N$ is the length of the input.\n",
    "* Inside the loop, there is a constant time $O(1)$ search in the dictionary.\n",
    "* The overall time complexity is therefore $O(N)$.\n",
    "\n",
    "Overall space complexity: $O(N)$\n",
    "* The space complexity is determined by the additional space used by the algorithm.\n",
    "* The size of the dictionary scales with the input size requiring $O(N)$ if there are no duplicates (but probably less if duplicates are present).\n",
    "* Additional memory is required for the temporary $i$ and comparison variables but both are constant $O(1)$.\n",
    "* The overall space complexity is therefore $O(N)$."
   ]
  },
  {
   "cell_type": "code",
   "execution_count": null,
   "id": "bb9dafb6-8e52-4bd6-b7a9-d7f3005cf8b2",
   "metadata": {},
   "outputs": [],
   "source": [
    "def contains_duplicate_3(input):\n",
    "    \"\"\"\n",
    "    Using a dictionary\n",
    "    \"\"\"\n",
    "    seen = {}\n",
    "    for i in input:\n",
    "        if i in seen:\n",
    "            return True\n",
    "        seen[i] = True\n",
    "    return False"
   ]
  },
  {
   "cell_type": "code",
   "execution_count": null,
   "id": "d38a03aa-e079-4f79-9236-82991caf82cf",
   "metadata": {},
   "outputs": [],
   "source": [
    "# Examples\n",
    "list = [0, 1, 2]\n",
    "result = contains_duplicate_3(list)\n",
    "print(f\"{list}: {result}\\n\")\n",
    "\n",
    "list = [0, 1, 1]\n",
    "result = contains_duplicate_3(list)\n",
    "print(f\"{list}: {result}\\n\")\n",
    "\n",
    "list = ['a', 'a', 1]\n",
    "result = contains_duplicate_3(list)\n",
    "print(f\"{list}: {result}\\n\")"
   ]
  },
  {
   "cell_type": "markdown",
   "id": "47ce398c-147d-42b2-9f4d-6caf0a547163",
   "metadata": {},
   "source": [
    "----------------------"
   ]
  },
  {
   "cell_type": "markdown",
   "id": "2928abe3-a07e-4bac-b283-867879870da7",
   "metadata": {},
   "source": [
    "----------------------"
   ]
  },
  {
   "cell_type": "markdown",
   "id": "47f882b9-fe97-42ec-a15e-076a9aac49ec",
   "metadata": {},
   "source": [
    "### Minimum difference"
   ]
  },
  {
   "cell_type": "markdown",
   "id": "f46c54b4-9517-4781-af58-4303daccfb06",
   "metadata": {},
   "source": [
    "**11. Given a list of salaries, we'll define a metric called inequity, which is the difference between max and min salary seen in the list. Write a function called min_inequity which takes a list of salaries, and a value of n, and returns the minimum inequity possible when taking n salaries from the full salary list.**\n",
    "\n",
    "*inequity = max(input_list) - min(input_list)*\n",
    "\n",
    "* Example 1:\n",
    "\n",
    "    salaries = [60000, 80000, 120000, 70000]\n",
    "\n",
    "    The minimum inequity with n=2 is $10,000 as max(60000, 70000) - min(60000, 70000) = 10000\n",
    "\n",
    "* Example 2:\n",
    "\n",
    "    salaries = [60000, 80000, 120000, 70000]\n",
    "\n",
    "    The minimum inequity with n=3 is $20,000 as max(60000, 70000, 80000) - min(60000, 70000, 80000) = 20000\n",
    "\n",
    "Source DataLemur, Python Question \"Salary inequity\""
   ]
  },
  {
   "cell_type": "markdown",
   "id": "0927e3e1-b055-4503-ab34-7ffd69526631",
   "metadata": {},
   "source": [
    "**_Solution 1:_**\n",
    "\n",
    "* The brute force solution would generate all n-combinations, calculate inequity and sort before returning the minimum value.\n",
    "\n",
    "* Generating all $n=2$ combinations for a list with length $N$ would occur in $O(N^2)$:\n",
    "\n",
    "    $ \\binom{N}{2} = \\frac{N(N-1)}{2!}$\n",
    "\n",
    "* Generating all $n=3$ combinations for a list with length $N$ would occur in $O(N^3)$:\n",
    "\n",
    "    $ \\binom{N}{3} = \\frac{N(N-1)(N-2)}{3!}$"
   ]
  },
  {
   "cell_type": "markdown",
   "id": "93946978-0ba8-4788-a5e7-a68561939115",
   "metadata": {},
   "source": [
    "**_Solution 2:_**\n",
    "\n",
    "* A better solution is to sort the list in ascending order and check the minimum possible value of difference between elements with distance ‘n’ apart (i.e. like a sliding window).\n",
    "\n",
    "Overall time complexity: $O(N Log N)$\n",
    "* The sort of the input list takes $O(N Log N)$\n",
    "* After the sort, the function calculates the length of the array and initialises minimum inequity, both with time complexity $O(1)$\n",
    "* The function then iterates over the list once with time complexity $O(N- n + 1)$ where $N$ is the length of the input\n",
    "* Inside the loop, there are constant time $O(1)$ operations (comparison and update of the min_inequity).\n",
    "* The overall time complexity is therefore $O(N Log N)$\n",
    "\n",
    "Overall space complexity: $O(1)$\n",
    "* The space complexity is determined by the additional space used by the algorithm.\n",
    "* The sort algorithm is conducted in-place, so the space complexity is $O(1)$. It may use some additional memory for temporary storage during the sorting process, but this is usually negligible compared to the size of the input.\n",
    "* Additional memory is required for the salary_length, min_inequity and loop counter $i$ variable but these don't scale with the input size, so are $O(1)$.\n",
    "* The overall space complexity is therefore $O(1)$."
   ]
  },
  {
   "cell_type": "code",
   "execution_count": null,
   "id": "f979981a-1c94-4ca1-839f-05a3ed3dd63b",
   "metadata": {},
   "outputs": [],
   "source": [
    "def min_inequity(salaries, n):\n",
    "    \n",
    "    # Sort the salaries in ascending order\n",
    "    salaries.sort()\n",
    "\n",
    "    # Calculate array length\n",
    "    salary_length = len(salaries)\n",
    "    \n",
    "    # Initialise minimum inequity with the maximum value in the array\n",
    "    min_inequity = salaries[-1]\n",
    "\n",
    "    # Iterate over the array once, updating min_inequity based on comparison\n",
    "    for i in range(salary_length - n + 1):\n",
    "        if salaries[i+n-1]-salaries[i] < min_inequity:\n",
    "            min_inequity = salaries[i+n-1]-salaries[i]\n",
    "    return min_inequity"
   ]
  },
  {
   "cell_type": "code",
   "execution_count": null,
   "id": "a1daa3e3-dbb0-4350-a938-af03ec5954c5",
   "metadata": {},
   "outputs": [],
   "source": [
    "# Examples\n",
    "list = [60000, 80000, 120000, 70000]\n",
    "result = min_inequity(list, 2)\n",
    "print(f\"{list}: {result}\\n\")\n",
    "\n",
    "list = [60000, 80000, 120000, 70000]\n",
    "result = min_inequity(list, 3)\n",
    "print(f\"{list}: {result}\\n\")"
   ]
  },
  {
   "cell_type": "markdown",
   "id": "edc01313-7f71-491e-8583-51588fcdecdd",
   "metadata": {},
   "source": [
    "---------------------"
   ]
  },
  {
   "cell_type": "markdown",
   "id": "e5605186-aeca-4645-994f-9a12f16be1a7",
   "metadata": {},
   "source": [
    "-----------------------------"
   ]
  },
  {
   "cell_type": "markdown",
   "id": "b8f61a79-9234-4d80-8716-3a9c3a4e04cb",
   "metadata": {},
   "source": [
    "### Maximise profit"
   ]
  },
  {
   "cell_type": "markdown",
   "id": "0e5604b2-3f5f-4ddb-8b66-516ea09b1142",
   "metadata": {},
   "source": [
    "**12. Your are given a list of stock prices, where the stock's price on the ith day is stored as the ith element of the prices list. You want to maximise your profit trading the stock, but are only allowed to buy the stock once and sell it once on a future day. Write a function which takes in this list of stock prices and computes the maximum profit possible. Return 0 if you can't make any profit.**\n",
    "\n",
    "* Example 1:\n",
    "\n",
    "    Input prices: [9, 1, 3, 6, 4, 8, 3, 5, 5]\n",
    "\n",
    "    Output: 7 (buy on day 2 and sell on day 6)\n",
    "\n",
    "* Example 2:\n",
    "\n",
    "    Input prices: [6, 4, 3, 3, 2]\n",
    "\n",
    "    Output: 0\n",
    "\n",
    "Source DataLemur, Python Question \"Max profit trading stocks\""
   ]
  },
  {
   "cell_type": "markdown",
   "id": "2960cda9-9a76-463b-8730-88c3777764cd",
   "metadata": {},
   "source": [
    "**_Solution 1_**\n",
    "\n",
    "* Brute force\n",
    "\n",
    "Overall time complexity: $O(N^2)$, where $N$ is the length of the input.\n",
    "* Creation of max_profit is a constant time operation $O(1)$.\n",
    "* The outer loop runs from $0$ to $N-2$.\n",
    "* The inner loop runs from $1$ to $N-1$.\n",
    "* The nested for loops therefore take quadratic time $O(N^2)$.\n",
    "* Inside the inner loop, there are constant time operations (i.e. difference, comparison and update), all require $O(1)$.\n",
    "* The total number of these operations is given by the number of (buy, sell) pairs: $\\binom{N}{2}=\\frac{N \\times (N-1)}{2!}$. This simplifies to $O(N^2)$.\n",
    "* The overall time complexity is therefore $O(N^2)$.\n",
    "\n",
    "Overall space complexity: $O(1)$\n",
    "* The space complexity is determined by the additional space used by the algorithm.\n",
    "* Additional memory is required for the max_profit, current_profit and loop counter $i, j$ variables but these don't scale with the input size, so are $O(1)$.\n",
    "* The overall space complexity is therefore $O(1)$."
   ]
  },
  {
   "cell_type": "code",
   "execution_count": null,
   "id": "6b7befe3-fdb1-4619-b1a8-275fb2bb156f",
   "metadata": {},
   "outputs": [],
   "source": [
    "def max_profit_1(prices):\n",
    "    \"\"\"\n",
    "    Brute force solution\n",
    "    \"\"\"\n",
    "    # Initialise max_profit\n",
    "    max_profit = 0\n",
    "\n",
    "    # Nested for loop - generates all (buy, sell) pairs\n",
    "    for i in range(len(prices)-1):\n",
    "        for j in range(i+1, len(prices)):\n",
    "\n",
    "            # Calculate profit and update max_profit based on comparison\n",
    "            cur_profit = prices[j] - prices[i]\n",
    "            if (cur_profit > max_profit):\n",
    "                max_profit = cur_profit\n",
    "    return max_profit"
   ]
  },
  {
   "cell_type": "code",
   "execution_count": null,
   "id": "74ef50f9-a1d4-4637-a498-bb7f332b4ed6",
   "metadata": {},
   "outputs": [],
   "source": [
    "# Examples\n",
    "list = [9, 1, 3, 6, 4, 8, 3, 5, 5]\n",
    "result = max_profit_1(list)\n",
    "print(f\"{list}: {result}\\n\")\n",
    "\n",
    "list = [6, 4, 3, 3, 2]\n",
    "result = max_profit_1(list)\n",
    "print(f\"{list}: {result}\\n\")"
   ]
  },
  {
   "cell_type": "markdown",
   "id": "1e38527c-a8e1-4547-86f7-1d8ae224df48",
   "metadata": {},
   "source": [
    "**_Solution 2_**\n",
    "\n",
    "* Optimal solution\n",
    "\n",
    "Overall time complexity: $O(N)$, where $N$ is the length of the input.\n",
    "* The creation of both min_price and max_profit are constant time operations $O(1)$.\n",
    "* The loop runs from $1$ to $N-1$, therefore taking linear time $O(N^2)$.\n",
    "* Inside the loop, there are constant time operations (i.e. difference, comparison and update), all require $O(1)$.\n",
    "* The total number of these operations is given by the number of loops: $N-1$. This simplifies to $O(N)$.\n",
    "* The overall time complexity is therefore $O(N)$.\n",
    "\n",
    "Overall space complexity: $O(1)$\n",
    "* The space complexity is determined by the additional space used by the algorithm.\n",
    "* Additional memory is required for the max_profit, min_price and loop counter $curr_price$ variables but these don't scale with the input size, so are $O(1)$.\n",
    "* The overall space complexity is therefore $O(1)$."
   ]
  },
  {
   "cell_type": "code",
   "execution_count": null,
   "id": "e99457b3-08b7-4c2d-8f4c-b621841f25e8",
   "metadata": {},
   "outputs": [],
   "source": [
    "def max_profit_2(prices):\n",
    "    \"\"\"\n",
    "    Optimal solution\n",
    "    \"\"\"\n",
    "    # Initialise min_price as starting price\n",
    "    min_price = prices[0]\n",
    "\n",
    "    # Initialise max_profit\n",
    "    max_profit = 0\n",
    "\n",
    "    # Iterate over the remaining prices once\n",
    "    for cur_price in prices[1:]:\n",
    "\n",
    "        # Update max_profit and min_price based on comparison\n",
    "        max_profit = max(max_profit, cur_price - min_price)\n",
    "        min_price = min(min_price, cur_price)\n",
    "\n",
    "    return max_profit"
   ]
  },
  {
   "cell_type": "code",
   "execution_count": null,
   "id": "c4d8018b-5008-4374-8276-b6cb0fad63d0",
   "metadata": {},
   "outputs": [],
   "source": [
    "# Examples\n",
    "list = [9, 1, 3, 6, 4, 8, 3, 5, 5]\n",
    "result = max_profit_2(list)\n",
    "print(f\"{list}: {result}\\n\")\n",
    "\n",
    "list = [6, 4, 3, 3, 2]\n",
    "result = max_profit_2(list)\n",
    "print(f\"{list}: {result}\\n\")"
   ]
  },
  {
   "cell_type": "markdown",
   "id": "ab8465bd-aa5d-46ad-b120-caa327d9d554",
   "metadata": {},
   "source": [
    "--------------------"
   ]
  },
  {
   "cell_type": "markdown",
   "id": "67ec0cd1-de92-464b-b0c5-755c97e47885",
   "metadata": {},
   "source": [
    "--------------------"
   ]
  },
  {
   "cell_type": "markdown",
   "id": "77b9737a-6db9-4455-980f-8e63b6f31e42",
   "metadata": {},
   "source": [
    "## Medium questions"
   ]
  },
  {
   "cell_type": "markdown",
   "id": "216e522a-d649-4e69-a45b-db0b39be5a2b",
   "metadata": {},
   "source": [
    "### Locate peak"
   ]
  },
  {
   "cell_type": "markdown",
   "id": "f5fec2db-e320-48a9-a93a-5a1363444a63",
   "metadata": {},
   "source": [
    "**13. Given an array of positive integers, a peak element is greater than its neighbors. Write a function to find the index of any peak elements.**\n",
    "\n",
    "* Example 1\n",
    "\n",
    "    Input: [3, 5, 2, 4, 1]\n",
    "\n",
    "    Return either 1 or 3 because the values at those indexes, 5 and 4, are both peak elements\n",
    "\n",
    "Source: Ace the Data Science Interview, Question 9.7"
   ]
  },
  {
   "cell_type": "markdown",
   "id": "9042ab3c-61c7-4450-a4de-a547c3fbc540",
   "metadata": {},
   "source": [
    "**_Solution 1_**\n",
    "\n",
    "* Brute force\n",
    "* Iterate over the array, checking for each element whether it is greater than \n",
    "\n",
    "Overall time complexity: $O(N)$, where $N$ is the length of the input.\n",
    "\n",
    "\n",
    "Overall space complexity: $O(N-2)$"
   ]
  },
  {
   "cell_type": "code",
   "execution_count": null,
   "id": "28348d6b-9e8e-4da0-93fd-afdd9c360f35",
   "metadata": {},
   "outputs": [],
   "source": [
    "def index_peaks_1(array):\n",
    "    \"\"\"\n",
    "    Brute force solution\n",
    "    \"\"\"\n",
    "    # Create dictionary to store indexes\n",
    "    peaks = {}\n",
    "\n",
    "    # Iterate over the array from the second to the second to last element\n",
    "    for i in range(1, len(array)-1):\n",
    "        \n",
    "        # Check peak\n",
    "        if (array[i] > array[i-1]) and (array[i] > array[i+1]):\n",
    "            peaks[i]=True\n",
    "            \n",
    "    return peaks"
   ]
  },
  {
   "cell_type": "code",
   "execution_count": null,
   "id": "abd08c54-8924-4399-b928-804cdfe01a03",
   "metadata": {},
   "outputs": [],
   "source": [
    "# Examples\n",
    "list = [3, 5, 2, 4, 1]\n",
    "result = index_peaks_1(list)\n",
    "print(f\"{list}: {result}\\n\")\n",
    "\n",
    "list = [9, 1, 3, 6, 4, 8, 3, 5, 10]\n",
    "result = index_peaks_1(list)\n",
    "print(f\"{list}: {result}\\n\")"
   ]
  },
  {
   "cell_type": "markdown",
   "id": "1ae6e8ca-a349-498b-a250-f62a08df85ea",
   "metadata": {},
   "source": [
    "**_Solution 2_**\n",
    "\n",
    "* Optimal solution\n",
    "* Iterative binary search\n",
    "\n",
    "\n",
    "Overall time complexity: $O(N)$, where $N$ is the length of the input.\n",
    "\n",
    "\n",
    "Overall space complexity: $O(N-2)$\n"
   ]
  },
  {
   "cell_type": "markdown",
   "id": "d5a6e03b-f4c9-4cc7-9f7f-eda74fc6926f",
   "metadata": {},
   "source": [
    "-----------------------"
   ]
  },
  {
   "cell_type": "markdown",
   "id": "f5d14754-1fdd-4802-8bbc-9f1b239b51f9",
   "metadata": {},
   "source": [
    "-----------------"
   ]
  },
  {
   "cell_type": "markdown",
   "id": "b9c5ec53-ae95-46cd-945e-97cf903cde4f",
   "metadata": {},
   "source": [
    "### Correlation"
   ]
  },
  {
   "cell_type": "markdown",
   "id": "5aeeb8fc-bf15-42a4-996c-51dba684362d",
   "metadata": {},
   "source": [
    "**14. Given two lists X and Y, return their correlation.**\n",
    "\n",
    "Source: Ace the Data Science Interview, Question 9.8"
   ]
  },
  {
   "cell_type": "markdown",
   "id": "d9a2f78c-e82d-4154-a67e-01ac49f081b2",
   "metadata": {},
   "source": [
    "**_Background:_**\n",
    "\n",
    "$\\mu_X = \\frac{\\sum_i{x_i}}{N}$\n",
    "\n",
    "$\\sigma_X = \\sqrt{\\frac{(x_i - \\mu)^2}{N}}$\n",
    "\n",
    "$cov_{X, Y} = E[(X-\\mu_X)(Y-\\mu_Y)] = \\frac{\\sum_i{(x_i-\\mu_x)(y_i-\\mu_y)}}{N}$\n",
    "\n",
    "$corr_{X, Y} = \\frac{cov_{x,y}}{\\sigma_x\\sigma_y}$"
   ]
  },
  {
   "cell_type": "markdown",
   "id": "4633b76c-8e2e-4086-9f64-970173934008",
   "metadata": {},
   "source": [
    "**_Mean function:_** $O(N)$ time complexity & $O(1)$ space complexity\n",
    "* The time complexity of the mean function is $O(N)$ as the sum function involves iteration over the input array.\n",
    "* The space complexity is determined by the additional space used by the algorithm. The function does not use any additional memory that scales with the input size.\n",
    "\n",
    "**_SD function:_** $O(N)$ time complexity & $O(1)$ space complexity\n",
    "* The generator comprehension iterates over each element $i$ in the iterable $x$ and evaluates it with a constant time expression $O(1)$. Since there are $N$ elements in $x$, the overall time complexity of the generator comprehension is $O(N)$.\n",
    "* The sum() function adds up the squared differences calculated by the generator comprehension. It does not require an additional iteration.\n",
    "* The time complexity of the mean function is $O(N)$ as only one loop of the input array is required.\n",
    "* The space complexity is determined by the additional space used by the algorithm. The function does not use any additional memory that scales with the input size.\n",
    "\n",
    "**_Corr function:_** $O(N)$ time complexity & $O(N)$ space complexity\n",
    "* The time complexity of the mean calculations are $O(X)$ and $O(Y)$.\n",
    "* The time complexity of the SD calculations is $O(X)$ and $O(Y)$.\n",
    "* The time complexity of the for loop is $O(X)$. Only constant time operations are conducted inside the loop.\n",
    "* The overall time complexity is $O(N)$\n",
    "* The space complexity is determined by the additional space used by the algorithm.\n",
    "* Only xy_d scales with the input size. The overall space complexity is therefore $O(N)$."
   ]
  },
  {
   "cell_type": "code",
   "execution_count": 10,
   "id": "b58ec687-dd7b-480a-9cd0-26ed39014ea8",
   "metadata": {},
   "outputs": [],
   "source": [
    "def mean(x):\n",
    "    \"\"\"\n",
    "    Helper function for mean\n",
    "    \"\"\"\n",
    "    return sum(x)/len(x)\n",
    "\n",
    "def sd(x):\n",
    "    \"\"\"\n",
    "    Helper function for standard deviation\n",
    "    \"\"\"\n",
    "    m = mean(x)\n",
    "    ss = sum((i-m) ** 2 for i in x) # note generator expression\n",
    "    return math.sqrt(ss / len(x))\n",
    "\n",
    "def corr(x, y):\n",
    "    \"\"\"\n",
    "    Iterative solution\n",
    "    \"\"\"\n",
    "    x_m = mean(x)\n",
    "    y_m = mean(y)\n",
    "    xy_d = []\n",
    "    for i in range(len(x)):\n",
    "        x_d = x[i] - x_m\n",
    "        y_d = y[i] - y_m\n",
    "        xy_d.append(x_d * y_d)\n",
    "    return mean(xy_d) / (sd(x) * sd(y))"
   ]
  },
  {
   "cell_type": "markdown",
   "id": "8d8f27df-7805-4740-855f-a8cb87d16424",
   "metadata": {},
   "source": [
    "--------------------------"
   ]
  },
  {
   "cell_type": "markdown",
   "id": "2f549ee8-f94d-4917-baf3-cd421cf28469",
   "metadata": {},
   "source": [
    "-----------------------------"
   ]
  },
  {
   "cell_type": "markdown",
   "id": "fb81473c-facb-47f0-a5a8-1c91e22e8da3",
   "metadata": {},
   "source": [
    "### Binary tree"
   ]
  },
  {
   "cell_type": "markdown",
   "id": "4a422ec1-ccb2-4a54-b2b9-1e28455e8d1e",
   "metadata": {},
   "source": [
    "**15. Given a binary tree, write a function to determine the diameter of the tree, which is the longest path between any two nodes**\n",
    "\n",
    "Source: Ace the Data Science Interview, Question 9.9"
   ]
  },
  {
   "cell_type": "markdown",
   "id": "f560ab59-7598-4a54-af66-de733700b014",
   "metadata": {},
   "source": [
    "--------------------"
   ]
  },
  {
   "cell_type": "markdown",
   "id": "8d017f12-721f-4c20-97d2-8b3da1439e33",
   "metadata": {},
   "source": [
    "--------------------"
   ]
  },
  {
   "cell_type": "markdown",
   "id": "7ce9d4b2-9354-4619-8bbe-17d111a27ea5",
   "metadata": {},
   "source": [
    "### Sampling"
   ]
  },
  {
   "cell_type": "markdown",
   "id": "ae900ca8-95df-4c57-bfb2-83d10f62d59b",
   "metadata": {},
   "source": [
    "**16. Given a target number, generate a random sample of n integars that sum to that target that are also within sigma standard deviations of the mean.**\n",
    "\n",
    "Source: Ace the Data Science Interview, Question 9.10"
   ]
  },
  {
   "cell_type": "markdown",
   "id": "411b625e-e4b1-4863-9a28-1e924f8cb4f6",
   "metadata": {},
   "source": [
    "--------------------"
   ]
  },
  {
   "cell_type": "markdown",
   "id": "2405c5fa-e89d-48f8-a427-e0b98213024d",
   "metadata": {},
   "source": [
    "--------------------"
   ]
  },
  {
   "cell_type": "markdown",
   "id": "95420a9a-0cb4-4250-bb7c-70b37997e478",
   "metadata": {},
   "source": [
    "### Social graph"
   ]
  },
  {
   "cell_type": "markdown",
   "id": "07cc6ee6-8af2-49fb-9e58-4c6f83786918",
   "metadata": {},
   "source": [
    "**17. You have the entire social graph of Facebook users, with nodes representing users and edges representing friendships between users. Given a social graph and two users as input, write a function to return the smallest number of friendships between the two users.**\n",
    "\n",
    "* Example 1:\n",
    "\n",
    "    Graph consists of 5 users (A, B, C, D, E) and the friendship edges are (A, B), (A, C), (B, D) and (D, E).\n",
    "\n",
    "    Two input users: A and E\n",
    "\n",
    "    Return 3 since A is friends with B, B is friends with D and D is friends with E\n",
    "\n",
    "Source: Ace the Data Science Interview, Question 9.11"
   ]
  },
  {
   "cell_type": "markdown",
   "id": "c86a9833-3bd6-4cf4-b425-d7beaccfd45f",
   "metadata": {},
   "source": [
    "--------------------"
   ]
  },
  {
   "cell_type": "markdown",
   "id": "da179ad6-0cbf-45cd-bf1a-17aaa9331ec6",
   "metadata": {},
   "source": [
    "--------------------"
   ]
  },
  {
   "cell_type": "markdown",
   "id": "744dfc01-9b5b-47f6-ac87-45d0956ccf56",
   "metadata": {},
   "source": [
    "### Anagram"
   ]
  },
  {
   "cell_type": "markdown",
   "id": "034f8912-0345-4dfd-b1a0-fe9ce857d7fb",
   "metadata": {},
   "source": [
    "**18. Given two strings A and B, write a function to return a list of all the start indices within A where the substring of A is an anagram of B.**\n",
    "\n",
    "* Example 1:\n",
    "\n",
    "    A = \"abcdcbac\" and B = \"abc\"\n",
    "\n",
    "    Return [0, 4, 5] as those are the starting indices of substrings that are anagrams of B\n",
    "\n",
    "Source: Ace the Data Science Interview, Question 9.12"
   ]
  },
  {
   "cell_type": "markdown",
   "id": "9a0236a9-02db-457a-bff9-7a4f8362cb8e",
   "metadata": {},
   "source": [
    "--------------------"
   ]
  },
  {
   "cell_type": "markdown",
   "id": "a8a93d5d-d6ca-40a6-b264-6249eabe52c5",
   "metadata": {},
   "source": [
    "--------------------"
   ]
  },
  {
   "cell_type": "markdown",
   "id": "f2cfb7bc-f5d0-4742-8cf4-54f5901b9e4d",
   "metadata": {},
   "source": [
    "### Intervals"
   ]
  },
  {
   "cell_type": "markdown",
   "id": "6862b668-fbc1-4db6-8c69-168dceb8bea2",
   "metadata": {},
   "source": [
    "**19. You are given an array of intervals, where each interval is represented by a start time and an end time, such as [1, 3]. Determine the smallest number of intervals to remove from the list, such that the rest of the intervals do not overlap. Intervals can touch, such as [1, 3] and [3, 5], but are not allowed to overlap, such as [1, 3] and [2, 5].**\n",
    "\n",
    "* Example 1:\n",
    "\n",
    "    Input array: [[1, 3], [3, 5], [2, 4], [6, 8]]\n",
    "\n",
    "    Return 1, since [2, 4] should be removed\n",
    "\n",
    "\n",
    "Source: Ace the Data Science Interview, Question 9.13"
   ]
  },
  {
   "cell_type": "markdown",
   "id": "8b016aa1-6a28-474e-9fdb-e6054053bcc5",
   "metadata": {},
   "source": [
    "--------------------"
   ]
  },
  {
   "cell_type": "markdown",
   "id": "0da14efb-bcb0-430d-b855-1d1482ed2ef8",
   "metadata": {},
   "source": [
    "--------------------"
   ]
  },
  {
   "cell_type": "markdown",
   "id": "aa3284c8-6cf5-4cc3-914e-11113dc0f856",
   "metadata": {},
   "source": [
    "### Anagram"
   ]
  },
  {
   "cell_type": "markdown",
   "id": "709a6450-2d4e-4b60-b69b-0db08565ac51",
   "metadata": {},
   "source": [
    "**20. Given an array of strings, return a list of lists where each list contains the strings that are anagrams of one another.**\n",
    "\n",
    "* Example 1:\n",
    "\n",
    "    Input: [\"abc\", \"abd\", \"cab\", \"bad\", \"bca\", \"acd\"]\n",
    "\n",
    "    Return: [[\"abc\", \"cab\", \"bca\"], [\"abd\", \"bad\"], [\"acd\"]]\n",
    "\n",
    "\n",
    "Source: Ace the Data Science Interview, Question 9.14"
   ]
  },
  {
   "cell_type": "markdown",
   "id": "19716942-59d3-4faa-92e2-e0293abd40aa",
   "metadata": {},
   "source": [
    "--------------------"
   ]
  },
  {
   "cell_type": "markdown",
   "id": "45ae7f05-e8df-40dc-aba1-4d639907a6ad",
   "metadata": {},
   "source": [
    "--------------------"
   ]
  },
  {
   "cell_type": "markdown",
   "id": "642232b7-3bc0-4735-85df-890d3351634c",
   "metadata": {},
   "source": [
    "### Clustering"
   ]
  },
  {
   "cell_type": "markdown",
   "id": "3beee5cd-6427-4617-952a-1c9244b96882",
   "metadata": {},
   "source": [
    "**21. Say there are n people. If person A is friends with person B, and person B is friends with person C, then person A is considered an indirect friend of person C. Define a friend group to be any group that is either directly or indirectly friends. Given an \"n-by-n \" adjacency matrix N, where N[i][j] is one if person i and person j are friends, and zero otherwise, write a function to determine how many friend groups exist.**\n",
    "\n",
    "Source: Ace the Data Science Interview, Question 9.15"
   ]
  },
  {
   "cell_type": "markdown",
   "id": "4bb011ab-2520-4e67-a420-8db5eae2740e",
   "metadata": {},
   "source": [
    "--------------------"
   ]
  },
  {
   "cell_type": "markdown",
   "id": "6805b6dd-55c6-47b7-aaf0-84663c9d8172",
   "metadata": {},
   "source": [
    "--------------------"
   ]
  },
  {
   "cell_type": "markdown",
   "id": "3a41c395-3b50-4a63-9d22-2e01523f0b12",
   "metadata": {},
   "source": [
    "### Linked list"
   ]
  },
  {
   "cell_type": "markdown",
   "id": "073e2ec2-40c0-47e8-8b1a-b1ccb682c022",
   "metadata": {},
   "source": [
    "**22. Given a linked list, return the head of the same linked list but with the k-th node from the end of a linked list removed.**\n",
    "\n",
    "* Example 1:\n",
    "  \n",
    "    Input linked list 3-2-5-1-4 and k=3\n",
    "\n",
    "    Return the linked list 3-2-1-4\n",
    "\n",
    "\n",
    "Source: Ace the Data Science Interview, Question 9.16"
   ]
  },
  {
   "cell_type": "markdown",
   "id": "cbe74a1a-e768-4017-bca8-a9b612855ab2",
   "metadata": {},
   "source": [
    "--------------------"
   ]
  },
  {
   "cell_type": "markdown",
   "id": "e4bc9b50-7001-46bb-b369-04ee7a45af59",
   "metadata": {},
   "source": [
    "--------------------"
   ]
  },
  {
   "cell_type": "markdown",
   "id": "39b77634-02ac-4ae1-89f2-a462b7c57c91",
   "metadata": {},
   "source": [
    "### Monte carlo"
   ]
  },
  {
   "cell_type": "markdown",
   "id": "3e1cc6f7-f57f-47e0-95a6-adf972113950",
   "metadata": {},
   "source": [
    "**23. Estimate pi using a Monte Carlo method.**\n",
    "\n",
    "Hint: Think about throwing darts on a square and seeing where they land within a circle.\n",
    "\n",
    "\n",
    "Source: Ace the Data Science Interview, Question 9.17"
   ]
  },
  {
   "cell_type": "markdown",
   "id": "12aabd3e-a132-45e0-beeb-8641cc2c607e",
   "metadata": {},
   "source": [
    "--------------------"
   ]
  },
  {
   "cell_type": "markdown",
   "id": "8b6fed04-6d60-4ff3-9a5d-575b999332cb",
   "metadata": {},
   "source": [
    "--------------------"
   ]
  },
  {
   "cell_type": "markdown",
   "id": "bf2d5a6b-f868-4a6e-9bca-0dfb5a7fbb66",
   "metadata": {},
   "source": [
    "### Validate string"
   ]
  },
  {
   "cell_type": "markdown",
   "id": "76e329b4-e1bb-4895-8ee6-37522921b6e7",
   "metadata": {},
   "source": [
    "**24. Given a string with lowercase letters and left and right parentheses, remove the minimum number of parentheses so the string is valid (i.e. every left parentheses is correctly matched by a corresponding right parentheses).**\n",
    "\n",
    "* Example 1:\n",
    "\n",
    "    Input string: \")a(b((cd)e(f)g)\"\n",
    "\n",
    "    Return \"ab((cd)e(f)g)\"\n",
    "\n",
    "\n",
    "Source: Ace the Data Science Interview, Question 9.18"
   ]
  },
  {
   "cell_type": "markdown",
   "id": "e632fef6-84ec-44a2-bb40-c2c1b4de8d50",
   "metadata": {},
   "source": [
    "--------------------"
   ]
  },
  {
   "cell_type": "markdown",
   "id": "82780539-45cf-4f42-a2e4-a6457b985429",
   "metadata": {},
   "source": [
    "--------------------"
   ]
  },
  {
   "cell_type": "markdown",
   "id": "af7fe853-3b05-44a9-ad40-a4bed0db9afa",
   "metadata": {},
   "source": [
    "### Permutations"
   ]
  },
  {
   "cell_type": "markdown",
   "id": "e6753a02-c769-4e5b-818c-d90259c99166",
   "metadata": {},
   "source": [
    "**25. Given a list of one or more integers, write a function to generate all permutations of those integars.**\n",
    "\n",
    "* Example 1:\n",
    "\n",
    "    Input: [2, 3, 4]\n",
    "\n",
    "    Return the following 6 permutations: [2, 3, 4], [2, 4, 3], [3, 2, 4], [3, 4, 2], [4, 2, 3], [4, 2, 3], [4, 3, 2]\n",
    "\n",
    "\n",
    "Source: Ace the Data Science Interview, Question 9.19"
   ]
  },
  {
   "cell_type": "markdown",
   "id": "d856fb9a-3db6-44cc-a32c-2210cbbb512c",
   "metadata": {},
   "source": [
    "**_Solution_**\n",
    "\n",
    "* Optimal recursive solution\n",
    "* Key steps:\n",
    "\n",
    "  (1) Initialise variables to store input list length and permutations\n",
    "  \n",
    "  (2) Base case: There is only one permutation if the input length is 1. The list itself is therefore returned.\n",
    "\n",
    "  (3) Recursion:\n",
    "\n",
    "  - It iterates over each element in the input list using the loop variable $i$.\n",
    "  - For each iteration, it calls the permute function with the list obtained by excluding the current element ($nums[:i] + nums[i+1:]$).\n",
    "  - The result is a list of permutations for the smaller list obtained by excluding the current element.\n",
    "  - The current element is then appended to each of these permutations, and the resulting lists are added to the results list.\n",
    " \n",
    "Overall time complexity: $O(N!)$, where $N$ is the length of the input.\n",
    "* The function makes a recursive call for each element in the input list. It makes $N$ recursive calls.\n",
    "* In each recursive call, the function performs a loop over the elements of the list, and for each element, it makes another recursive call\n",
    "* Overall, there are $N!$ permutations being generated\n",
    "\n",
    "\n",
    "Overall space complexity: $O(N \\times N!)$\n",
    "* The space complexity is determined by the additional space used by the algorithm. \n",
    "* The function uses recursion, and each recursive call adds a frame to the call stack.\n",
    "* The function uses a list (results) to store the permutations. The size of this list is proportional to the number of permutations, which is $O(N!)$.\n",
    "* Each of the $N!$ calls uses $O(N)$ space.\n",
    "* Therefore overall space complexity is $O(N \\times N!)$."
   ]
  },
  {
   "cell_type": "code",
   "execution_count": 12,
   "id": "e9d21dac-046d-449c-82f0-f74a79b24e00",
   "metadata": {},
   "outputs": [],
   "source": [
    "def permute(nums):\n",
    "    \"\"\"\n",
    "    Optimal recursive solution\n",
    "    \"\"\"\n",
    "    # Initialise variables\n",
    "    n = len(nums) # stores input length\n",
    "    results = [] # stores permutations\n",
    "\n",
    "    # Base case\n",
    "    if n<=1:\n",
    "        return [nums]\n",
    "\n",
    "    # Recursion\n",
    "    else:\n",
    "        for i in range(n):\n",
    "            for combo in permute(nums[:i] + nums[i+1:]):\n",
    "                results.append([nums[i]] + combo)\n",
    "    return results"
   ]
  },
  {
   "cell_type": "code",
   "execution_count": 22,
   "id": "9f8e5db2-e40b-48c4-a968-a9705ac23344",
   "metadata": {},
   "outputs": [
    {
     "name": "stdout",
     "output_type": "stream",
     "text": [
      "[2]: [[2]]\n",
      "\n",
      "[2, 2]: [[2, 2], [2, 2]]\n",
      "\n",
      "[2, 2, 3]: [[2, 2, 3], [2, 3, 2], [2, 2, 3], [2, 3, 2], [3, 2, 2], [3, 2, 2]]\n",
      "\n",
      "[2, 3, 4]: [[2, 3, 4], [2, 4, 3], [3, 2, 4], [3, 4, 2], [4, 2, 3], [4, 3, 2]]\n",
      "\n"
     ]
    }
   ],
   "source": [
    "# Examples\n",
    "list = [2]\n",
    "result = permute(list)\n",
    "print(f\"{list}: {result}\\n\")\n",
    "\n",
    "list = [2, 2]\n",
    "result = permute(list)\n",
    "print(f\"{list}: {result}\\n\")\n",
    "\n",
    "list = [2, 2, 3]\n",
    "result = permute(list)\n",
    "print(f\"{list}: {result}\\n\")\n",
    "\n",
    "list = [2, 3, 4]\n",
    "result = permute(list)\n",
    "print(f\"{list}: {result}\\n\")"
   ]
  },
  {
   "cell_type": "markdown",
   "id": "318ac5d3-ba2d-4717-8652-0599f3806bf8",
   "metadata": {},
   "source": [
    "--------------------"
   ]
  },
  {
   "cell_type": "markdown",
   "id": "6dee8c35-37ba-4f00-960f-b6addb5504a5",
   "metadata": {},
   "source": [
    "--------------------"
   ]
  },
  {
   "cell_type": "markdown",
   "id": "0700b48e-3891-4091-aa21-c8a1ac197a3f",
   "metadata": {},
   "source": [
    "### Weighted sampling"
   ]
  },
  {
   "cell_type": "markdown",
   "id": "3ae50ddf-c7b1-4a4b-a197-8e1b442597fe",
   "metadata": {},
   "source": [
    "**26. Given a list of several categories (e.g. A, B, C, and D) sample from the list of categories according to a particular weighting scheme. For example, say we give A a relative weight of 5, B a weight of 10, C a weight of 15 and D a weight of 20. How do we construct this sampling? How do you extend the solution to an arbitrarily large number of k categories?**\n",
    "\n",
    "\n",
    "Source: Ace the Data Science Interview, Question 9.20"
   ]
  },
  {
   "cell_type": "markdown",
   "id": "e4ea1916-8c33-4165-aecc-b02bda06a217",
   "metadata": {},
   "source": [
    "--------------------"
   ]
  },
  {
   "cell_type": "markdown",
   "id": "31903551-8f78-4c9a-a7d7-45e9a72441e4",
   "metadata": {},
   "source": [
    "--------------------"
   ]
  },
  {
   "cell_type": "markdown",
   "id": "5d2c93da-f222-46e6-9c03-bceb142469a5",
   "metadata": {},
   "source": [
    "### Contiguous subarray: length"
   ]
  },
  {
   "cell_type": "markdown",
   "id": "60dacb2a-058e-4096-b01b-f0b23f0cb85b",
   "metadata": {},
   "source": [
    "**27. Given two arrays with integers, return the maximum length of a common subarray within both arrays.** \n",
    "\n",
    "* Example 1:\n",
    "\n",
    "    Input arrays: [1, 3, 5, 6, 7] and [2, 4, 3, 5, 6]\n",
    "\n",
    "    Return 3, since the length of the maximum common subarray [3, 5, 6] is 3.\n",
    "\n",
    "\n",
    "Source: Ace the Data Science Interview, Question 9.21"
   ]
  },
  {
   "cell_type": "markdown",
   "id": "f305061e-727c-40cf-9f7b-ffea512edaca",
   "metadata": {},
   "source": [
    "--------------------"
   ]
  },
  {
   "cell_type": "markdown",
   "id": "d0244b67-ae34-491b-81cc-25d49b1ee82c",
   "metadata": {},
   "source": [
    "--------------------"
   ]
  },
  {
   "cell_type": "markdown",
   "id": "c3c3ffd4-3584-42a3-816d-9a901c15f208",
   "metadata": {},
   "source": [
    "### Contiguous subarray: sum"
   ]
  },
  {
   "cell_type": "markdown",
   "id": "aa942e6b-d31e-4fc2-bb90-9c93f2abfafe",
   "metadata": {},
   "source": [
    "**28. Given a list positive integers, return the maximum increasing subsequence sum. In other words, return the sum of the largest increasing subsequence within the input array.**\n",
    "\n",
    "* Example 1:\n",
    "\n",
    "    Input array: [3, 2, 5, 7, 6]\n",
    "\n",
    "    Return 15 because it's the sum of 3, 5, 7\n",
    "\n",
    "* Example 2:\n",
    "\n",
    "    Input array: [5, 4, 3, 2, 1]\n",
    "\n",
    "    Return 5 since no subsequence is increasing\n",
    "\n",
    "\n",
    "Source: Ace the Data Science Interview, Question 9.22"
   ]
  },
  {
   "cell_type": "markdown",
   "id": "43f97d65-b53a-4f99-8fe6-a362c6349272",
   "metadata": {},
   "source": [
    "--------------------"
   ]
  },
  {
   "cell_type": "markdown",
   "id": "153dbb0b-e100-4783-acb2-12b008d02407",
   "metadata": {},
   "source": [
    "--------------------"
   ]
  },
  {
   "cell_type": "markdown",
   "id": "16b7d3ba-7c0d-41fe-a2f4-788814bf203e",
   "metadata": {},
   "source": [
    "### Perfect squares"
   ]
  },
  {
   "cell_type": "markdown",
   "id": "6311a989-3d64-4aeb-970b-49b796bd3422",
   "metadata": {},
   "source": [
    "**29. Given a positive integer n, find the smallest number of perfect squares that sum up to n**\n",
    "\n",
    "* Example 1:\n",
    "\n",
    "    n = 7\n",
    "\n",
    "    Return 4 since 7 = 4 + 1 + 1 + 1\n",
    "\n",
    "* Example 2:\n",
    "\n",
    "    n = 13\n",
    "\n",
    "    Return 2 since 13 = 9 + 4\n",
    "\n",
    "\n",
    "Source: Ace the Data Science Interview, Question 9.23"
   ]
  },
  {
   "cell_type": "markdown",
   "id": "ee95a6bf-b17e-42d1-9713-ccfdfb24fe95",
   "metadata": {},
   "source": [
    "--------------------"
   ]
  },
  {
   "cell_type": "markdown",
   "id": "536c3b2b-5fa4-4579-b0c3-e5b2a988525d",
   "metadata": {},
   "source": [
    "--------------------"
   ]
  },
  {
   "cell_type": "markdown",
   "id": "d3576f45-8976-4510-9b67-23ea2a167f3f",
   "metadata": {},
   "source": [
    "### Combinations"
   ]
  },
  {
   "cell_type": "markdown",
   "id": "c9cad5b2-aa74-49be-81c3-754666d0cca2",
   "metadata": {},
   "source": [
    "**30. Given an integer n and an integer k, output a list of all the combinations of k numbers chosen from 1 to n.**\n",
    "\n",
    "* Example 1:\n",
    "\n",
    "    n = 3, k = 2\n",
    "\n",
    "    Return [1, 2], [1, 3], [2, 3]\n",
    "\n",
    "\n",
    "Source: Ace the Data Science Interview, Question 9.24"
   ]
  },
  {
   "cell_type": "markdown",
   "id": "d0cef6c9-f63f-472a-9c50-fe6b6ec76ca0",
   "metadata": {},
   "source": [
    "--------------------"
   ]
  },
  {
   "cell_type": "markdown",
   "id": "4314dc41-5e09-4365-8ce0-aa1118c56d70",
   "metadata": {},
   "source": [
    "--------------------"
   ]
  },
  {
   "cell_type": "markdown",
   "id": "3cc5fae3-d590-422a-a844-ce11bcdaf66b",
   "metadata": {},
   "source": [
    "### Factorial trailing zeros"
   ]
  },
  {
   "cell_type": "markdown",
   "id": "cef79d1c-9534-4385-9ebb-55fd51ce4cc1",
   "metadata": {},
   "source": [
    "**31. Write a function that returns the number of trailing zeros in n!**\n",
    "\n",
    "* Example 1:\n",
    "\n",
    "    n = 5\n",
    "\n",
    "    Return 1, as 5! = 120\n",
    "\n",
    "Source DataLemur, Python Question \"Factorial Trailing Zeros\""
   ]
  },
  {
   "cell_type": "code",
   "execution_count": 37,
   "id": "13ee5005-41c6-4693-9710-8bdd8d802e2e",
   "metadata": {},
   "outputs": [],
   "source": [
    "def trailing_zeroes_1(n):\n",
    "    \"\"\"\n",
    "    Solution\n",
    "    \"\"\"\n",
    "\n",
    "    def factorial(n):\n",
    "        \"\"\" \n",
    "        Return factorial\n",
    "        \"\"\"\n",
    "        answer = 1\n",
    "        for i in range(1, n+1):\n",
    "            answer = answer * i\n",
    "        return answer\n",
    "\n",
    "    # Call factorial function\n",
    "    n_factorial = factorial(n)\n",
    "\n",
    "    # Initialise zero_count tracker\n",
    "    zero_count = 0\n",
    "\n",
    "    # If factorial divisible by 10, add to counter & return divided figure\n",
    "    while n_factorial % 10 == 0:\n",
    "        zero_count += 1\n",
    "        n_factorial //= 10\n",
    "\n",
    "    return zero_count"
   ]
  },
  {
   "cell_type": "code",
   "execution_count": 36,
   "id": "753ac3eb-4e1f-410d-8346-ef7670e41683",
   "metadata": {},
   "outputs": [
    {
     "name": "stdout",
     "output_type": "stream",
     "text": [
      "2\n",
      "2: 0\n",
      "\n",
      "3628800\n",
      "10: 2\n",
      "\n"
     ]
    }
   ],
   "source": [
    "# Examples\n",
    "list = 2\n",
    "result = trailing_zeroes_1(list)\n",
    "print(f\"{list}: {result}\\n\")\n",
    "\n",
    "list = 10\n",
    "result = trailing_zeroes_1(list)\n",
    "print(f\"{list}: {result}\\n\")"
   ]
  },
  {
   "cell_type": "code",
   "execution_count": 40,
   "id": "814c98e1-b6c2-434f-b64d-f56e87505efb",
   "metadata": {},
   "outputs": [],
   "source": [
    "def trailing_zeroes_2(n):\n",
    "    \"\"\"\n",
    "    Solution\n",
    "    \"\"\"\n",
    "    def factorial(n):\n",
    "        \"\"\"\n",
    "        Return factorial - a recursive solution\n",
    "        \"\"\"\n",
    "        # Base case (used to terminate the function)\n",
    "        if n == 0:\n",
    "            return 1\n",
    "        # Recursive call (where the function is called again)\n",
    "        else: \n",
    "            return n* factorial(n-1)\n",
    "\n",
    "    # Call factorial function\n",
    "    n_factorial = factorial(n)\n",
    "\n",
    "    # Initialise zero_count tracker\n",
    "    zero_count = 0\n",
    "\n",
    "    # If factorial divisible by 10, add to counter & return divided figure\n",
    "    while n_factorial % 10 == 0:\n",
    "        zero_count += 1\n",
    "        n_factorial //= 10\n",
    "\n",
    "    return zero_count"
   ]
  },
  {
   "cell_type": "code",
   "execution_count": 42,
   "id": "2aa4d19e-01fe-4833-944d-757cbc2e5e03",
   "metadata": {},
   "outputs": [
    {
     "name": "stdout",
     "output_type": "stream",
     "text": [
      "2: 0\n",
      "\n",
      "20: 4\n",
      "\n"
     ]
    }
   ],
   "source": [
    "# Examples\n",
    "list = 2\n",
    "result = trailing_zeroes_2(list)\n",
    "print(f\"{list}: {result}\\n\")\n",
    "\n",
    "list = 20\n",
    "result = trailing_zeroes_2(list)\n",
    "print(f\"{list}: {result}\\n\")"
   ]
  },
  {
   "cell_type": "markdown",
   "id": "a8c7fc1f-3f4a-40bf-8d2f-7bb2da8c260e",
   "metadata": {},
   "source": [
    "--------------------"
   ]
  },
  {
   "cell_type": "markdown",
   "id": "981d615a-928b-46b5-8373-24a9e01f0c72",
   "metadata": {},
   "source": [
    "--------------------"
   ]
  },
  {
   "cell_type": "markdown",
   "id": "e877e5e9-a11d-4d1e-8e2a-a1291b3e6eb2",
   "metadata": {},
   "source": [
    "### Maximum product"
   ]
  },
  {
   "cell_type": "markdown",
   "id": "7b581a28-621a-468b-887e-5af7bb06d9fb",
   "metadata": {},
   "source": [
    "**32. Given a list return the maximum product of any three numbers in the array**\n",
    "\n",
    "* Example 1:\n",
    "\n",
    "    Input [1, 3, 4, 5]\n",
    "\n",
    "    Return 60 as 3×4×5 = 60\n",
    "\n",
    "* Example 2:\n",
    "\n",
    "    Input [-4, -2, 3, 5]\n",
    "\n",
    "    Return 40 as -4×-2×5 = 40\n",
    "\n",
    "Source DataLemur, Python Question \"Maximum product of three numbers\""
   ]
  },
  {
   "cell_type": "markdown",
   "id": "e8a6a2ce-c195-4492-ab26-bbeef38cb565",
   "metadata": {},
   "source": [
    "**Solution 1**\n",
    "\n",
    "* Brute force\n",
    "* Computes the product of every triplet.\n",
    "* If a triplet product is larger than previously seen, the max_product variable is updated. At the end, it returns the max_product varaible."
   ]
  },
  {
   "cell_type": "markdown",
   "id": "95d007e4-ac80-47b4-a773-c1ea68b6c696",
   "metadata": {},
   "source": [
    "**_Overall time complexity:_** $O(N^3)$"
   ]
  },
  {
   "cell_type": "markdown",
   "id": "ee65d3d6-038a-4dea-bb78-8dd7c43777a7",
   "metadata": {},
   "source": [
    "**_Overall space complexity:_**"
   ]
  },
  {
   "cell_type": "code",
   "execution_count": 25,
   "id": "ecaaa759-1e9a-4aaa-b70a-5af56e5d0232",
   "metadata": {},
   "outputs": [],
   "source": [
    "def max_three(input):\n",
    "\n",
    "    # Calculate max product for first three elements\n",
    "    max_product = input[0] * input[1] * input[2]\n",
    "\n",
    "    # Iterates from index 0 to the third to last element\n",
    "    for i in range(len(input)-2):\n",
    "        \n",
    "        # Iterates from index 1 to the second to last element\n",
    "        for j in range(i+1, len(input)-1):\n",
    "\n",
    "            # Iterates from index 2 to the last element\n",
    "            for k in range(j+1, len(input)):\n",
    "\n",
    "                # Calculate current product\n",
    "                cur_product = input[i] * input[j] * input[k]\n",
    "\n",
    "                # Update max product\n",
    "                if cur_product > max_product:\n",
    "                    max_product = cur_product\n",
    "                    \n",
    "    return max_product"
   ]
  },
  {
   "cell_type": "code",
   "execution_count": 30,
   "id": "d84389b3-acbb-47aa-8da7-e3ed7235ac12",
   "metadata": {},
   "outputs": [
    {
     "name": "stdout",
     "output_type": "stream",
     "text": [
      "[1, 3, 4, 5]: 60\n",
      "\n",
      "[-4, -2, 3, 5]: 40\n",
      "\n"
     ]
    }
   ],
   "source": [
    "# Examples\n",
    "list = [1, 3, 4, 5]\n",
    "result = max_three(list)\n",
    "print(f\"{list}: {result}\\n\")\n",
    "\n",
    "list = [-4, -2, 3, 5]\n",
    "result = max_three(list)\n",
    "print(f\"{list}: {result}\\n\")"
   ]
  },
  {
   "cell_type": "markdown",
   "id": "020e6742-2903-4977-b219-2c5043bdf998",
   "metadata": {},
   "source": [
    "**Solution 2**\n",
    "\n",
    "* Optimal\n",
    "* If all of the numbers were positive, then the maximum product of three numbers is a matter of finding the largest three numbers in the array and multiplying them\n",
    "* However, with negative integers, the largest product could arise if we take the two smallest numbers (both could be negative) and multiply that result by the largest positive number. We’d need to compare this potential product to the number involving just the largest three numbers."
   ]
  },
  {
   "cell_type": "markdown",
   "id": "ebe685e8-c8d0-4cc4-a230-d9a2bddafce2",
   "metadata": {},
   "source": [
    "**_Overall time complexity:_** $O(N)$"
   ]
  },
  {
   "cell_type": "markdown",
   "id": "d15ff089-c972-439f-bae8-5c90e4d6bc6f",
   "metadata": {},
   "source": [
    "**_Overall space complexity:_** $O(1)$"
   ]
  },
  {
   "cell_type": "code",
   "execution_count": 28,
   "id": "9f59a645-5dc7-4132-98dd-16827472c26c",
   "metadata": {},
   "outputs": [],
   "source": [
    "def max_three_2(input):\n",
    "    a = heapq.nlargest(3, input)\n",
    "    b = heapq.nsmallest(2, input)\n",
    "    return max(a[2]*a[1]*a[0], b[1]*b[0]*a[0]) "
   ]
  },
  {
   "cell_type": "code",
   "execution_count": 29,
   "id": "e4f3e6ed-cd01-4ab7-8bf0-c69fbff5ee8a",
   "metadata": {},
   "outputs": [
    {
     "name": "stdout",
     "output_type": "stream",
     "text": [
      "[1, 3, 4, 5]: 60\n",
      "\n",
      "[-4, -2, 3, 5]: 40\n",
      "\n"
     ]
    }
   ],
   "source": [
    "# Examples\n",
    "list = [1, 3, 4, 5]\n",
    "result = max_three_2(list)\n",
    "print(f\"{list}: {result}\\n\")\n",
    "\n",
    "list = [-4, -2, 3, 5]\n",
    "result = max_three_2(list)\n",
    "print(f\"{list}: {result}\\n\")"
   ]
  },
  {
   "cell_type": "markdown",
   "id": "6452f90f-f6c9-48ef-a0e2-25c7acc79519",
   "metadata": {},
   "source": [
    "--------------------"
   ]
  },
  {
   "cell_type": "markdown",
   "id": "9ad7dfde-4982-48c0-8a9c-e6e9d9cf6630",
   "metadata": {},
   "source": [
    "--------------------"
   ]
  },
  {
   "cell_type": "markdown",
   "id": "aaede89f-1ab6-4196-b69a-b959b547c05f",
   "metadata": {},
   "source": [
    "### Sum"
   ]
  },
  {
   "cell_type": "markdown",
   "id": "35752f20-cdec-4328-8c78-21fd0a0560c9",
   "metadata": {},
   "source": [
    "**33. Given a list of integers called input, and an integer target. Return the index of the two numbers which sum to the target. Do not use the same element twice**\n",
    "\n",
    "Notes: Assume there aren't multiple solutions. If there is no valid solution return [-1, 1]. Return the indexes in increasing order.\n",
    "\n",
    "* Example 1:\n",
    "\n",
    "    Input = [1, 4, 6, 10] & target = 10\n",
    "\n",
    "    Return [1, 2]\n",
    "\n",
    "* Example 2:\n",
    "\n",
    "    Input = [1, 4, 6, 10] & target = 11\n",
    "\n",
    "    Return [0, 3]\n",
    "\n",
    "* Example 3:\n",
    "\n",
    "    Input = [1, 4, 6, 10] & target = 2\n",
    "\n",
    "    Return [-1, 1]\n",
    "\n",
    "Source DataLemur, Python Question \"Two sum\""
   ]
  },
  {
   "cell_type": "code",
   "execution_count": 44,
   "id": "51f9fdc3-7d5c-4acc-a7ed-aa6f20acd81c",
   "metadata": {},
   "outputs": [],
   "source": [
    "def two_sum(list, target):\n",
    "    \"\"\"\n",
    "    Sub optimal solution - calculate sum for every doublet until target reached.\n",
    "    \"\"\"\n",
    "    # Outer loop over list\n",
    "    for i in range(len(input)):\n",
    "\n",
    "        # Inner loop over list\n",
    "        for j in range(i + 1, len(input)):\n",
    "\n",
    "            # Compare sum of (i,j) doublet to target\n",
    "            if input[i] + input[j] == target:\n",
    "                return [i, j]\n",
    "    return [-1, -1]"
   ]
  },
  {
   "cell_type": "code",
   "execution_count": 45,
   "id": "4ff1ffb2-5222-4c96-a14a-a629fb2688e1",
   "metadata": {},
   "outputs": [],
   "source": [
    "def two_sum(list, target):\n",
    "    \"\"\"\n",
    "    Optimal solution\n",
    "    \"\"\"\n",
    "    # Initialise dictionary for tracking array elements\n",
    "    d = {}\n",
    "\n",
    "    # Loop over array\n",
    "    for i in range(len(input)):\n",
    "\n",
    "        # Initialise current value\n",
    "        cur_value = input[i]\n",
    "\n",
    "        # Compute difference w.r.t target\n",
    "        complement = target - cur_value\n",
    "\n",
    "        # Check if difference present in dictionary - if so, return doublet\n",
    "        if complement in d:\n",
    "            return [d[complement], i]\n",
    "\n",
    "        # Update dictionary with array element\n",
    "        d[cur_value] = i\n",
    "\n",
    "    return [-1, -1]"
   ]
  },
  {
   "cell_type": "markdown",
   "id": "e7b798c3-4c9b-40ef-910c-1cdffc016a27",
   "metadata": {},
   "source": [
    "--------------------"
   ]
  },
  {
   "cell_type": "markdown",
   "id": "f223ca20-a3ec-4221-a8eb-e64b7ad69f4d",
   "metadata": {},
   "source": [
    "--------------------"
   ]
  },
  {
   "cell_type": "markdown",
   "id": "42baafe1-547c-4241-80f3-f13af52e08b7",
   "metadata": {},
   "source": [
    "### Prime factor"
   ]
  },
  {
   "cell_type": "markdown",
   "id": "dbc75d4e-7535-44aa-9f09-5404ce9ec02b",
   "metadata": {},
   "source": [
    "**34. Given a target number, write a function to return the largest prime factor of that target number**\n",
    "\n",
    "* Example 1:\n",
    "\n",
    "    Target = 42\n",
    "\n",
    "    Return 7 as the prime factors are 2, 3 and 7\n",
    "\n",
    "* Example 2:\n",
    "\n",
    "    Target = 25\n",
    "\n",
    "    Return 5 as the prime factors are 5 and 5\n",
    "\n",
    "Source DataLemur, Python Question \"Largest prime factor\""
   ]
  },
  {
   "cell_type": "code",
   "execution_count": 54,
   "id": "ec6aacfa-7685-4ad2-bb82-3ce77ff2f765",
   "metadata": {},
   "outputs": [],
   "source": [
    "def largest_prime_factor(target):\n",
    "    \"\"\"\n",
    "    Find the largest prime factor of a given integer.\n",
    "    Iteratively divides the target by its prime factors, starting from the smallest prime (2) and moving to larger primes.\n",
    "    \"\"\"\n",
    "\n",
    "    # Initialise tracker for prime factor with smallest prime factor (2)\n",
    "    i = 2\n",
    "\n",
    "    # While loop until square of i exceeds target\n",
    "    while i * i <= target:\n",
    "\n",
    "        # If target IS NOT divisible by i, increments i by 1\n",
    "        if (target % i) != 0:\n",
    "            i += 1\n",
    "\n",
    "         # If i is a factor, divide target by i\n",
    "        else:\n",
    "            target //= i\n",
    "            print(target)\n",
    "    return target"
   ]
  },
  {
   "cell_type": "code",
   "execution_count": 56,
   "id": "977a7b81-3bf3-46ee-ab46-525108603828",
   "metadata": {},
   "outputs": [
    {
     "name": "stdout",
     "output_type": "stream",
     "text": [
      "5: 5\n",
      "\n"
     ]
    }
   ],
   "source": [
    "# Examples\n",
    "# target = 42\n",
    "# result = largest_prime_factor(target)\n",
    "# print(f\"{target}: {result}\\n\")\n",
    "\n",
    "# target = 25\n",
    "# result = largest_prime_factor(target)\n",
    "# print(f\"{target}: {result}\\n\")\n",
    "\n",
    "target = 5\n",
    "result = largest_prime_factor(target)\n",
    "print(f\"{target}: {result}\\n\")"
   ]
  },
  {
   "cell_type": "markdown",
   "id": "382bddde-7c7c-49e6-802d-f2ab7d8d0fd2",
   "metadata": {},
   "source": [
    "--------------------"
   ]
  },
  {
   "cell_type": "markdown",
   "id": "061a952c-e24d-4bf1-b138-fea6f1aee96a",
   "metadata": {},
   "source": [
    "--------------------"
   ]
  },
  {
   "cell_type": "markdown",
   "id": "30db2910-29c8-4e5e-9733-55f05880e77f",
   "metadata": {},
   "source": [
    "### Smallest multiple"
   ]
  },
  {
   "cell_type": "markdown",
   "id": "2a75dc39-a65c-4162-a530-f3635676062f",
   "metadata": {},
   "source": [
    "**35. Write a function to find the smallest number that is perfectly divisible (i.e. no remainder) by all numbers from 1 to a target number.**\n",
    "\n",
    "* Example 1:\n",
    "\n",
    "    Target = 5\n",
    "\n",
    "    Return 60 as it is the smallest number divisible by 1, 2, 3, 4, 5\n",
    "\n",
    "Source DataLemur, Python Question \"Smallest multiple\""
   ]
  },
  {
   "cell_type": "code",
   "execution_count": null,
   "id": "79b09966-9529-4453-affe-116e7188bb21",
   "metadata": {},
   "outputs": [],
   "source": [
    "def smallest_multiple(target):\n",
    "    for i in range(2, 1000000):\n",
    "        perfectly_divisible = True\n",
    "        for j in range(1, target+1):\n",
    "            if (i % j != 0):\n",
    "                perfectly_divisible = False\n",
    "                break\n",
    "        if (perfectly_divisible == True):\n",
    "            return i"
   ]
  },
  {
   "cell_type": "code",
   "execution_count": null,
   "id": "119cc2c6-b9a8-45f0-a8dc-24006f69c259",
   "metadata": {},
   "outputs": [],
   "source": []
  },
  {
   "cell_type": "markdown",
   "id": "f7110e5c-ec9e-4a03-8c63-7e469fb66474",
   "metadata": {},
   "source": [
    "--------------------"
   ]
  },
  {
   "cell_type": "markdown",
   "id": "7c8bbea8-2b6f-4988-aad1-4ecfe9be1a04",
   "metadata": {},
   "source": [
    "--------------------"
   ]
  },
  {
   "cell_type": "markdown",
   "id": "04a03877-3336-450c-a981-1855c568ef67",
   "metadata": {},
   "source": [
    "### Merge conflict"
   ]
  },
  {
   "cell_type": "markdown",
   "id": "13b81bcb-4c37-4c93-97f4-4530a752f704",
   "metadata": {},
   "source": [
    "**36. Imagine you are working on a code version control system website (like GitHub). You are given a list of pull requests and each element within the list represents a range of lines that were changed in a specific pull request. Write a function which returns True or False depending on where there is a merge conflict.**\n",
    "\n",
    "Notes: A merge conflict means two pull requests are trying to change the same exact lines.\n",
    "\n",
    "* Example 1:\n",
    "\n",
    "    Pull requests: [[5, 10], [15, 40], [25, 50]]\n",
    "\n",
    "    Return True because there is a merge conflict between lines 25 and 40\n",
    "\n",
    "* Example 1:\n",
    "\n",
    "    Pull requests: [[30, 40], [10, 20], [5, 8]]\n",
    "\n",
    "    Return False as there is no merge conflict.\n",
    "\n",
    "Source DataLemur, Python Question \"Merge conflicts\""
   ]
  },
  {
   "cell_type": "markdown",
   "id": "1c899d77-4e4d-4862-9e15-aec4042bd2dd",
   "metadata": {},
   "source": [
    "--------------------"
   ]
  },
  {
   "cell_type": "markdown",
   "id": "f50b26a6-fa4f-45d2-9394-c431fb09b315",
   "metadata": {},
   "source": [
    "--------------------"
   ]
  },
  {
   "cell_type": "markdown",
   "id": "ba01619f-daff-454e-9b96-65adc62e1cd4",
   "metadata": {},
   "source": [
    "### Contiguous subarray: sum"
   ]
  },
  {
   "cell_type": "markdown",
   "id": "298b7d4d-d60a-476c-9e5e-2f2017e1f459",
   "metadata": {},
   "source": [
    "**37. Given an integer array, find the sum of the largest contiguous subarray within the array. If all elements are negative return zero**\n",
    "\n",
    "* Example 1:\n",
    "\n",
    "    Input: [-1, -3, 5, -4, 3, -6, 9, 2]\n",
    "\n",
    "    Return 11 because of [9, 2]\n",
    "\n",
    "Source DataLemur, Python Question \"Largest contiguous subarray sum\""
   ]
  },
  {
   "cell_type": "markdown",
   "id": "c1cd9def-ab21-44ed-8e5f-3d1dcb4a9688",
   "metadata": {},
   "source": [
    "--------------------------"
   ]
  },
  {
   "cell_type": "markdown",
   "id": "03790ada-c75d-42cc-8db3-d10816dce096",
   "metadata": {},
   "source": [
    "--------------------"
   ]
  },
  {
   "cell_type": "markdown",
   "id": "54cbc12d-6bb0-423a-bbb9-70cff20baa80",
   "metadata": {},
   "source": [
    "## Hard questions"
   ]
  },
  {
   "cell_type": "markdown",
   "id": "608a38e2-9220-4870-b277-f09e34a8b592",
   "metadata": {},
   "source": [
    "**38. Given a string with left and right parentheses, write a function to determine the length of the longest well formed substring.**\n",
    "\n",
    "* Example 1:\n",
    "\n",
    "    Input string: \")(())(,\"\n",
    "\n",
    "    Return string \"(())\"\n",
    "\n",
    "Source: Ace the Data Science Interview, Question 9.25"
   ]
  },
  {
   "cell_type": "markdown",
   "id": "053d27e9-696d-4dda-9f9a-7f5f271aa051",
   "metadata": {},
   "source": [
    "**39. Given an m-by-n matrix with positive integers, determine the length of the longest path of increasing integers within the matrix.**\n",
    "\n",
    "* Example 1:\n",
    "\n",
    "    Input matrix: [[1, 2, 3], [4, 5, 6], [7, 8, 9]]\n",
    "\n",
    "    Return 5 since the longest path is 1-2-5-6-9\n",
    "\n",
    "Source: Ace the Data Science Interview, Question 9.26"
   ]
  },
  {
   "cell_type": "markdown",
   "id": "5e4c1b0a-48aa-428e-8254-f7029928e131",
   "metadata": {},
   "source": [
    "**40. Given a number n, return the number of lists of consecutive positive integers that sum up to n. Solve in linear time.**\n",
    "\n",
    "* Example 1:\n",
    "\n",
    "    n = 9\n",
    "\n",
    "    Return 3 since the consecutive positive integer lists are [2, 3, 4], [4, 5] and [9]\n",
    "\n",
    "Source: Ace the Data Science Interview, Question 9.27"
   ]
  },
  {
   "cell_type": "markdown",
   "id": "06ad5237-0162-42b0-b552-47aebfa0146e",
   "metadata": {},
   "source": [
    "**41. Given a continuous stream of integers, write a class with functions to add new integers to the stream, and a function to calculate the median at any time.**\n",
    "\n",
    "Source: Ace the Data Science Interview, Question 9.28"
   ]
  },
  {
   "cell_type": "markdown",
   "id": "951bd06b-4143-4d55-aa25-4fdbf7a2cb51",
   "metadata": {},
   "source": [
    "**42. Given an input string and a regex, write a function that checks whether the regex matches the input string. The input string is composed of the lowercase letters a-z. The regular expression contains lowercase a-z, '?', or '*'.**\n",
    "\n",
    "Notes: '?' matches any one character and '*' matches an arbitrary number of characters (empty as well)\n",
    "\n",
    "* Example 1:\n",
    "\n",
    "    Input string \"abcdba\" and regex \"a*c?*\"\n",
    "\n",
    "    Return True\n",
    "\n",
    "* Example 2:\n",
    "\n",
    "    Input string \"abcdba\" and regex \"b*c?*\"\n",
    "\n",
    "    Return False\n",
    "\n",
    "Source: Ace the Data Science Interview, Question 9.29"
   ]
  },
  {
   "cell_type": "markdown",
   "id": "61e8a0dc-ce10-4068-96e7-b04b349a72cf",
   "metadata": {},
   "source": [
    "**43. A fire department wants to build a new fire station in a location where the total distance from the station to all houses in the town (in Euclidean terms) is minimized. Given a list of coordinates for the n houses, return the coordinates of the optimal location for the new fire station**\n",
    "\n",
    "Source: Ace the Data Science Interview, Question 9.30"
   ]
  },
  {
   "cell_type": "markdown",
   "id": "b3902371-0682-4ee9-8856-007da0ba4053",
   "metadata": {},
   "source": [
    "## Multiple choice"
   ]
  },
  {
   "cell_type": "markdown",
   "id": "b7256543-7f95-421e-989b-382c14f08758",
   "metadata": {},
   "source": [
    "**Q. What among the given will be the correct output?**\n",
    "    \n",
    "    import hashlib\n",
    "    m = hashlib.sha512()\n",
    "    h1 = hashlib.pbkdf2_hmac('sha512', b'password', b'salt', 100, m.block_size)\n",
    "    h2 = hashlib.pbkdf2_hmac('sha512', b'pass', b'salt', 100)\n",
    "    print(len(h1))\n",
    "    print(len(h2))\n",
    "\n",
    "    (a) 64\n",
    "        32\n",
    "\n",
    "    (b) 64\n",
    "        16\n",
    "\n",
    "    (c) 128\n",
    "        64\n",
    "\n",
    "    (d) 128\n",
    "        32"
   ]
  },
  {
   "cell_type": "code",
   "execution_count": 18,
   "id": "0040d36f-8c66-4c88-a2fb-d888ab3f83e8",
   "metadata": {},
   "outputs": [
    {
     "name": "stdout",
     "output_type": "stream",
     "text": [
      "128\n",
      "64\n"
     ]
    }
   ],
   "source": [
    "import hashlib\n",
    "m = hashlib.sha512()\n",
    "h1 = hashlib.pbkdf2_hmac('sha512', b'password', b'salt', 100, m.block_size)\n",
    "h2 = hashlib.pbkdf2_hmac('sha512', b'pass', b'salt', 100)\n",
    "print(len(h1))\n",
    "print(len(h2))"
   ]
  }
 ],
 "metadata": {
  "kernelspec": {
   "display_name": "nl2vis",
   "language": "python",
   "name": "nl2vis"
  },
  "language_info": {
   "codemirror_mode": {
    "name": "ipython",
    "version": 3
   },
   "file_extension": ".py",
   "mimetype": "text/x-python",
   "name": "python",
   "nbconvert_exporter": "python",
   "pygments_lexer": "ipython3",
   "version": "3.10.12"
  }
 },
 "nbformat": 4,
 "nbformat_minor": 5
}
