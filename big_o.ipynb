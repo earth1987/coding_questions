{
 "cells": [
  {
   "cell_type": "markdown",
   "id": "65cb5568-b2d5-427c-967b-c92d9d0b630c",
   "metadata": {},
   "source": [
    "## Big O notation\n",
    "https://www.youtube.com/watch?v=BgLTDT03QtU"
   ]
  },
  {
   "cell_type": "markdown",
   "id": "f62e57f5-ad94-41df-9393-5d19ed053b75",
   "metadata": {},
   "source": [
    "### Intro\n",
    "\n",
    "* Used to classify algorithms in terms of their efficiency as the input size approaches infinity\n",
    "  \n",
    "* It tells us how space/time requirements *scale* with input size\n",
    "\n",
    "  **Note:** It does NOT tell us the precise running time (which will depend on hardware and usage)\n",
    "\n",
    "***Runtime complexity classes***\n",
    "\n",
    "For an array of size N, the following classes are ascending order for execution time@\n",
    "1. O(1) - execution time does not depend on input size\n",
    "2. O(log N)\n",
    "3. O(N)\n",
    "4. O(N log N)\n",
    "5. O(N^2)\n",
    "6. O(N^3)\n",
    "7. O(2^N)\n",
    "8. O(N!)\n",
    "\n",
    "***Rules***\n",
    "1. If the growth function is a sum of several terms, the one with the largest growth rate can be kept and the others ommitted.\n",
    "2. If the growth function is a product of several factors, any consitants that don't depend on input size can be ommitted"
   ]
  },
  {
   "cell_type": "markdown",
   "id": "7cc6dcba-abe6-496b-8e7e-c8d8221de0c0",
   "metadata": {},
   "source": [
    " -------------------------------------------"
   ]
  },
  {
   "cell_type": "markdown",
   "id": "300bc63a-9014-4158-a85e-94b51e2286cd",
   "metadata": {},
   "source": [
    "### 1. Constant time - O(1)\n",
    "\n",
    "***Basics***\n",
    "1. Adding/removing elements at the end of an array\n",
    "2. Searching for a key in a hash table\n",
    "3. Getting values at a specific index of an array\n",
    "4. Adding/removing key, value pairs in a hash table"
   ]
  },
  {
   "cell_type": "code",
   "execution_count": null,
   "id": "3071f2fe-0f9d-4e07-b968-058b14312162",
   "metadata": {},
   "outputs": [],
   "source": [
    "# O(1) for an array of values\n",
    "nums = [1, 2, 3, 4, 5]\n",
    "\n",
    "nums.append(4) # Add to the end\n",
    "nums.pop() # Remove from the end\n",
    "nums[3] # Get a value at a particular index"
   ]
  },
  {
   "cell_type": "code",
   "execution_count": null,
   "id": "d89a167d-f8e7-4371-ab3f-1c8098209146",
   "metadata": {},
   "outputs": [],
   "source": [
    "# O(1) for a hash table / hash set\n",
    "hash_table = {}\n",
    "\n",
    "hash_table['key'] = 10 # Insert key, value pair\n",
    "print('key' in hash_table) # Searching for a key\n",
    "print(hash_table['key']) # Lookup value\n",
    "hash_table.pop('key') # Remove key, value pair"
   ]
  },
  {
   "cell_type": "markdown",
   "id": "f1dde636-05c0-408f-adc0-6db067b268a9",
   "metadata": {},
   "source": [
    "-------------------------------------------------------------"
   ]
  },
  {
   "cell_type": "markdown",
   "id": "15ae6b27-a9af-4b79-9a51-4bf37cdc7c28",
   "metadata": {},
   "source": [
    "### 2. Logarithmic time (log N)\n",
    "Scales very slowly with input size. For example, with 2 billion points:\n",
    "* O(log N) = log_2(2billion) = 30\n",
    "* O(N) = 2 billion"
   ]
  },
  {
   "cell_type": "markdown",
   "id": "8590eb88-fd65-4610-bbfd-01ecfb6d79c4",
   "metadata": {},
   "source": [
    "***Algorithms***\n",
    "* Binary search on an array\n",
    "* Binary search on a balanced binary search tree\n",
    "* Pushing and popping from a heap"
   ]
  },
  {
   "cell_type": "code",
   "execution_count": 7,
   "id": "a6043dc4-a72e-49f8-bde6-19d35ba08d87",
   "metadata": {},
   "outputs": [
    {
     "ename": "SyntaxError",
     "evalue": "expected ':' (2170531384.py, line 49)",
     "output_type": "error",
     "traceback": [
      "\u001b[1;36m  Cell \u001b[1;32mIn[7], line 49\u001b[1;36m\u001b[0m\n\u001b[1;33m    else self.nums[mid] = target:\u001b[0m\n\u001b[1;37m         ^\u001b[0m\n\u001b[1;31mSyntaxError\u001b[0m\u001b[1;31m:\u001b[0m expected ':'\n"
     ]
    }
   ],
   "source": [
    "# Binary search on an array\n",
    "class BinarySearch:\n",
    "    def __init__(self, array):\n",
    "        self.nums = array\n",
    "        \n",
    "\n",
    "    def search_array(self, target):\n",
    "        \"\"\"Given an array of integers, nums, which is sorted in ascending order, \n",
    "        and an integer target, write a function to search target in nums.\n",
    "        If target exists, then return its index. Otherwise, return -1.\n",
    "        \"\"\"\n",
    "        low = 0\n",
    "        high = len(self.nums) - 1\n",
    "        mid = 0\n",
    "        \n",
    "        while low <= high:\n",
    "            mid = low + (high - low) // 2 # floor division\n",
    "            \n",
    "            if self.nums[mid] > target:\n",
    "                high = mid-1\n",
    "                \n",
    "            elif self.nums[mid] < target:\n",
    "                low = mid + 1\n",
    "                \n",
    "            else: # self.nums[mid] = target\n",
    "                return mid       \n",
    "        return -1\n",
    "\n",
    "nums = BinarySearch([1, 2, 3, 4, 5, 6])\n",
    "nums.search_array(100)"
   ]
  },
  {
   "cell_type": "markdown",
   "id": "08768f75-4268-4f73-a198-bd122beaec0c",
   "metadata": {},
   "source": [
    "--------------------------------------------------------------------------------"
   ]
  },
  {
   "cell_type": "markdown",
   "id": "07d431a1-bede-4317-8f11-bfcacadf13bb",
   "metadata": {},
   "source": [
    "### 3. Linear time - O(N)\n",
    "\n",
    "***Basics***\n",
    "1. Summing elements in an array\n",
    "2. Looping through elements in a 1-D array\n",
    "3. Searching an array for an element in an arbitrary position\n",
    "4. Inserting into an arbitrary position (not at the end) - as each element must be shifted along the index\n",
    "5. Removing from an arbitrary position (not at the end) - as each element must be shifted along the index\n",
    "\n",
    "Note: The latter 3 are worse case scenarios. But we assume the worse in Big O notation.\n"
   ]
  },
  {
   "cell_type": "code",
   "execution_count": null,
   "id": "72992087-98dc-4540-9ac6-bde19ab108e6",
   "metadata": {},
   "outputs": [],
   "source": [
    "# O(n) for an array\n",
    "nums = [1, 2, 3, 4, 5]\n",
    "\n",
    "print(sum(nums)) # Sum function\n",
    "for i in nums: print(i) # For loop\n",
    "print(100 in nums) # Searching an array\n",
    "nums.insert(3, 100) # Inserting into arbitrary position (not the end)\n",
    "nums.remove(100) # Removing from an arbitrary position (not the end)"
   ]
  },
  {
   "cell_type": "markdown",
   "id": "3d7034ff-c5e0-4478-9a46-99ad5109bd6c",
   "metadata": {},
   "source": [
    "***Algorithms***\n",
    "1. Sliding window algorithm"
   ]
  },
  {
   "cell_type": "code",
   "execution_count": null,
   "id": "6a3199e3-2886-440b-8d72-a1ece6e76b96",
   "metadata": {},
   "outputs": [],
   "source": [
    "# Sliding window algorithm\n",
    "def maxProfit(prices):\n",
    "    \"\"\"Best Time to Buy And Sell Stock\n",
    "    Returns the maximum profit given a sequence of stock prices\n",
    "    \"\"\"\n",
    "    profit = 0\n",
    "    lowest = prices[0]\n",
    "    \n",
    "    for price in prices[1:]:\n",
    "        if price < lowest:\n",
    "            lowest = price\n",
    "        elif price - lowest > profit:\n",
    "            profit = price - lowest\n",
    "\n",
    "    return profit\n",
    "\n",
    "list_prices = [1, 2, 3, 4, 5]\n",
    "maxProfit(list_prices)"
   ]
  },
  {
   "cell_type": "code",
   "execution_count": null,
   "id": "7744c8be-1f07-4de1-91d7-4ec8b31dc422",
   "metadata": {},
   "outputs": [],
   "source": [
    "# Sliding window algorithm\n",
    "def lengthOfLongestSubstring(string):\n",
    "    \"\"\"Longest Substring Without Repeating Characters\"\"\"\n",
    "    repeats = dict()\n",
    "    start = 0\n",
    "    longest = 0\n",
    "\n",
    "    for i, char in enumerate(string):\n",
    "        if char in repeats and repeats[char] >= start:\n",
    "            start = repeats[char] + 1\n",
    "                \n",
    "        repeats[char] = i\n",
    "\n",
    "        if longest < i - start + 1:\n",
    "            longest = i - start + 1\n",
    "    \n",
    "    return longest\n",
    "\n",
    "input_string = 'Bobby'\n",
    "lengthOfLongestSubstring(input_string)"
   ]
  },
  {
   "cell_type": "markdown",
   "id": "d848d96d-3b40-40d5-be43-439a5d80bb38",
   "metadata": {},
   "source": [
    "-----------------------------------------------------------------"
   ]
  },
  {
   "cell_type": "markdown",
   "id": "4347b92c-3ce2-45a6-959f-2b92c21344cd",
   "metadata": {},
   "source": [
    "### 4. Log-linear time - O(N logN)"
   ]
  },
  {
   "cell_type": "markdown",
   "id": "0488f04e-fcef-4809-beb7-1935ed9e82e3",
   "metadata": {},
   "source": [
    "***Algorithms***\n",
    "* Heap sort\n",
    "* Merge sort"
   ]
  },
  {
   "cell_type": "markdown",
   "id": "c74d5939-e341-4594-b931-886fa72fadf6",
   "metadata": {},
   "source": [
    "----------------------------------------------------------------------------------"
   ]
  },
  {
   "cell_type": "markdown",
   "id": "b6300ec5-2222-440b-bf9b-fd33aefc1620",
   "metadata": {},
   "source": [
    "### 5. Quadratic time - O(N<sup>2</sup>)\n",
    "\n",
    "***Basics***\n",
    "1. Traversing a square grid\n",
    "2. Getting every pair combination of elements in an array\n",
    "\n",
    "Note: Traversing a rectangular grid is O(N*M)."
   ]
  },
  {
   "cell_type": "code",
   "execution_count": null,
   "id": "9f01db66-7de5-47d6-8d84-7c4e739f3c2d",
   "metadata": {},
   "outputs": [],
   "source": [
    "# O(N^2) for an array\n",
    "\n",
    "# Traverse a square grid\n",
    "nums = [[1, 2, 3], [4, 5, 6], [7, 8, 9]]\n",
    "for i in range(len(nums)): \n",
    "    for j in range(len(nums[i])):\n",
    "        print(nums[i][j])\n",
    "\n",
    "# Get every pair combination of elements in an array\n",
    "nums = [1, 2, 3, 4, 5]\n",
    "for i in range(len(nums)): \n",
    "    for j in range(i+1, len(nums)):\n",
    "        print(nums[i], nums[j])"
   ]
  },
  {
   "cell_type": "markdown",
   "id": "2801080f-e6ad-4aec-8eda-c6f12692ca2f",
   "metadata": {},
   "source": [
    "***Algorithms***\n",
    "1. Sorting using the insertion sort algorithm (insertion into the middle n times)"
   ]
  },
  {
   "cell_type": "code",
   "execution_count": 6,
   "id": "b9644de6-f07a-452e-847c-a130b59639b6",
   "metadata": {},
   "outputs": [
    {
     "data": {
      "text/plain": [
       "[5, 6, 11, 12, 13]"
      ]
     },
     "execution_count": 6,
     "metadata": {},
     "output_type": "execute_result"
    }
   ],
   "source": [
    "class InsertionSort:\n",
    "    def __init__(self, array):\n",
    "        self.nums = array\n",
    "\n",
    "    \n",
    "    def sort(self):\n",
    "        n = len(self.nums)  # Get the length of the array\n",
    "\n",
    "        if n <= 1:\n",
    "            return  # If the array has 0 or 1 element, it is already sorted, so return\n",
    "     \n",
    "        for i in range(1, n):  # Iterate over the array starting from the second element\n",
    "            key = self.nums[i]  # Store the current element as the key to be inserted in the right position\n",
    "            j = i-1\n",
    "            \n",
    "            while j >= 0 and key < self.nums[j]:  # Move elements greater than key one position ahead\n",
    "                self.nums[j+1] = self.nums[j]  # Shift elements to the right\n",
    "                j -= 1\n",
    "            self.nums[j+1] = key  # Insert the key in the correct position\n",
    "        \n",
    "        return self.nums\n",
    "\n",
    "array = InsertionSort([12, 11, 13, 5, 6])\n",
    "array.sort()"
   ]
  },
  {
   "cell_type": "markdown",
   "id": "ef90adfe-7d8f-4f84-bdd5-b14f9ddf26ca",
   "metadata": {},
   "source": [
    "---------------------------------------------------------------------------------------"
   ]
  },
  {
   "cell_type": "markdown",
   "id": "f5da7acc-09a0-41a7-b33d-d8b43c99c748",
   "metadata": {},
   "source": [
    "### 6. Cubic time - O(N<sup>3</sup>)\n",
    "\n",
    "***Basics***\n",
    "1. Getting every triplet combination of elements in an array"
   ]
  },
  {
   "cell_type": "code",
   "execution_count": null,
   "id": "25033d14-0763-4054-9769-b513363baa8b",
   "metadata": {},
   "outputs": [],
   "source": [
    "# Get every triplet combination of elements in an array\n",
    "nums = [1, 2, 3, 4, 5]\n",
    "\n",
    "for i in range(len(nums)): \n",
    "    for j in range(i+1, len(nums)):\n",
    "        for k in range(j+1, len(nums)):\n",
    "            print(nums[i], nums[j], nums[k])"
   ]
  },
  {
   "cell_type": "markdown",
   "id": "ce6d1300-ab0d-4c31-922a-ea14fac81a13",
   "metadata": {},
   "source": [
    "----------------------------------------------------------------------------"
   ]
  },
  {
   "cell_type": "markdown",
   "id": "02232b5b-fda9-49a5-b850-5664ef162bae",
   "metadata": {},
   "source": [
    "### 7. Exponential time - O(2<sup>N</sup>)\n",
    "* Larger base constants are some times applicable and these would scale faster with input size.\n",
    "\n",
    "***Basics***\n",
    "* Common with applications where there are branches of recursion\n",
    "\n",
    "***Algorithms***\n",
    "* Decision trees (N = depth)"
   ]
  },
  {
   "cell_type": "code",
   "execution_count": null,
   "id": "0ac6e4ee-8584-4478-874e-9f5ae7429688",
   "metadata": {},
   "outputs": [],
   "source": [
    "### O(2^N) - Two branches of recursion\n",
    "def recursion(i, nums):\n",
    "    if i == len(nums):\n",
    "        return 0\n",
    "    branch1 = recursion(i+1, nums)\n",
    "    branch2 = recursion(i+1, nums)"
   ]
  },
  {
   "cell_type": "code",
   "execution_count": null,
   "id": "2a756306-b4f9-40b9-87d3-312ab81c3a54",
   "metadata": {},
   "outputs": [],
   "source": [
    "### O(C^N) - C branches of recursion\n",
    "def recursion(i, nums, C):\n",
    "    if i == len(nums):\n",
    "        return 0\n",
    "    for j in range(i, i + c):\n",
    "        branch = recursion(j+1, nums)"
   ]
  },
  {
   "cell_type": "markdown",
   "id": "5b115b10-bea5-4974-9174-3a4c20ba12be",
   "metadata": {},
   "source": [
    "---------------------------------------------------------------------"
   ]
  },
  {
   "cell_type": "markdown",
   "id": "f48ae042-101d-436c-8a73-863685a80aa8",
   "metadata": {},
   "source": [
    "### 8. Factorial time - O(N!)\n",
    "* Very inefficient\n",
    "\n",
    "***Basics***\n",
    "* Finding all permutations of an array."
   ]
  },
  {
   "cell_type": "markdown",
   "id": "17b0ab14-b8c0-46a7-883a-a2de9e0edb2f",
   "metadata": {},
   "source": [
    "***Algorithms***\n",
    "* Travelling salesman"
   ]
  },
  {
   "cell_type": "markdown",
   "id": "85306b86-8ff0-4383-9ab2-fb2f01aa020e",
   "metadata": {},
   "source": [
    "---------------------------------------------------------------------------------"
   ]
  }
 ],
 "metadata": {
  "kernelspec": {
   "display_name": "topic_analyses",
   "language": "python",
   "name": "topic_analyses"
  },
  "language_info": {
   "codemirror_mode": {
    "name": "ipython",
    "version": 3
   },
   "file_extension": ".py",
   "mimetype": "text/x-python",
   "name": "python",
   "nbconvert_exporter": "python",
   "pygments_lexer": "ipython3",
   "version": "3.11.5"
  }
 },
 "nbformat": 4,
 "nbformat_minor": 5
}
